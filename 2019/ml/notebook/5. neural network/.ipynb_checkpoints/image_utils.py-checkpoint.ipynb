{
 "cells": [
  {
   "cell_type": "code",
   "execution_count": null,
   "metadata": {},
   "outputs": [],
   "source": [
    "import math\n",
    "import numpy as np\n",
    "from bokeh.plotting import show, figure\n",
    "from bokeh.layouts import gridplot\n",
    "\n",
    "\n",
    "def show_image_grid(images, labels=None, n_cols=4, rot90=0):\n",
    "\n",
    "    if labels is None:\n",
    "        labels = ['Unknown'] * len(images)\n",
    "\n",
    "    figs = []\n",
    "\n",
    "    for img, l in zip(images, labels):\n",
    "        p = figure(width=150, height=150, title=f'Label {l}')\n",
    "        p.axis.visible = False\n",
    "        p.xgrid.visible = False\n",
    "        p.ygrid.visible = False\n",
    "        img = np.rot90(img, k=rot90)\n",
    "        p.image(image=[img], x=0, dw=1, y=0, dh=1)\n",
    "        figs.append(p)\n",
    "\n",
    "    # 소수점 올림\n",
    "    n_rows = math.ceil(len(figs) / n_cols)\n",
    "    rows = []\n",
    "    for i in range(n_rows):\n",
    "        b = i * n_cols\n",
    "        e = (i+1) * n_cols\n",
    "        rows.append(figs[b:e])\n",
    "\n",
    "    # input = list of list\n",
    "    gp = gridplot(rows)\n",
    "    show(gp)\n",
    "\n",
    "    return rows"
   ]
  }
 ],
 "metadata": {
  "kernelspec": {
   "display_name": "Python 3",
   "language": "python",
   "name": "python3"
  },
  "language_info": {
   "codemirror_mode": {
    "name": "ipython",
    "version": 3
   },
   "file_extension": ".py",
   "mimetype": "text/x-python",
   "name": "python",
   "nbconvert_exporter": "python",
   "pygments_lexer": "ipython3",
   "version": "3.7.6"
  }
 },
 "nbformat": 4,
 "nbformat_minor": 2
}
