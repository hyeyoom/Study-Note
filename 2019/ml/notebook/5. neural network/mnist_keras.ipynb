{
 "cells": [
  {
   "cell_type": "code",
   "execution_count": 17,
   "metadata": {},
   "outputs": [
    {
     "name": "stdout",
     "output_type": "stream",
     "text": [
      "keras==2.3.1\n",
      "tensorflow==2.0.0\n"
     ]
    }
   ],
   "source": [
    "import keras\n",
    "import tensorflow\n",
    "\n",
    "print(f'keras=={keras.__version__}')\n",
    "print(f'tensorflow=={tensorflow.__version__}')"
   ]
  },
  {
   "cell_type": "code",
   "execution_count": 18,
   "metadata": {},
   "outputs": [],
   "source": [
    "import sys\n",
    "mnist_utils_path = '../fashion-mnist/utils/'\n",
    "mnist_data_path  = '../fashion-mnist/data/fashion/'\n",
    "sys.path.append(mnist_utils_path)"
   ]
  },
  {
   "cell_type": "code",
   "execution_count": 19,
   "metadata": {},
   "outputs": [
    {
     "data": {
      "text/html": [
       "\n",
       "    <div class=\"bk-root\">\n",
       "        <a href=\"https://bokeh.org\" target=\"_blank\" class=\"bk-logo bk-logo-small bk-logo-notebook\"></a>\n",
       "        <span id=\"2278\">Loading BokehJS ...</span>\n",
       "    </div>"
      ]
     },
     "metadata": {},
     "output_type": "display_data"
    },
    {
     "data": {
      "application/javascript": [
       "\n",
       "(function(root) {\n",
       "  function now() {\n",
       "    return new Date();\n",
       "  }\n",
       "\n",
       "  var force = true;\n",
       "\n",
       "  if (typeof root._bokeh_onload_callbacks === \"undefined\" || force === true) {\n",
       "    root._bokeh_onload_callbacks = [];\n",
       "    root._bokeh_is_loading = undefined;\n",
       "  }\n",
       "\n",
       "  var JS_MIME_TYPE = 'application/javascript';\n",
       "  var HTML_MIME_TYPE = 'text/html';\n",
       "  var EXEC_MIME_TYPE = 'application/vnd.bokehjs_exec.v0+json';\n",
       "  var CLASS_NAME = 'output_bokeh rendered_html';\n",
       "\n",
       "  /**\n",
       "   * Render data to the DOM node\n",
       "   */\n",
       "  function render(props, node) {\n",
       "    var script = document.createElement(\"script\");\n",
       "    node.appendChild(script);\n",
       "  }\n",
       "\n",
       "  /**\n",
       "   * Handle when an output is cleared or removed\n",
       "   */\n",
       "  function handleClearOutput(event, handle) {\n",
       "    var cell = handle.cell;\n",
       "\n",
       "    var id = cell.output_area._bokeh_element_id;\n",
       "    var server_id = cell.output_area._bokeh_server_id;\n",
       "    // Clean up Bokeh references\n",
       "    if (id != null && id in Bokeh.index) {\n",
       "      Bokeh.index[id].model.document.clear();\n",
       "      delete Bokeh.index[id];\n",
       "    }\n",
       "\n",
       "    if (server_id !== undefined) {\n",
       "      // Clean up Bokeh references\n",
       "      var cmd = \"from bokeh.io.state import curstate; print(curstate().uuid_to_server['\" + server_id + \"'].get_sessions()[0].document.roots[0]._id)\";\n",
       "      cell.notebook.kernel.execute(cmd, {\n",
       "        iopub: {\n",
       "          output: function(msg) {\n",
       "            var id = msg.content.text.trim();\n",
       "            if (id in Bokeh.index) {\n",
       "              Bokeh.index[id].model.document.clear();\n",
       "              delete Bokeh.index[id];\n",
       "            }\n",
       "          }\n",
       "        }\n",
       "      });\n",
       "      // Destroy server and session\n",
       "      var cmd = \"import bokeh.io.notebook as ion; ion.destroy_server('\" + server_id + \"')\";\n",
       "      cell.notebook.kernel.execute(cmd);\n",
       "    }\n",
       "  }\n",
       "\n",
       "  /**\n",
       "   * Handle when a new output is added\n",
       "   */\n",
       "  function handleAddOutput(event, handle) {\n",
       "    var output_area = handle.output_area;\n",
       "    var output = handle.output;\n",
       "\n",
       "    // limit handleAddOutput to display_data with EXEC_MIME_TYPE content only\n",
       "    if ((output.output_type != \"display_data\") || (!output.data.hasOwnProperty(EXEC_MIME_TYPE))) {\n",
       "      return\n",
       "    }\n",
       "\n",
       "    var toinsert = output_area.element.find(\".\" + CLASS_NAME.split(' ')[0]);\n",
       "\n",
       "    if (output.metadata[EXEC_MIME_TYPE][\"id\"] !== undefined) {\n",
       "      toinsert[toinsert.length - 1].firstChild.textContent = output.data[JS_MIME_TYPE];\n",
       "      // store reference to embed id on output_area\n",
       "      output_area._bokeh_element_id = output.metadata[EXEC_MIME_TYPE][\"id\"];\n",
       "    }\n",
       "    if (output.metadata[EXEC_MIME_TYPE][\"server_id\"] !== undefined) {\n",
       "      var bk_div = document.createElement(\"div\");\n",
       "      bk_div.innerHTML = output.data[HTML_MIME_TYPE];\n",
       "      var script_attrs = bk_div.children[0].attributes;\n",
       "      for (var i = 0; i < script_attrs.length; i++) {\n",
       "        toinsert[toinsert.length - 1].firstChild.setAttribute(script_attrs[i].name, script_attrs[i].value);\n",
       "      }\n",
       "      // store reference to server id on output_area\n",
       "      output_area._bokeh_server_id = output.metadata[EXEC_MIME_TYPE][\"server_id\"];\n",
       "    }\n",
       "  }\n",
       "\n",
       "  function register_renderer(events, OutputArea) {\n",
       "\n",
       "    function append_mime(data, metadata, element) {\n",
       "      // create a DOM node to render to\n",
       "      var toinsert = this.create_output_subarea(\n",
       "        metadata,\n",
       "        CLASS_NAME,\n",
       "        EXEC_MIME_TYPE\n",
       "      );\n",
       "      this.keyboard_manager.register_events(toinsert);\n",
       "      // Render to node\n",
       "      var props = {data: data, metadata: metadata[EXEC_MIME_TYPE]};\n",
       "      render(props, toinsert[toinsert.length - 1]);\n",
       "      element.append(toinsert);\n",
       "      return toinsert\n",
       "    }\n",
       "\n",
       "    /* Handle when an output is cleared or removed */\n",
       "    events.on('clear_output.CodeCell', handleClearOutput);\n",
       "    events.on('delete.Cell', handleClearOutput);\n",
       "\n",
       "    /* Handle when a new output is added */\n",
       "    events.on('output_added.OutputArea', handleAddOutput);\n",
       "\n",
       "    /**\n",
       "     * Register the mime type and append_mime function with output_area\n",
       "     */\n",
       "    OutputArea.prototype.register_mime_type(EXEC_MIME_TYPE, append_mime, {\n",
       "      /* Is output safe? */\n",
       "      safe: true,\n",
       "      /* Index of renderer in `output_area.display_order` */\n",
       "      index: 0\n",
       "    });\n",
       "  }\n",
       "\n",
       "  // register the mime type if in Jupyter Notebook environment and previously unregistered\n",
       "  if (root.Jupyter !== undefined) {\n",
       "    var events = require('base/js/events');\n",
       "    var OutputArea = require('notebook/js/outputarea').OutputArea;\n",
       "\n",
       "    if (OutputArea.prototype.mime_types().indexOf(EXEC_MIME_TYPE) == -1) {\n",
       "      register_renderer(events, OutputArea);\n",
       "    }\n",
       "  }\n",
       "\n",
       "  \n",
       "  if (typeof (root._bokeh_timeout) === \"undefined\" || force === true) {\n",
       "    root._bokeh_timeout = Date.now() + 5000;\n",
       "    root._bokeh_failed_load = false;\n",
       "  }\n",
       "\n",
       "  var NB_LOAD_WARNING = {'data': {'text/html':\n",
       "     \"<div style='background-color: #fdd'>\\n\"+\n",
       "     \"<p>\\n\"+\n",
       "     \"BokehJS does not appear to have successfully loaded. If loading BokehJS from CDN, this \\n\"+\n",
       "     \"may be due to a slow or bad network connection. Possible fixes:\\n\"+\n",
       "     \"</p>\\n\"+\n",
       "     \"<ul>\\n\"+\n",
       "     \"<li>re-rerun `output_notebook()` to attempt to load from CDN again, or</li>\\n\"+\n",
       "     \"<li>use INLINE resources instead, as so:</li>\\n\"+\n",
       "     \"</ul>\\n\"+\n",
       "     \"<code>\\n\"+\n",
       "     \"from bokeh.resources import INLINE\\n\"+\n",
       "     \"output_notebook(resources=INLINE)\\n\"+\n",
       "     \"</code>\\n\"+\n",
       "     \"</div>\"}};\n",
       "\n",
       "  function display_loaded() {\n",
       "    var el = document.getElementById(\"2278\");\n",
       "    if (el != null) {\n",
       "      el.textContent = \"BokehJS is loading...\";\n",
       "    }\n",
       "    if (root.Bokeh !== undefined) {\n",
       "      if (el != null) {\n",
       "        el.textContent = \"BokehJS \" + root.Bokeh.version + \" successfully loaded.\";\n",
       "      }\n",
       "    } else if (Date.now() < root._bokeh_timeout) {\n",
       "      setTimeout(display_loaded, 100)\n",
       "    }\n",
       "  }\n",
       "\n",
       "\n",
       "  function run_callbacks() {\n",
       "    try {\n",
       "      root._bokeh_onload_callbacks.forEach(function(callback) {\n",
       "        if (callback != null)\n",
       "          callback();\n",
       "      });\n",
       "    } finally {\n",
       "      delete root._bokeh_onload_callbacks\n",
       "    }\n",
       "    console.debug(\"Bokeh: all callbacks have finished\");\n",
       "  }\n",
       "\n",
       "  function load_libs(css_urls, js_urls, callback) {\n",
       "    if (css_urls == null) css_urls = [];\n",
       "    if (js_urls == null) js_urls = [];\n",
       "\n",
       "    root._bokeh_onload_callbacks.push(callback);\n",
       "    if (root._bokeh_is_loading > 0) {\n",
       "      console.debug(\"Bokeh: BokehJS is being loaded, scheduling callback at\", now());\n",
       "      return null;\n",
       "    }\n",
       "    if (js_urls == null || js_urls.length === 0) {\n",
       "      run_callbacks();\n",
       "      return null;\n",
       "    }\n",
       "    console.debug(\"Bokeh: BokehJS not loaded, scheduling load and callback at\", now());\n",
       "    root._bokeh_is_loading = css_urls.length + js_urls.length;\n",
       "\n",
       "    function on_load() {\n",
       "      root._bokeh_is_loading--;\n",
       "      if (root._bokeh_is_loading === 0) {\n",
       "        console.debug(\"Bokeh: all BokehJS libraries/stylesheets loaded\");\n",
       "        run_callbacks()\n",
       "      }\n",
       "    }\n",
       "\n",
       "    function on_error() {\n",
       "      console.error(\"failed to load \" + url);\n",
       "    }\n",
       "\n",
       "    for (var i = 0; i < css_urls.length; i++) {\n",
       "      var url = css_urls[i];\n",
       "      const element = document.createElement(\"link\");\n",
       "      element.onload = on_load;\n",
       "      element.onerror = on_error;\n",
       "      element.rel = \"stylesheet\";\n",
       "      element.type = \"text/css\";\n",
       "      element.href = url;\n",
       "      console.debug(\"Bokeh: injecting link tag for BokehJS stylesheet: \", url);\n",
       "      document.body.appendChild(element);\n",
       "    }\n",
       "\n",
       "    for (var i = 0; i < js_urls.length; i++) {\n",
       "      var url = js_urls[i];\n",
       "      var element = document.createElement('script');\n",
       "      element.onload = on_load;\n",
       "      element.onerror = on_error;\n",
       "      element.async = false;\n",
       "      element.src = url;\n",
       "      console.debug(\"Bokeh: injecting script tag for BokehJS library: \", url);\n",
       "      document.head.appendChild(element);\n",
       "    }\n",
       "  };var element = document.getElementById(\"2278\");\n",
       "  if (element == null) {\n",
       "    console.error(\"Bokeh: ERROR: autoload.js configured with elementid '2278' but no matching script tag was found. \")\n",
       "    return false;\n",
       "  }\n",
       "\n",
       "  function inject_raw_css(css) {\n",
       "    const element = document.createElement(\"style\");\n",
       "    element.appendChild(document.createTextNode(css));\n",
       "    document.body.appendChild(element);\n",
       "  }\n",
       "\n",
       "  \n",
       "  var js_urls = [\"https://cdn.pydata.org/bokeh/release/bokeh-1.4.0.min.js\", \"https://cdn.pydata.org/bokeh/release/bokeh-widgets-1.4.0.min.js\", \"https://cdn.pydata.org/bokeh/release/bokeh-tables-1.4.0.min.js\", \"https://cdn.pydata.org/bokeh/release/bokeh-gl-1.4.0.min.js\"];\n",
       "  var css_urls = [];\n",
       "  \n",
       "\n",
       "  var inline_js = [\n",
       "    function(Bokeh) {\n",
       "      Bokeh.set_log_level(\"info\");\n",
       "    },\n",
       "    function(Bokeh) {\n",
       "    \n",
       "    \n",
       "    }\n",
       "  ];\n",
       "\n",
       "  function run_inline_js() {\n",
       "    \n",
       "    if (root.Bokeh !== undefined || force === true) {\n",
       "      \n",
       "    for (var i = 0; i < inline_js.length; i++) {\n",
       "      inline_js[i].call(root, root.Bokeh);\n",
       "    }\n",
       "    if (force === true) {\n",
       "        display_loaded();\n",
       "      }} else if (Date.now() < root._bokeh_timeout) {\n",
       "      setTimeout(run_inline_js, 100);\n",
       "    } else if (!root._bokeh_failed_load) {\n",
       "      console.log(\"Bokeh: BokehJS failed to load within specified timeout.\");\n",
       "      root._bokeh_failed_load = true;\n",
       "    } else if (force !== true) {\n",
       "      var cell = $(document.getElementById(\"2278\")).parents('.cell').data().cell;\n",
       "      cell.output_area.append_execute_result(NB_LOAD_WARNING)\n",
       "    }\n",
       "\n",
       "  }\n",
       "\n",
       "  if (root._bokeh_is_loading === 0) {\n",
       "    console.debug(\"Bokeh: BokehJS loaded, going straight to plotting\");\n",
       "    run_inline_js();\n",
       "  } else {\n",
       "    load_libs(css_urls, js_urls, function() {\n",
       "      console.debug(\"Bokeh: BokehJS plotting callback run at\", now());\n",
       "      run_inline_js();\n",
       "    });\n",
       "  }\n",
       "}(window));"
      ],
      "application/vnd.bokehjs_load.v0+json": "\n(function(root) {\n  function now() {\n    return new Date();\n  }\n\n  var force = true;\n\n  if (typeof root._bokeh_onload_callbacks === \"undefined\" || force === true) {\n    root._bokeh_onload_callbacks = [];\n    root._bokeh_is_loading = undefined;\n  }\n\n  \n\n  \n  if (typeof (root._bokeh_timeout) === \"undefined\" || force === true) {\n    root._bokeh_timeout = Date.now() + 5000;\n    root._bokeh_failed_load = false;\n  }\n\n  var NB_LOAD_WARNING = {'data': {'text/html':\n     \"<div style='background-color: #fdd'>\\n\"+\n     \"<p>\\n\"+\n     \"BokehJS does not appear to have successfully loaded. If loading BokehJS from CDN, this \\n\"+\n     \"may be due to a slow or bad network connection. Possible fixes:\\n\"+\n     \"</p>\\n\"+\n     \"<ul>\\n\"+\n     \"<li>re-rerun `output_notebook()` to attempt to load from CDN again, or</li>\\n\"+\n     \"<li>use INLINE resources instead, as so:</li>\\n\"+\n     \"</ul>\\n\"+\n     \"<code>\\n\"+\n     \"from bokeh.resources import INLINE\\n\"+\n     \"output_notebook(resources=INLINE)\\n\"+\n     \"</code>\\n\"+\n     \"</div>\"}};\n\n  function display_loaded() {\n    var el = document.getElementById(\"2278\");\n    if (el != null) {\n      el.textContent = \"BokehJS is loading...\";\n    }\n    if (root.Bokeh !== undefined) {\n      if (el != null) {\n        el.textContent = \"BokehJS \" + root.Bokeh.version + \" successfully loaded.\";\n      }\n    } else if (Date.now() < root._bokeh_timeout) {\n      setTimeout(display_loaded, 100)\n    }\n  }\n\n\n  function run_callbacks() {\n    try {\n      root._bokeh_onload_callbacks.forEach(function(callback) {\n        if (callback != null)\n          callback();\n      });\n    } finally {\n      delete root._bokeh_onload_callbacks\n    }\n    console.debug(\"Bokeh: all callbacks have finished\");\n  }\n\n  function load_libs(css_urls, js_urls, callback) {\n    if (css_urls == null) css_urls = [];\n    if (js_urls == null) js_urls = [];\n\n    root._bokeh_onload_callbacks.push(callback);\n    if (root._bokeh_is_loading > 0) {\n      console.debug(\"Bokeh: BokehJS is being loaded, scheduling callback at\", now());\n      return null;\n    }\n    if (js_urls == null || js_urls.length === 0) {\n      run_callbacks();\n      return null;\n    }\n    console.debug(\"Bokeh: BokehJS not loaded, scheduling load and callback at\", now());\n    root._bokeh_is_loading = css_urls.length + js_urls.length;\n\n    function on_load() {\n      root._bokeh_is_loading--;\n      if (root._bokeh_is_loading === 0) {\n        console.debug(\"Bokeh: all BokehJS libraries/stylesheets loaded\");\n        run_callbacks()\n      }\n    }\n\n    function on_error() {\n      console.error(\"failed to load \" + url);\n    }\n\n    for (var i = 0; i < css_urls.length; i++) {\n      var url = css_urls[i];\n      const element = document.createElement(\"link\");\n      element.onload = on_load;\n      element.onerror = on_error;\n      element.rel = \"stylesheet\";\n      element.type = \"text/css\";\n      element.href = url;\n      console.debug(\"Bokeh: injecting link tag for BokehJS stylesheet: \", url);\n      document.body.appendChild(element);\n    }\n\n    for (var i = 0; i < js_urls.length; i++) {\n      var url = js_urls[i];\n      var element = document.createElement('script');\n      element.onload = on_load;\n      element.onerror = on_error;\n      element.async = false;\n      element.src = url;\n      console.debug(\"Bokeh: injecting script tag for BokehJS library: \", url);\n      document.head.appendChild(element);\n    }\n  };var element = document.getElementById(\"2278\");\n  if (element == null) {\n    console.error(\"Bokeh: ERROR: autoload.js configured with elementid '2278' but no matching script tag was found. \")\n    return false;\n  }\n\n  function inject_raw_css(css) {\n    const element = document.createElement(\"style\");\n    element.appendChild(document.createTextNode(css));\n    document.body.appendChild(element);\n  }\n\n  \n  var js_urls = [\"https://cdn.pydata.org/bokeh/release/bokeh-1.4.0.min.js\", \"https://cdn.pydata.org/bokeh/release/bokeh-widgets-1.4.0.min.js\", \"https://cdn.pydata.org/bokeh/release/bokeh-tables-1.4.0.min.js\", \"https://cdn.pydata.org/bokeh/release/bokeh-gl-1.4.0.min.js\"];\n  var css_urls = [];\n  \n\n  var inline_js = [\n    function(Bokeh) {\n      Bokeh.set_log_level(\"info\");\n    },\n    function(Bokeh) {\n    \n    \n    }\n  ];\n\n  function run_inline_js() {\n    \n    if (root.Bokeh !== undefined || force === true) {\n      \n    for (var i = 0; i < inline_js.length; i++) {\n      inline_js[i].call(root, root.Bokeh);\n    }\n    if (force === true) {\n        display_loaded();\n      }} else if (Date.now() < root._bokeh_timeout) {\n      setTimeout(run_inline_js, 100);\n    } else if (!root._bokeh_failed_load) {\n      console.log(\"Bokeh: BokehJS failed to load within specified timeout.\");\n      root._bokeh_failed_load = true;\n    } else if (force !== true) {\n      var cell = $(document.getElementById(\"2278\")).parents('.cell').data().cell;\n      cell.output_area.append_execute_result(NB_LOAD_WARNING)\n    }\n\n  }\n\n  if (root._bokeh_is_loading === 0) {\n    console.debug(\"Bokeh: BokehJS loaded, going straight to plotting\");\n    run_inline_js();\n  } else {\n    load_libs(css_urls, js_urls, function() {\n      console.debug(\"Bokeh: BokehJS plotting callback run at\", now());\n      run_inline_js();\n    });\n  }\n}(window));"
     },
     "metadata": {},
     "output_type": "display_data"
    }
   ],
   "source": [
    "from bokeh.plotting import output_notebook\n",
    "from image_utils import show_image_grid\n",
    "\n",
    "output_notebook()"
   ]
  },
  {
   "cell_type": "code",
   "execution_count": 20,
   "metadata": {},
   "outputs": [
    {
     "name": "stdout",
     "output_type": "stream",
     "text": [
      "(60000, 784)\n",
      "(60000,)\n",
      "(10000, 784)\n",
      "(10000,)\n",
      "10\n"
     ]
    }
   ],
   "source": [
    "import numpy as np\n",
    "from mnist_reader import load_mnist\n",
    "\n",
    "train, train_labels = load_mnist(mnist_data_path, kind='train')\n",
    "test, test_labels   = load_mnist(mnist_data_path, kind='t10k')\n",
    "\n",
    "n_classes = np.unique(train_labels).shape[0]\n",
    "\n",
    "print(train.shape)\n",
    "print(train_labels.shape)\n",
    "print(test.shape)\n",
    "print(test_labels.shape)\n",
    "print(n_classes)"
   ]
  },
  {
   "cell_type": "code",
   "execution_count": 21,
   "metadata": {},
   "outputs": [
    {
     "data": {
      "text/html": [
       "\n",
       "\n",
       "\n",
       "\n",
       "\n",
       "\n",
       "  <div class=\"bk-root\" id=\"ce2608d2-8a3d-4dce-9b6b-ff5ec5df7dfc\" data-root-id=\"2882\"></div>\n"
      ]
     },
     "metadata": {},
     "output_type": "display_data"
    },
    {
     "data": {
      "application/javascript": [
       "(function(root) {\n",
       "  function embed_document(root) {\n",
       "    \n",
       "  var docs_json = {\"f20b9beb-8865-430f-a846-0ac6eff80946\":{\"roots\":{\"references\":[{\"attributes\":{\"children\":[{\"id\":\"2881\",\"type\":\"ToolbarBox\"},{\"id\":\"2879\",\"type\":\"GridBox\"}]},\"id\":\"2882\",\"type\":\"Column\"},{\"attributes\":{\"callback\":null},\"id\":\"2571\",\"type\":\"DataRange1d\"},{\"attributes\":{},\"id\":\"2573\",\"type\":\"LinearScale\"},{\"attributes\":{},\"id\":\"2575\",\"type\":\"LinearScale\"},{\"attributes\":{\"formatter\":{\"id\":\"2837\",\"type\":\"BasicTickFormatter\"},\"ticker\":{\"id\":\"2578\",\"type\":\"BasicTicker\"},\"visible\":false},\"id\":\"2577\",\"type\":\"LinearAxis\"},{\"attributes\":{},\"id\":\"2583\",\"type\":\"BasicTicker\"},{\"attributes\":{},\"id\":\"2578\",\"type\":\"BasicTicker\"},{\"attributes\":{},\"id\":\"2345\",\"type\":\"ResetTool\"},{\"attributes\":{\"ticker\":{\"id\":\"2578\",\"type\":\"BasicTicker\"},\"visible\":false},\"id\":\"2581\",\"type\":\"Grid\"},{\"attributes\":{\"data_source\":{\"id\":\"2600\",\"type\":\"ColumnDataSource\"},\"glyph\":{\"id\":\"2601\",\"type\":\"Image\"},\"hover_glyph\":null,\"muted_glyph\":null,\"nonselection_glyph\":{\"id\":\"2603\",\"type\":\"Image\"},\"selection_glyph\":null,\"view\":{\"id\":\"2606\",\"type\":\"CDSView\"}},\"id\":\"2605\",\"type\":\"GlyphRenderer\"},{\"attributes\":{\"dimension\":1,\"ticker\":{\"id\":\"2583\",\"type\":\"BasicTicker\"},\"visible\":false},\"id\":\"2586\",\"type\":\"Grid\"},{\"attributes\":{\"formatter\":{\"id\":\"2835\",\"type\":\"BasicTickFormatter\"},\"ticker\":{\"id\":\"2583\",\"type\":\"BasicTicker\"},\"visible\":false},\"id\":\"2582\",\"type\":\"LinearAxis\"},{\"attributes\":{\"color_mapper\":{\"id\":\"2604\",\"type\":\"LinearColorMapper\"},\"dh\":{\"units\":\"data\",\"value\":1},\"dw\":{\"units\":\"data\",\"value\":1},\"image\":{\"field\":\"image\"},\"x\":{\"value\":0},\"y\":{\"value\":0}},\"id\":\"2603\",\"type\":\"Image\"},{\"attributes\":{\"color_mapper\":{\"id\":\"2643\",\"type\":\"LinearColorMapper\"},\"dh\":{\"units\":\"data\",\"value\":1},\"dw\":{\"units\":\"data\",\"value\":1},\"image\":{\"field\":\"image\"},\"x\":{\"value\":0},\"y\":{\"value\":0}},\"id\":\"2642\",\"type\":\"Image\"},{\"attributes\":{\"palette\":[\"#000000\",\"#252525\",\"#525252\",\"#737373\",\"#969696\",\"#bdbdbd\",\"#d9d9d9\",\"#f0f0f0\",\"#ffffff\"]},\"id\":\"2602\",\"type\":\"LinearColorMapper\"},{\"attributes\":{\"active_drag\":\"auto\",\"active_inspect\":\"auto\",\"active_multi\":null,\"active_scroll\":\"auto\",\"active_tap\":\"auto\",\"tools\":[{\"id\":\"2587\",\"type\":\"PanTool\"},{\"id\":\"2588\",\"type\":\"WheelZoomTool\"},{\"id\":\"2589\",\"type\":\"BoxZoomTool\"},{\"id\":\"2590\",\"type\":\"SaveTool\"},{\"id\":\"2591\",\"type\":\"ResetTool\"},{\"id\":\"2592\",\"type\":\"HelpTool\"}]},\"id\":\"2593\",\"type\":\"Toolbar\"},{\"attributes\":{\"callback\":null,\"data\":{\"image\":[{\"__ndarray__\":\"AABG5+1SAAMAAAAAAAAAAAAAAAQANE1fAQAAAAAASPf2ZwAEAAAAAAAAAAAAAAALAL//6gAAAAAAALTr+5cAAQACBAQFBQYEAgAAAACj8uQeAAAAAHf+3vTeAAAAAAAAAAAAAAAAAAAA/O7s/xAAAACy9uXu/wAAAAAOFBUWFQgAAAAAAP/p4v+sAAAAZf/h7f9RyPj75Onq7Ozl/+/iiAD/6eDyrQAAABf/5O//wP/w7ufm5ebl5uzu+/VR/+vV/6cAAAAA/+T09+Dd4ujp5+Xk6OTk5eDi6P/y2v9fAAAAAP/m9vTh5d3m5uTm4u7n4OHe6OLq+OD/FAAAAAD/5/rv3ePd4+bm5+Xr4+Hh5ezg7frh/1MAAAAA/+v36unr4ODk5ujo6eLj3+fq0Oz46P9YAAAAAPzv89339ebg5Obp6enj5eDs5tjt8uv/GwAAAADf8O/l/O3t3ubn5+Xn5efe7uTa8+jz9QAAAAAB/+rs5vjh893m5+fl5+Xn3+3l+ezh+tQAAAAAAK/04+/z2vXg5Ofn5efl59/s3ufs5f9aAAAAAACn+uH+7Nvx5ePn5+Xn5Obf6t3x8uP/ZgAAAAAAN/Pl++Xh6ubj5uTj5OXj5Ond8ffl/WUAAAAAAAD/7fLj4efk5Obl5OXm4+bi5vb15vgzAAAAAAAA4/D24OTl5OPk4+Lj5eHl3eX56uf1LwAAAAAAAOf05d/o5OTm5+Xk5ufk6OPd/+Lw4QAAAAAAAACM/uTm6Onq6+vr6+vq6Ono3P/l7+oAAAAAAAEAWPbe6efq6+vr6+vs7Orq6N/+3++xAAAAAAAEABj/5+bq6+zr6+vr7O3s7urf7+v/AAADAAAAAAAASfbh6e3v7Ovr6ejq7O3v5OL+UQAAAAAAAAABAACw/+vm5u/q7ff16+zp6uT7xwAAAQAAAAAAAAIAAKXp++/m8ObN3e7m8fv0zgAAAgAAAAAAAAAAAgAAAG/4/P////////F+HAAAAgAAAAAAAAAAAAAAAAAAAFUhAAAAHD8AAAAAAQEAAAAAAA==\",\"dtype\":\"uint8\",\"shape\":[28,28]}]},\"selected\":{\"id\":\"2840\",\"type\":\"Selection\"},\"selection_policy\":{\"id\":\"2839\",\"type\":\"UnionRenderers\"}},\"id\":\"2600\",\"type\":\"ColumnDataSource\"},{\"attributes\":{\"palette\":[\"#000000\",\"#252525\",\"#525252\",\"#737373\",\"#969696\",\"#bdbdbd\",\"#d9d9d9\",\"#f0f0f0\",\"#ffffff\"]},\"id\":\"2768\",\"type\":\"LinearColorMapper\"},{\"attributes\":{},\"id\":\"2587\",\"type\":\"PanTool\"},{\"attributes\":{},\"id\":\"2588\",\"type\":\"WheelZoomTool\"},{\"attributes\":{\"overlay\":{\"id\":\"2841\",\"type\":\"BoxAnnotation\"}},\"id\":\"2589\",\"type\":\"BoxZoomTool\"},{\"attributes\":{\"tools\":[{\"id\":\"2300\",\"type\":\"PanTool\"},{\"id\":\"2301\",\"type\":\"WheelZoomTool\"},{\"id\":\"2302\",\"type\":\"BoxZoomTool\"},{\"id\":\"2303\",\"type\":\"SaveTool\"},{\"id\":\"2304\",\"type\":\"ResetTool\"},{\"id\":\"2305\",\"type\":\"HelpTool\"},{\"id\":\"2341\",\"type\":\"PanTool\"},{\"id\":\"2342\",\"type\":\"WheelZoomTool\"},{\"id\":\"2343\",\"type\":\"BoxZoomTool\"},{\"id\":\"2344\",\"type\":\"SaveTool\"},{\"id\":\"2345\",\"type\":\"ResetTool\"},{\"id\":\"2346\",\"type\":\"HelpTool\"},{\"id\":\"2382\",\"type\":\"PanTool\"},{\"id\":\"2383\",\"type\":\"WheelZoomTool\"},{\"id\":\"2384\",\"type\":\"BoxZoomTool\"},{\"id\":\"2385\",\"type\":\"SaveTool\"},{\"id\":\"2386\",\"type\":\"ResetTool\"},{\"id\":\"2387\",\"type\":\"HelpTool\"},{\"id\":\"2423\",\"type\":\"PanTool\"},{\"id\":\"2424\",\"type\":\"WheelZoomTool\"},{\"id\":\"2425\",\"type\":\"BoxZoomTool\"},{\"id\":\"2426\",\"type\":\"SaveTool\"},{\"id\":\"2427\",\"type\":\"ResetTool\"},{\"id\":\"2428\",\"type\":\"HelpTool\"},{\"id\":\"2464\",\"type\":\"PanTool\"},{\"id\":\"2465\",\"type\":\"WheelZoomTool\"},{\"id\":\"2466\",\"type\":\"BoxZoomTool\"},{\"id\":\"2467\",\"type\":\"SaveTool\"},{\"id\":\"2468\",\"type\":\"ResetTool\"},{\"id\":\"2469\",\"type\":\"HelpTool\"},{\"id\":\"2505\",\"type\":\"PanTool\"},{\"id\":\"2506\",\"type\":\"WheelZoomTool\"},{\"id\":\"2507\",\"type\":\"BoxZoomTool\"},{\"id\":\"2508\",\"type\":\"SaveTool\"},{\"id\":\"2509\",\"type\":\"ResetTool\"},{\"id\":\"2510\",\"type\":\"HelpTool\"},{\"id\":\"2546\",\"type\":\"PanTool\"},{\"id\":\"2547\",\"type\":\"WheelZoomTool\"},{\"id\":\"2548\",\"type\":\"BoxZoomTool\"},{\"id\":\"2549\",\"type\":\"SaveTool\"},{\"id\":\"2550\",\"type\":\"ResetTool\"},{\"id\":\"2551\",\"type\":\"HelpTool\"},{\"id\":\"2587\",\"type\":\"PanTool\"},{\"id\":\"2588\",\"type\":\"WheelZoomTool\"},{\"id\":\"2589\",\"type\":\"BoxZoomTool\"},{\"id\":\"2590\",\"type\":\"SaveTool\"},{\"id\":\"2591\",\"type\":\"ResetTool\"},{\"id\":\"2592\",\"type\":\"HelpTool\"},{\"id\":\"2628\",\"type\":\"PanTool\"},{\"id\":\"2629\",\"type\":\"WheelZoomTool\"},{\"id\":\"2630\",\"type\":\"BoxZoomTool\"},{\"id\":\"2631\",\"type\":\"SaveTool\"},{\"id\":\"2632\",\"type\":\"ResetTool\"},{\"id\":\"2633\",\"type\":\"HelpTool\"},{\"id\":\"2669\",\"type\":\"PanTool\"},{\"id\":\"2670\",\"type\":\"WheelZoomTool\"},{\"id\":\"2671\",\"type\":\"BoxZoomTool\"},{\"id\":\"2672\",\"type\":\"SaveTool\"},{\"id\":\"2673\",\"type\":\"ResetTool\"},{\"id\":\"2674\",\"type\":\"HelpTool\"},{\"id\":\"2710\",\"type\":\"PanTool\"},{\"id\":\"2711\",\"type\":\"WheelZoomTool\"},{\"id\":\"2712\",\"type\":\"BoxZoomTool\"},{\"id\":\"2713\",\"type\":\"SaveTool\"},{\"id\":\"2714\",\"type\":\"ResetTool\"},{\"id\":\"2715\",\"type\":\"HelpTool\"},{\"id\":\"2751\",\"type\":\"PanTool\"},{\"id\":\"2752\",\"type\":\"WheelZoomTool\"},{\"id\":\"2753\",\"type\":\"BoxZoomTool\"},{\"id\":\"2754\",\"type\":\"SaveTool\"},{\"id\":\"2755\",\"type\":\"ResetTool\"},{\"id\":\"2756\",\"type\":\"HelpTool\"}]},\"id\":\"2880\",\"type\":\"ProxyToolbar\"},{\"attributes\":{},\"id\":\"2590\",\"type\":\"SaveTool\"},{\"attributes\":{},\"id\":\"2591\",\"type\":\"ResetTool\"},{\"attributes\":{\"overlay\":{\"id\":\"2787\",\"type\":\"BoxAnnotation\"}},\"id\":\"2343\",\"type\":\"BoxZoomTool\"},{\"attributes\":{},\"id\":\"2592\",\"type\":\"HelpTool\"},{\"attributes\":{\"palette\":[\"#000000\",\"#252525\",\"#525252\",\"#737373\",\"#969696\",\"#bdbdbd\",\"#d9d9d9\",\"#f0f0f0\",\"#ffffff\"]},\"id\":\"2356\",\"type\":\"LinearColorMapper\"},{\"attributes\":{\"below\":[{\"id\":\"2618\",\"type\":\"LinearAxis\"}],\"center\":[{\"id\":\"2622\",\"type\":\"Grid\"},{\"id\":\"2627\",\"type\":\"Grid\"}],\"left\":[{\"id\":\"2623\",\"type\":\"LinearAxis\"}],\"plot_height\":150,\"plot_width\":150,\"renderers\":[{\"id\":\"2646\",\"type\":\"GlyphRenderer\"}],\"title\":{\"id\":\"2608\",\"type\":\"Title\"},\"toolbar\":{\"id\":\"2634\",\"type\":\"Toolbar\"},\"toolbar_location\":null,\"x_range\":{\"id\":\"2610\",\"type\":\"DataRange1d\"},\"x_scale\":{\"id\":\"2614\",\"type\":\"LinearScale\"},\"y_range\":{\"id\":\"2612\",\"type\":\"DataRange1d\"},\"y_scale\":{\"id\":\"2616\",\"type\":\"LinearScale\"}},\"id\":\"2607\",\"subtype\":\"Figure\",\"type\":\"Plot\"},{\"attributes\":{\"palette\":[\"#000000\",\"#252525\",\"#525252\",\"#737373\",\"#969696\",\"#bdbdbd\",\"#d9d9d9\",\"#f0f0f0\",\"#ffffff\"]},\"id\":\"2358\",\"type\":\"LinearColorMapper\"},{\"attributes\":{\"palette\":[\"#000000\",\"#252525\",\"#525252\",\"#737373\",\"#969696\",\"#bdbdbd\",\"#d9d9d9\",\"#f0f0f0\",\"#ffffff\"]},\"id\":\"2604\",\"type\":\"LinearColorMapper\"},{\"attributes\":{\"source\":{\"id\":\"2600\",\"type\":\"ColumnDataSource\"}},\"id\":\"2606\",\"type\":\"CDSView\"},{\"attributes\":{\"text\":\"Label 5\"},\"id\":\"2608\",\"type\":\"Title\"},{\"attributes\":{\"callback\":null},\"id\":\"2610\",\"type\":\"DataRange1d\"},{\"attributes\":{\"color_mapper\":{\"id\":\"2358\",\"type\":\"LinearColorMapper\"},\"dh\":{\"units\":\"data\",\"value\":1},\"dw\":{\"units\":\"data\",\"value\":1},\"image\":{\"field\":\"image\"},\"x\":{\"value\":0},\"y\":{\"value\":0}},\"id\":\"2357\",\"type\":\"Image\"},{\"attributes\":{},\"id\":\"2344\",\"type\":\"SaveTool\"},{\"attributes\":{\"formatter\":{\"id\":\"2846\",\"type\":\"BasicTickFormatter\"},\"ticker\":{\"id\":\"2619\",\"type\":\"BasicTicker\"},\"visible\":false},\"id\":\"2618\",\"type\":\"LinearAxis\"},{\"attributes\":{\"callback\":null},\"id\":\"2612\",\"type\":\"DataRange1d\"},{\"attributes\":{},\"id\":\"2341\",\"type\":\"PanTool\"},{\"attributes\":{},\"id\":\"2342\",\"type\":\"WheelZoomTool\"},{\"attributes\":{},\"id\":\"2614\",\"type\":\"LinearScale\"},{\"attributes\":{\"color_mapper\":{\"id\":\"2317\",\"type\":\"LinearColorMapper\"},\"dh\":{\"units\":\"data\",\"value\":1},\"dw\":{\"units\":\"data\",\"value\":1},\"image\":{\"field\":\"image\"},\"x\":{\"value\":0},\"y\":{\"value\":0}},\"id\":\"2316\",\"type\":\"Image\"},{\"attributes\":{},\"id\":\"2616\",\"type\":\"LinearScale\"},{\"attributes\":{\"data_source\":{\"id\":\"2682\",\"type\":\"ColumnDataSource\"},\"glyph\":{\"id\":\"2683\",\"type\":\"Image\"},\"hover_glyph\":null,\"muted_glyph\":null,\"nonselection_glyph\":{\"id\":\"2685\",\"type\":\"Image\"},\"selection_glyph\":null,\"view\":{\"id\":\"2688\",\"type\":\"CDSView\"}},\"id\":\"2687\",\"type\":\"GlyphRenderer\"},{\"attributes\":{\"formatter\":{\"id\":\"2781\",\"type\":\"BasicTickFormatter\"},\"ticker\":{\"id\":\"2337\",\"type\":\"BasicTicker\"},\"visible\":false},\"id\":\"2336\",\"type\":\"LinearAxis\"},{\"attributes\":{\"callback\":null,\"data\":{\"image\":[{\"__ndarray__\":\"AAAAAAAATIJyd3l9fH2Jh4eCkosAAAEAAAAAAAAAAAACAKLg1vPw9PT07uzq1t28AAAAAAAAAAAAAAAAAAB/zsXNyczNz8zHycvSrAAAAAAAAAAAAAAAAAEAfM/F0s/T1NXRztDP0sYAAAEAAAAAAAAAAAABAHnPxNPP0tTUz8zQ0NDGAAABAAAAAAAAAAAAAgB20sPUz9LS187O0M/PzAAAAAAAAAAAAAAAAAIAc9XB09DSz9fNz9DNzMwAAAEAAAAAAAAAAAACAGnZwtLR0s7Vzc/RzcnKAAABAAAAAAAAAAAAAwBg3cPR0tLN083P0M3JzAAAAQAAAAAAAAAAAAMAUN3Gzc7Tz9DO0c7RxtQAAAEAAAAAAAAAAAAEAEveysjQ0s/PzdDOy8bXAAACAAAAAAAAAAAABABI3c/G0NLPz8zPz8jFvAAAAgAAAAAAAAAAAAUAStvRx87Rzs3Nzs3Jxr8CAAMAAAAAAAAAAAAFAE3azc3Mz83Mzs3KzcfFCwABAAAAAAAAAAABAwBb2sjUzM7NzM3OytTD1C4ABgEAAAAAAAAAAAAAa9rF1MzOzczMzsvWwOEvAAAAAAAAAAAAAAAAAKXSw8vJyMjIyMXA0MHenzYRAAAAAAAAAHHB1+HUye/8+v38+PX4+vzG0/jt37tqAAAAAADQ29Xez85XXExGTlNeWUc0ydjc09brpAAAAAAAnNTO1Ni9AEYNDBEQPCMqAM3g19bW4i0AAAAAAF/c0NbZ1wDN//uu/4vz/gDW19LU2vcAAAAAAAAm+tLWztsAMUdEO2cAYkYAyNfL0d7IAAAAAAAAAODczsrecT8zLTIwSS9LZczPzM7idAAAAAAAAACM3svLz+v4/Pf2+fX6+O7Uy8vH2zMAAAAAAAAAKeHIycjIyMjGxsTJx8fGysbI27wAAAAAAAAAAACk4NrRycnJyszXyMTGy9Tg3rAOAAAAAAAAAAAAAC2g5/7X2f/////s5NjbiDEAAAABAAAAAAAAAAAAAAAQhahXKzA2Z7wpAAAAAAEAAAAAAA==\",\"dtype\":\"uint8\",\"shape\":[28,28]}]},\"selected\":{\"id\":\"2786\",\"type\":\"Selection\"},\"selection_policy\":{\"id\":\"2785\",\"type\":\"UnionRenderers\"}},\"id\":\"2354\",\"type\":\"ColumnDataSource\"},{\"attributes\":{\"color_mapper\":{\"id\":\"2686\",\"type\":\"LinearColorMapper\"},\"dh\":{\"units\":\"data\",\"value\":1},\"dw\":{\"units\":\"data\",\"value\":1},\"image\":{\"field\":\"image\"},\"x\":{\"value\":0},\"y\":{\"value\":0}},\"id\":\"2685\",\"type\":\"Image\"},{\"attributes\":{\"palette\":[\"#000000\",\"#252525\",\"#525252\",\"#737373\",\"#969696\",\"#bdbdbd\",\"#d9d9d9\",\"#f0f0f0\",\"#ffffff\"]},\"id\":\"2727\",\"type\":\"LinearColorMapper\"},{\"attributes\":{\"palette\":[\"#000000\",\"#252525\",\"#525252\",\"#737373\",\"#969696\",\"#bdbdbd\",\"#d9d9d9\",\"#f0f0f0\",\"#ffffff\"]},\"id\":\"2684\",\"type\":\"LinearColorMapper\"},{\"attributes\":{\"active_drag\":\"auto\",\"active_inspect\":\"auto\",\"active_multi\":null,\"active_scroll\":\"auto\",\"active_tap\":\"auto\",\"tools\":[{\"id\":\"2669\",\"type\":\"PanTool\"},{\"id\":\"2670\",\"type\":\"WheelZoomTool\"},{\"id\":\"2671\",\"type\":\"BoxZoomTool\"},{\"id\":\"2672\",\"type\":\"SaveTool\"},{\"id\":\"2673\",\"type\":\"ResetTool\"},{\"id\":\"2674\",\"type\":\"HelpTool\"}]},\"id\":\"2675\",\"type\":\"Toolbar\"},{\"attributes\":{\"callback\":null},\"id\":\"2325\",\"type\":\"DataRange1d\"},{\"attributes\":{\"callback\":null,\"data\":{\"image\":[{\"__ndarray__\":\"AAAAAAAAAAAAAAAAAAAAAAAAAAAAAAAAAAAAAAADAB1EAAEAAAAAAAEAAJiztKKHWSYAAAAAAAAACQCgugAIAAAAAAIAAML//////////8pIAAAAAAoAj4AACgAAAAACAEH16e/w6+bf5fH9/P8tAAAIAKV4AAkAAAABAADP5ubt8/Lv6PTy5eD9pQAAAAC8aQACAAAAAgAt6er///Tz6/Te2+3w8MUAAgAAzFkAAgAAAAAArfKvJor//P/k0/Pt09/5YAMAANpAAAIAAAAAE++xAAAA3dC9xtj/zwAIXD4CAADkMQACAAAAAJHEAAAAAE3u2+nn/7UAAAAAAgA67hkAAgAJACPZHQABAAAA2fHQ0OiEAAQGBQEAdvAIAAAAAADDhAAIAAIAABWKKAAAAAABAAAAAJntCgACAACfrQAAAAEAAAAAAAAAAAABAAEAAADK4wYAAAC5zAAAAgABAAAAAgQEAwEAAAAAAAAU6eAAAADs+gEAAQQAAQAAAAAAAAAAAAAAAAAAae7mZVf/0gAAAAAAAQAAAAAAAAAAAAAAAAAAAK7j6P7/5dTRAAABAgEAAAEAAAAAAAAAAAAAABnu3d0vS8zG7QAAAgAAAAAAAAAAAAAAAAAAAACkvyoAAAnbt/9MAAQAAAEBAAAAAAAAAAAAAAAAEwAAAAAAtrX8qgAAAAUCAAAAAAAAAAAAAAAAAAAEAwEDAHfG8+sAAAAAABMAAAAAAAAAAAAAAAADAAABABrSzcex8cbhtsOzIwAFAAAAAAAAAAAAAAAAAQAW2criioZvOykXAAAAAgAAAAAAAAAAAAAAAAEASurn9B0AAAAAAAAAAAAAAAAAAAAAAAAAAAEAG9fn7D4AAgAJBQMDAAEBAAAAAAAAAAAAAAAGALD/2S0ABQAAAQEAAAEAAAEAAAAAAAAAAAAABwAypAAAAAAAAAABAQAAAAAAAAAAAAAAAAAAAAAAAAAAAAAAAAAAAAAAAAAAAAAAAAAAAAAAAAAAAAAAAAAAAAAAAAAAAAAAAAAAAAAAAAAAAA==\",\"dtype\":\"uint8\",\"shape\":[28,28]}]},\"selected\":{\"id\":\"2858\",\"type\":\"Selection\"},\"selection_policy\":{\"id\":\"2857\",\"type\":\"UnionRenderers\"}},\"id\":\"2682\",\"type\":\"ColumnDataSource\"},{\"attributes\":{},\"id\":\"2669\",\"type\":\"PanTool\"},{\"attributes\":{\"text\":\"Label 0\"},\"id\":\"2321\",\"type\":\"Title\"},{\"attributes\":{},\"id\":\"2670\",\"type\":\"WheelZoomTool\"},{\"attributes\":{\"overlay\":{\"id\":\"2859\",\"type\":\"BoxAnnotation\"}},\"id\":\"2671\",\"type\":\"BoxZoomTool\"},{\"attributes\":{},\"id\":\"2327\",\"type\":\"LinearScale\"},{\"attributes\":{},\"id\":\"2672\",\"type\":\"SaveTool\"},{\"attributes\":{},\"id\":\"2673\",\"type\":\"ResetTool\"},{\"attributes\":{},\"id\":\"2329\",\"type\":\"LinearScale\"},{\"attributes\":{},\"id\":\"2674\",\"type\":\"HelpTool\"},{\"attributes\":{\"ticker\":{\"id\":\"2332\",\"type\":\"BasicTicker\"},\"visible\":false},\"id\":\"2335\",\"type\":\"Grid\"},{\"attributes\":{\"below\":[{\"id\":\"2700\",\"type\":\"LinearAxis\"}],\"center\":[{\"id\":\"2704\",\"type\":\"Grid\"},{\"id\":\"2709\",\"type\":\"Grid\"}],\"left\":[{\"id\":\"2705\",\"type\":\"LinearAxis\"}],\"plot_height\":150,\"plot_width\":150,\"renderers\":[{\"id\":\"2728\",\"type\":\"GlyphRenderer\"}],\"title\":{\"id\":\"2690\",\"type\":\"Title\"},\"toolbar\":{\"id\":\"2716\",\"type\":\"Toolbar\"},\"toolbar_location\":null,\"x_range\":{\"id\":\"2692\",\"type\":\"DataRange1d\"},\"x_scale\":{\"id\":\"2696\",\"type\":\"LinearScale\"},\"y_range\":{\"id\":\"2694\",\"type\":\"DataRange1d\"},\"y_scale\":{\"id\":\"2698\",\"type\":\"LinearScale\"}},\"id\":\"2689\",\"subtype\":\"Figure\",\"type\":\"Plot\"},{\"attributes\":{\"callback\":null},\"id\":\"2323\",\"type\":\"DataRange1d\"},{\"attributes\":{},\"id\":\"2337\",\"type\":\"BasicTicker\"},{\"attributes\":{\"palette\":[\"#000000\",\"#252525\",\"#525252\",\"#737373\",\"#969696\",\"#bdbdbd\",\"#d9d9d9\",\"#f0f0f0\",\"#ffffff\"]},\"id\":\"2686\",\"type\":\"LinearColorMapper\"},{\"attributes\":{\"source\":{\"id\":\"2682\",\"type\":\"ColumnDataSource\"}},\"id\":\"2688\",\"type\":\"CDSView\"},{\"attributes\":{\"color_mapper\":{\"id\":\"2356\",\"type\":\"LinearColorMapper\"},\"dh\":{\"units\":\"data\",\"value\":1},\"dw\":{\"units\":\"data\",\"value\":1},\"image\":{\"field\":\"image\"},\"x\":{\"value\":0},\"y\":{\"value\":0}},\"id\":\"2355\",\"type\":\"Image\"},{\"attributes\":{\"formatter\":{\"id\":\"2783\",\"type\":\"BasicTickFormatter\"},\"ticker\":{\"id\":\"2332\",\"type\":\"BasicTicker\"},\"visible\":false},\"id\":\"2331\",\"type\":\"LinearAxis\"},{\"attributes\":{\"dimension\":1,\"ticker\":{\"id\":\"2337\",\"type\":\"BasicTicker\"},\"visible\":false},\"id\":\"2340\",\"type\":\"Grid\"},{\"attributes\":{\"text\":\"Label 0\"},\"id\":\"2690\",\"type\":\"Title\"},{\"attributes\":{\"callback\":null},\"id\":\"2692\",\"type\":\"DataRange1d\"},{\"attributes\":{\"callback\":null},\"id\":\"2694\",\"type\":\"DataRange1d\"},{\"attributes\":{},\"id\":\"2332\",\"type\":\"BasicTicker\"},{\"attributes\":{},\"id\":\"2696\",\"type\":\"LinearScale\"},{\"attributes\":{},\"id\":\"2698\",\"type\":\"LinearScale\"},{\"attributes\":{\"formatter\":{\"id\":\"2864\",\"type\":\"BasicTickFormatter\"},\"ticker\":{\"id\":\"2701\",\"type\":\"BasicTicker\"},\"visible\":false},\"id\":\"2700\",\"type\":\"LinearAxis\"},{\"attributes\":{},\"id\":\"2706\",\"type\":\"BasicTicker\"},{\"attributes\":{},\"id\":\"2701\",\"type\":\"BasicTicker\"},{\"attributes\":{\"ticker\":{\"id\":\"2701\",\"type\":\"BasicTicker\"},\"visible\":false},\"id\":\"2704\",\"type\":\"Grid\"},{\"attributes\":{\"palette\":[\"#000000\",\"#252525\",\"#525252\",\"#737373\",\"#969696\",\"#bdbdbd\",\"#d9d9d9\",\"#f0f0f0\",\"#ffffff\"]},\"id\":\"2725\",\"type\":\"LinearColorMapper\"},{\"attributes\":{\"dimension\":1,\"ticker\":{\"id\":\"2706\",\"type\":\"BasicTicker\"},\"visible\":false},\"id\":\"2709\",\"type\":\"Grid\"},{\"attributes\":{\"formatter\":{\"id\":\"2862\",\"type\":\"BasicTickFormatter\"},\"ticker\":{\"id\":\"2706\",\"type\":\"BasicTicker\"},\"visible\":false},\"id\":\"2705\",\"type\":\"LinearAxis\"},{\"attributes\":{\"color_mapper\":{\"id\":\"2727\",\"type\":\"LinearColorMapper\"},\"dh\":{\"units\":\"data\",\"value\":1},\"dw\":{\"units\":\"data\",\"value\":1},\"image\":{\"field\":\"image\"},\"x\":{\"value\":0},\"y\":{\"value\":0}},\"id\":\"2726\",\"type\":\"Image\"},{\"attributes\":{\"callback\":null,\"data\":{\"image\":[{\"__ndarray__\":\"AAAAAAMAEp5ueHlaU4VsUlVqcYdzAAMAAAAAAAAAAAAFACqzssX/zrjw4sjCxra7pwAFAAAAAAAAAAAABQAwr6W+zp2U2M6fmbGsq4EABQAAAAAAAAAAAAcAOK+nvNqepdvJppvHp66HAAUAAAAAAAAAAAAFADmsqrramKfGvqegzZ61igAFAAAAAAAAAAAABAAsq6ixzZ6quL6hr8Kdu2kABAAAAAAAAAAAAAQAFKalrb6opba/nbOzorRXAAQAAAAAAAAAAAADAAWepqazrqWtu5m5p6ylLwAEAAAAAAAAAAAAAQAApKqmqq+kprWas6CtmBIAAwAAAAAAAAAAAAACAICmoqeuoKazn62mpKsEAAIAAAAAAAAAAAAABABZq6CqrKGkrJ+sp52VAAEAAAAAAAAAAAAAAAUAMquloqyhoaifpqGhcgADAAAAAAAAAAAAAAADAByipaWnpKGhpqSbpjkABAAAAAAAAAAAAAAAAgAAoqSqoqWhpZukk6seAAQAAAAAAAAAAAAAAAEAAMimoaSkoKGeoJivGQABAAAAAAAAAAAAAAMDAADNsZmloqCeopueryUABQMBAAAAAAAAAAAAAAAAvruapKSinp2Zn7tSAAAAAAAAAAAAAAAAB5+EEry/qJ2hoJ6emKaZfhyuHwAAAAAAAAAAbKzJ8LmHvLKkoJugnp6uca/14Z1kAAAAAAAAAD2mmMHDjaWqm5qdnqSgmYB71qCRTwAAAAAAAAAVpqKVi6SqrKWhpqisoaCaeI2ZqjsAAAAAAAAAALmhobS8wr+2u7q7uru/rJeMm7EjAAAAAAAAAACerKu1vsG/u7OyuLS5tbKokZKvAgAAAAAAAAAAeK6kq6y5uLmrrq2otLGyqqCToQAAAAAAAAAAADuvoa65w667vry+u7qqtK+gmYcAAAAAAAAAAAAAr7ysvqi/zsaSxd3TvrW0prlCAAAAAAAAAAAAACK82c3n2dOZh5W72OzC2daYAAAAAAAAAAAAAAAAAHC5VQAAAAAAAABqyI4LAAAAAAAAAA==\",\"dtype\":\"uint8\",\"shape\":[28,28]}]},\"selected\":{\"id\":\"2867\",\"type\":\"Selection\"},\"selection_policy\":{\"id\":\"2866\",\"type\":\"UnionRenderers\"}},\"id\":\"2723\",\"type\":\"ColumnDataSource\"},{\"attributes\":{\"color_mapper\":{\"id\":\"2725\",\"type\":\"LinearColorMapper\"},\"dh\":{\"units\":\"data\",\"value\":1},\"dw\":{\"units\":\"data\",\"value\":1},\"image\":{\"field\":\"image\"},\"x\":{\"value\":0},\"y\":{\"value\":0}},\"id\":\"2724\",\"type\":\"Image\"},{\"attributes\":{},\"id\":\"2710\",\"type\":\"PanTool\"},{\"attributes\":{\"dimension\":1,\"ticker\":{\"id\":\"2378\",\"type\":\"BasicTicker\"},\"visible\":false},\"id\":\"2381\",\"type\":\"Grid\"},{\"attributes\":{\"data_source\":{\"id\":\"2395\",\"type\":\"ColumnDataSource\"},\"glyph\":{\"id\":\"2396\",\"type\":\"Image\"},\"hover_glyph\":null,\"muted_glyph\":null,\"nonselection_glyph\":{\"id\":\"2398\",\"type\":\"Image\"},\"selection_glyph\":null,\"view\":{\"id\":\"2401\",\"type\":\"CDSView\"}},\"id\":\"2400\",\"type\":\"GlyphRenderer\"},{\"attributes\":{},\"id\":\"2821\",\"type\":\"UnionRenderers\"},{\"attributes\":{\"source\":{\"id\":\"2518\",\"type\":\"ColumnDataSource\"}},\"id\":\"2524\",\"type\":\"CDSView\"},{\"attributes\":{\"below\":[{\"id\":\"2536\",\"type\":\"LinearAxis\"}],\"center\":[{\"id\":\"2540\",\"type\":\"Grid\"},{\"id\":\"2545\",\"type\":\"Grid\"}],\"left\":[{\"id\":\"2541\",\"type\":\"LinearAxis\"}],\"plot_height\":150,\"plot_width\":150,\"renderers\":[{\"id\":\"2564\",\"type\":\"GlyphRenderer\"}],\"title\":{\"id\":\"2526\",\"type\":\"Title\"},\"toolbar\":{\"id\":\"2552\",\"type\":\"Toolbar\"},\"toolbar_location\":null,\"x_range\":{\"id\":\"2528\",\"type\":\"DataRange1d\"},\"x_scale\":{\"id\":\"2532\",\"type\":\"LinearScale\"},\"y_range\":{\"id\":\"2530\",\"type\":\"DataRange1d\"},\"y_scale\":{\"id\":\"2534\",\"type\":\"LinearScale\"}},\"id\":\"2525\",\"subtype\":\"Figure\",\"type\":\"Plot\"},{\"attributes\":{\"text\":\"Label 0\"},\"id\":\"2362\",\"type\":\"Title\"},{\"attributes\":{},\"id\":\"2822\",\"type\":\"Selection\"},{\"attributes\":{\"color_mapper\":{\"id\":\"2399\",\"type\":\"LinearColorMapper\"},\"dh\":{\"units\":\"data\",\"value\":1},\"dw\":{\"units\":\"data\",\"value\":1},\"image\":{\"field\":\"image\"},\"x\":{\"value\":0},\"y\":{\"value\":0}},\"id\":\"2398\",\"type\":\"Image\"},{\"attributes\":{\"active_drag\":\"auto\",\"active_inspect\":\"auto\",\"active_multi\":null,\"active_scroll\":\"auto\",\"active_tap\":\"auto\",\"tools\":[{\"id\":\"2300\",\"type\":\"PanTool\"},{\"id\":\"2301\",\"type\":\"WheelZoomTool\"},{\"id\":\"2302\",\"type\":\"BoxZoomTool\"},{\"id\":\"2303\",\"type\":\"SaveTool\"},{\"id\":\"2304\",\"type\":\"ResetTool\"},{\"id\":\"2305\",\"type\":\"HelpTool\"}]},\"id\":\"2306\",\"type\":\"Toolbar\"},{\"attributes\":{\"bottom_units\":\"screen\",\"fill_alpha\":{\"value\":0.5},\"fill_color\":{\"value\":\"lightgrey\"},\"left_units\":\"screen\",\"level\":\"overlay\",\"line_alpha\":{\"value\":1.0},\"line_color\":{\"value\":\"black\"},\"line_dash\":[4,4],\"line_width\":{\"value\":2},\"render_mode\":\"css\",\"right_units\":\"screen\",\"top_units\":\"screen\"},\"id\":\"2823\",\"type\":\"BoxAnnotation\"},{\"attributes\":{\"text\":\"Label 7\"},\"id\":\"2526\",\"type\":\"Title\"},{\"attributes\":{\"palette\":[\"#000000\",\"#252525\",\"#525252\",\"#737373\",\"#969696\",\"#bdbdbd\",\"#d9d9d9\",\"#f0f0f0\",\"#ffffff\"]},\"id\":\"2397\",\"type\":\"LinearColorMapper\"},{\"attributes\":{\"active_drag\":\"auto\",\"active_inspect\":\"auto\",\"active_multi\":null,\"active_scroll\":\"auto\",\"active_tap\":\"auto\",\"tools\":[{\"id\":\"2382\",\"type\":\"PanTool\"},{\"id\":\"2383\",\"type\":\"WheelZoomTool\"},{\"id\":\"2384\",\"type\":\"BoxZoomTool\"},{\"id\":\"2385\",\"type\":\"SaveTool\"},{\"id\":\"2386\",\"type\":\"ResetTool\"},{\"id\":\"2387\",\"type\":\"HelpTool\"}]},\"id\":\"2388\",\"type\":\"Toolbar\"},{\"attributes\":{\"callback\":null,\"data\":{\"image\":[{\"__ndarray__\":\"AAAAAAAAAAAAAAAAAAAAAAAAAAAAAAAAAAAAAAAAAAAAAAAAAAAAAAAAAAAAAAAAAAAAAAAAAAAAAAAAAAAAAAAAAAAAAAAjKUgsPSgAAAAAAAAAAAA6Y6imsLW2trO/wdzd9PP28u/t3shCAAAAAgCq2MDCvLzT0tLRzMbBvL28ubWvrK+/1L1KAABc0rGnnLDAxr/Dv8LEyNLTz9XSzMS3q7PB23oAc87NtayxtbrOx9jh7Nzd29bKwMK+ucXVwrfLMEPm3dze0dTa3+/148Pw1cbOxbnY4dPNwczUzEsd5eDf39nX3duodWpJQfHZ18Lc+erl5d7SxuliAOHk3tHM0r+avN3l/5ZQ8NzNzc3W09Pd4OTKAwD26NzT3erd///fzsH1n8jR0NbM0ODd4NC7OQAA1+7p+Pq8sOrg5tPNyOLZ3tzkvWtSLBIAAAAAAJ/04Nfb3+Da09Da3dXP5MyRPgAAAAAAAAADAABN/9rX5d/Y3d7b3t/Z4u0AAAAAAAIHBgQBAAAAXNHZ2erf2tXo8OTm5Ow3AAAEAAAAAAAAAAAAOKd39dze1dfdxsva3N70YwAGAAAAAAAAAAAAADTRxeLU4NrQ46nA2tTc2wwAAwEAAAAAAAAAAAAAyvPc39XT0tS0xtXa5MEAAAAAAAAAAAAAAAAAAK31393g3uDj6+Tf2OG3AAAAAAAAAAAAAAAAAADlxHt/pNXX39/l6ejoyAABAQEAAAAAAAAAAABCrFiNknp5f6PY2Nrfz0UAAQAAAAAAAAAAAAAAD0iCTRdAbaGca7LP7JsAAAAAAAAAAAAAAAAAAAAKDAAAAAAXe5CGsMxmAAYAAAAAAAAAAAAAAAADAAAEAwEAAAA2Pn+IJAADAAAAAAAAAAAAAAAAAAEBAAAAAAQBAABJDQAAAQAAAAAAAAAAAAAAAAAAAAAAAAAAAAAAAAAAAAAAAAAAAAAAAAAAAAAAAAAAAAAAAAAAAAAAAAAAAAAAAAAAAAAAAAAAAAAAAAAAAAAAAAAAAAAAAAAAAAAAAAAAAAAAAA==\",\"dtype\":\"uint8\",\"shape\":[28,28]}]},\"selected\":{\"id\":\"2777\",\"type\":\"Selection\"},\"selection_policy\":{\"id\":\"2776\",\"type\":\"UnionRenderers\"}},\"id\":\"2313\",\"type\":\"ColumnDataSource\"},{\"attributes\":{},\"id\":\"2828\",\"type\":\"BasicTickFormatter\"},{\"attributes\":{},\"id\":\"2300\",\"type\":\"PanTool\"},{\"attributes\":{\"callback\":null},\"id\":\"2528\",\"type\":\"DataRange1d\"},{\"attributes\":{\"callback\":null,\"data\":{\"image\":[{\"__ndarray__\":\"AAAAAAAAAAEAAAggODkqEgAAAAEAAAAAAAAAAAAAAAAAAAAACktmamdna2hdSQgAAAAAAAAAAAAAAAAAAAAADmpsV1RUVVlbW2RmCgAAAAAAAAAAAAAAAAAAADVfU1dUWFhVWFdUZEAAAAAAAAAAAAAAAAAAAAA/U1VXWVdXWFVUVV9IAAAAAAAAAAAAAAAAAAAAVFdUV1dXV1dXVFNfLgAAAAAAAAAAAAAAAAAAADFcVFVXV1dXV1VXYCgAAAAAAAAAAAAAAAAAAAAmYVVVV1dXV1dXWGAiAAAAAAAAAAAAAAAAAAAAJWZYWVdXV1dYWFVfHgAAAAAAAAAAAAAAAAAAAB1nW1lXV1dXV1hUXRkAAAAAAAAAAAAAAAAAAAAOZltYWVhYV1VXVWAYAAAAAAAAAAAAAAAAAAAACmNZWVhYWFhVV1VgFQAAAAAAAAAAAAAAAAAAAAhjWFlYWFhXVVhUXxQAAAAAAAAAAAAAAAAAAAACZFlYV1dVV1dXVWAMAAAAAAAAAAAAAAAAAAAAAGdXWFdYV1dXV1dgCQAAAAAAAAAAAAAAAAAAAABnUFlXWFdXV1dXXQoAAAAAAAAAAAAAAAAAAAAIdk1ZVVdXWFdXWGQRAAAAAAAAAAAAAAAAAAAAAGtVWFdXV1hVV1dhAAAAAAAAAAAAAAAAAAAAAABXXFRXV1VYV1RXXwAAAAAAAAAAAAAAAAAAAAAAV2NUWFdVVFVRYV0AAAAAAAAAAAAAAAAAAAAAAFRhVVVVVFFTUGBZAAAAAAAAAAAAAAAAAAAAAABMX1FTU1NTUE1YTQAAAAAAAAAAAAAAAAAAAAAASGBQU0k/Q1BQWUsAAAAAAAAAAAAAAAAAAAAAAElhTDhLbFc7PVlPAAAAAAAAAAAAAAAAAAAAAABIXT2e0eHayVtFWwAAAAAAAAAAAAAAAAAAAAAAUESd4u7/+OHHTFUAAAAAAAAAAAAAAAAAAAAAAFWO3cG6rbO5zdRkDAAAAAAAAAAAAAAAAAAAAAAFWDAAAAAAABh2FgAAAAAAAAAAAA==\",\"dtype\":\"uint8\",\"shape\":[28,28]}]},\"selected\":{\"id\":\"2795\",\"type\":\"Selection\"},\"selection_policy\":{\"id\":\"2794\",\"type\":\"UnionRenderers\"}},\"id\":\"2395\",\"type\":\"ColumnDataSource\"},{\"attributes\":{\"below\":[{\"id\":\"2372\",\"type\":\"LinearAxis\"}],\"center\":[{\"id\":\"2376\",\"type\":\"Grid\"},{\"id\":\"2381\",\"type\":\"Grid\"}],\"left\":[{\"id\":\"2377\",\"type\":\"LinearAxis\"}],\"plot_height\":150,\"plot_width\":150,\"renderers\":[{\"id\":\"2400\",\"type\":\"GlyphRenderer\"}],\"title\":{\"id\":\"2362\",\"type\":\"Title\"},\"toolbar\":{\"id\":\"2388\",\"type\":\"Toolbar\"},\"toolbar_location\":null,\"x_range\":{\"id\":\"2364\",\"type\":\"DataRange1d\"},\"x_scale\":{\"id\":\"2368\",\"type\":\"LinearScale\"},\"y_range\":{\"id\":\"2366\",\"type\":\"DataRange1d\"},\"y_scale\":{\"id\":\"2370\",\"type\":\"LinearScale\"}},\"id\":\"2361\",\"subtype\":\"Figure\",\"type\":\"Plot\"},{\"attributes\":{},\"id\":\"2382\",\"type\":\"PanTool\"},{\"attributes\":{\"dimension\":1,\"ticker\":{\"id\":\"2296\",\"type\":\"BasicTicker\"},\"visible\":false},\"id\":\"2299\",\"type\":\"Grid\"},{\"attributes\":{},\"id\":\"2826\",\"type\":\"BasicTickFormatter\"},{\"attributes\":{\"color_mapper\":{\"id\":\"2438\",\"type\":\"LinearColorMapper\"},\"dh\":{\"units\":\"data\",\"value\":1},\"dw\":{\"units\":\"data\",\"value\":1},\"image\":{\"field\":\"image\"},\"x\":{\"value\":0},\"y\":{\"value\":0}},\"id\":\"2437\",\"type\":\"Image\"},{\"attributes\":{},\"id\":\"2830\",\"type\":\"UnionRenderers\"},{\"attributes\":{},\"id\":\"2383\",\"type\":\"WheelZoomTool\"},{\"attributes\":{\"callback\":null},\"id\":\"2530\",\"type\":\"DataRange1d\"},{\"attributes\":{},\"id\":\"2831\",\"type\":\"Selection\"},{\"attributes\":{\"overlay\":{\"id\":\"2796\",\"type\":\"BoxAnnotation\"}},\"id\":\"2384\",\"type\":\"BoxZoomTool\"},{\"attributes\":{\"formatter\":{\"id\":\"2772\",\"type\":\"BasicTickFormatter\"},\"ticker\":{\"id\":\"2296\",\"type\":\"BasicTicker\"},\"visible\":false},\"id\":\"2295\",\"type\":\"LinearAxis\"},{\"attributes\":{\"ticker\":{\"id\":\"2291\",\"type\":\"BasicTicker\"},\"visible\":false},\"id\":\"2294\",\"type\":\"Grid\"},{\"attributes\":{\"bottom_units\":\"screen\",\"fill_alpha\":{\"value\":0.5},\"fill_color\":{\"value\":\"lightgrey\"},\"left_units\":\"screen\",\"level\":\"overlay\",\"line_alpha\":{\"value\":1.0},\"line_color\":{\"value\":\"black\"},\"line_dash\":[4,4],\"line_width\":{\"value\":2},\"render_mode\":\"css\",\"right_units\":\"screen\",\"top_units\":\"screen\"},\"id\":\"2832\",\"type\":\"BoxAnnotation\"},{\"attributes\":{},\"id\":\"2385\",\"type\":\"SaveTool\"},{\"attributes\":{},\"id\":\"2532\",\"type\":\"LinearScale\"},{\"attributes\":{},\"id\":\"2296\",\"type\":\"BasicTicker\"},{\"attributes\":{},\"id\":\"2534\",\"type\":\"LinearScale\"},{\"attributes\":{},\"id\":\"2291\",\"type\":\"BasicTicker\"},{\"attributes\":{},\"id\":\"2837\",\"type\":\"BasicTickFormatter\"},{\"attributes\":{},\"id\":\"2386\",\"type\":\"ResetTool\"},{\"attributes\":{\"formatter\":{\"id\":\"2828\",\"type\":\"BasicTickFormatter\"},\"ticker\":{\"id\":\"2537\",\"type\":\"BasicTicker\"},\"visible\":false},\"id\":\"2536\",\"type\":\"LinearAxis\"},{\"attributes\":{\"formatter\":{\"id\":\"2774\",\"type\":\"BasicTickFormatter\"},\"ticker\":{\"id\":\"2291\",\"type\":\"BasicTicker\"},\"visible\":false},\"id\":\"2290\",\"type\":\"LinearAxis\"},{\"attributes\":{},\"id\":\"2542\",\"type\":\"BasicTicker\"},{\"attributes\":{},\"id\":\"2835\",\"type\":\"BasicTickFormatter\"},{\"attributes\":{},\"id\":\"2387\",\"type\":\"HelpTool\"},{\"attributes\":{\"callback\":null},\"id\":\"2284\",\"type\":\"DataRange1d\"},{\"attributes\":{},\"id\":\"2537\",\"type\":\"BasicTicker\"},{\"attributes\":{},\"id\":\"2839\",\"type\":\"UnionRenderers\"},{\"attributes\":{},\"id\":\"2288\",\"type\":\"LinearScale\"},{\"attributes\":{\"ticker\":{\"id\":\"2537\",\"type\":\"BasicTicker\"},\"visible\":false},\"id\":\"2540\",\"type\":\"Grid\"},{\"attributes\":{},\"id\":\"2840\",\"type\":\"Selection\"},{\"attributes\":{\"palette\":[\"#000000\",\"#252525\",\"#525252\",\"#737373\",\"#969696\",\"#bdbdbd\",\"#d9d9d9\",\"#f0f0f0\",\"#ffffff\"]},\"id\":\"2561\",\"type\":\"LinearColorMapper\"},{\"attributes\":{},\"id\":\"2286\",\"type\":\"LinearScale\"},{\"attributes\":{\"dimension\":1,\"ticker\":{\"id\":\"2542\",\"type\":\"BasicTicker\"},\"visible\":false},\"id\":\"2545\",\"type\":\"Grid\"},{\"attributes\":{\"bottom_units\":\"screen\",\"fill_alpha\":{\"value\":0.5},\"fill_color\":{\"value\":\"lightgrey\"},\"left_units\":\"screen\",\"level\":\"overlay\",\"line_alpha\":{\"value\":1.0},\"line_color\":{\"value\":\"black\"},\"line_dash\":[4,4],\"line_width\":{\"value\":2},\"render_mode\":\"css\",\"right_units\":\"screen\",\"top_units\":\"screen\"},\"id\":\"2841\",\"type\":\"BoxAnnotation\"},{\"attributes\":{\"below\":[{\"id\":\"2413\",\"type\":\"LinearAxis\"}],\"center\":[{\"id\":\"2417\",\"type\":\"Grid\"},{\"id\":\"2422\",\"type\":\"Grid\"}],\"left\":[{\"id\":\"2418\",\"type\":\"LinearAxis\"}],\"plot_height\":150,\"plot_width\":150,\"renderers\":[{\"id\":\"2441\",\"type\":\"GlyphRenderer\"}],\"title\":{\"id\":\"2403\",\"type\":\"Title\"},\"toolbar\":{\"id\":\"2429\",\"type\":\"Toolbar\"},\"toolbar_location\":null,\"x_range\":{\"id\":\"2405\",\"type\":\"DataRange1d\"},\"x_scale\":{\"id\":\"2409\",\"type\":\"LinearScale\"},\"y_range\":{\"id\":\"2407\",\"type\":\"DataRange1d\"},\"y_scale\":{\"id\":\"2411\",\"type\":\"LinearScale\"}},\"id\":\"2402\",\"subtype\":\"Figure\",\"type\":\"Plot\"},{\"attributes\":{\"formatter\":{\"id\":\"2826\",\"type\":\"BasicTickFormatter\"},\"ticker\":{\"id\":\"2542\",\"type\":\"BasicTicker\"},\"visible\":false},\"id\":\"2541\",\"type\":\"LinearAxis\"},{\"attributes\":{},\"id\":\"2846\",\"type\":\"BasicTickFormatter\"},{\"attributes\":{\"color_mapper\":{\"id\":\"2563\",\"type\":\"LinearColorMapper\"},\"dh\":{\"units\":\"data\",\"value\":1},\"dw\":{\"units\":\"data\",\"value\":1},\"image\":{\"field\":\"image\"},\"x\":{\"value\":0},\"y\":{\"value\":0}},\"id\":\"2562\",\"type\":\"Image\"},{\"attributes\":{},\"id\":\"2301\",\"type\":\"WheelZoomTool\"},{\"attributes\":{\"color_mapper\":{\"id\":\"2602\",\"type\":\"LinearColorMapper\"},\"dh\":{\"units\":\"data\",\"value\":1},\"dw\":{\"units\":\"data\",\"value\":1},\"image\":{\"field\":\"image\"},\"x\":{\"value\":0},\"y\":{\"value\":0}},\"id\":\"2601\",\"type\":\"Image\"},{\"attributes\":{},\"id\":\"2844\",\"type\":\"BasicTickFormatter\"},{\"attributes\":{\"palette\":[\"#000000\",\"#252525\",\"#525252\",\"#737373\",\"#969696\",\"#bdbdbd\",\"#d9d9d9\",\"#f0f0f0\",\"#ffffff\"]},\"id\":\"2399\",\"type\":\"LinearColorMapper\"},{\"attributes\":{\"overlay\":{\"id\":\"2778\",\"type\":\"BoxAnnotation\"}},\"id\":\"2302\",\"type\":\"BoxZoomTool\"},{\"attributes\":{\"source\":{\"id\":\"2395\",\"type\":\"ColumnDataSource\"}},\"id\":\"2401\",\"type\":\"CDSView\"},{\"attributes\":{\"callback\":null,\"data\":{\"image\":[{\"__ndarray__\":\"AAAAAAAAAAAAAAAAAAAAAAAAAAAAAAAAAAAAAAAAAAAAAAAAAAAAAAAAAAAAAAAAAAAAAAAAAAAAAAAAAAAAAAAAAAAAAAAAAAAAAAAAAAAAAAAAAAAAAAAAAAAAAAAAAAAAAAAAAAAAAAAAAAAAAAAAAAAAAAAAAAAAAAAAAAAAAAAAAAAAAAAAAAAAAAAAAAAAAAAAAAAAAAAAAAAAAAAAAAAAAAAAAAAAAAAAAAAAAAAAAAAAAAAAAAAAAAAAAAAAAAAaJSglKCMfHiswKykpLConJyIbEQ4JAAAAAAAtS1BdU09UT0I5MSkkHhsTERIPDxQMFhoaGQsAAAEMICAfGRkjLT1MXG97j5GPjoZsTCgHAAALED7RxtfV3d7i6PP///358/Dy3dvZ3NjPvJ1yNw+J2MrR1dTX1dDIyM3Gxb2/u73Ix8PCx8LIx75sicvB1vLm5b++v8XM0tHM1tPLyrvGzMCmnncyACTI5nwAAK/Ox7rBz9XV19fAxNHt1m4AAAAAAAAAFgoCs+DpzrnPw83WzL7C3fCWQwAAAAADAQAAADMj+20WAHTRm8zIw8ni7JUQAAAAAAYAAgAAAAAAs14AAADx1bXD1vmzeiUAAAABAAAAAAAAAAAAAHwGAAAAp9HW34paAAAAAAEAAAAAAAAAAAAAAAAAAAAAAADlagAAAAAABAAAAAAAAAAAAAAAAAAAAQUAAAAAAgAAAAQAAQMAAQEAAAAAAAAAAAAAAAAAAAAAAAAAAAAAAAAAAAAAAAAAAAAAAAAAAAAAAAAAAAAAAAAAAAAAAAAAAAAAAAAAAAAAAAAAAAAAAAAAAAAAAAAAAAAAAAAAAAAAAAAAAAAAAAAAAAAAAAAAAAAAAAAAAAAAAAAAAAAAAAAAAAAAAAAAAAAAAAAAAAAAAAAAAAAAAAAAAAAAAAAAAAAAAAAAAAAAAAAAAAAAAAAAAAAAAAAAAAAAAAAAAAAAAAAAAAAAAAAAAAAAAAAAAAAAAAAAAAAAAAAAAAAAAAAAAAAAAAAAAAAAAAAAAAAAAA==\",\"dtype\":\"uint8\",\"shape\":[28,28]}]},\"selected\":{\"id\":\"2831\",\"type\":\"Selection\"},\"selection_policy\":{\"id\":\"2830\",\"type\":\"UnionRenderers\"}},\"id\":\"2559\",\"type\":\"ColumnDataSource\"},{\"attributes\":{},\"id\":\"2848\",\"type\":\"UnionRenderers\"},{\"attributes\":{},\"id\":\"2303\",\"type\":\"SaveTool\"},{\"attributes\":{\"active_drag\":\"auto\",\"active_inspect\":\"auto\",\"active_multi\":null,\"active_scroll\":\"auto\",\"active_tap\":\"auto\",\"tools\":[{\"id\":\"2546\",\"type\":\"PanTool\"},{\"id\":\"2547\",\"type\":\"WheelZoomTool\"},{\"id\":\"2548\",\"type\":\"BoxZoomTool\"},{\"id\":\"2549\",\"type\":\"SaveTool\"},{\"id\":\"2550\",\"type\":\"ResetTool\"},{\"id\":\"2551\",\"type\":\"HelpTool\"}]},\"id\":\"2552\",\"type\":\"Toolbar\"},{\"attributes\":{},\"id\":\"2849\",\"type\":\"Selection\"},{\"attributes\":{\"text\":\"Label 3\"},\"id\":\"2403\",\"type\":\"Title\"},{\"attributes\":{\"color_mapper\":{\"id\":\"2561\",\"type\":\"LinearColorMapper\"},\"dh\":{\"units\":\"data\",\"value\":1},\"dw\":{\"units\":\"data\",\"value\":1},\"image\":{\"field\":\"image\"},\"x\":{\"value\":0},\"y\":{\"value\":0}},\"id\":\"2560\",\"type\":\"Image\"},{\"attributes\":{},\"id\":\"2304\",\"type\":\"ResetTool\"},{\"attributes\":{\"bottom_units\":\"screen\",\"fill_alpha\":{\"value\":0.5},\"fill_color\":{\"value\":\"lightgrey\"},\"left_units\":\"screen\",\"level\":\"overlay\",\"line_alpha\":{\"value\":1.0},\"line_color\":{\"value\":\"black\"},\"line_dash\":[4,4],\"line_width\":{\"value\":2},\"render_mode\":\"css\",\"right_units\":\"screen\",\"top_units\":\"screen\"},\"id\":\"2850\",\"type\":\"BoxAnnotation\"},{\"attributes\":{},\"id\":\"2546\",\"type\":\"PanTool\"},{\"attributes\":{\"callback\":null},\"id\":\"2405\",\"type\":\"DataRange1d\"},{\"attributes\":{\"color_mapper\":{\"id\":\"2397\",\"type\":\"LinearColorMapper\"},\"dh\":{\"units\":\"data\",\"value\":1},\"dw\":{\"units\":\"data\",\"value\":1},\"image\":{\"field\":\"image\"},\"x\":{\"value\":0},\"y\":{\"value\":0}},\"id\":\"2396\",\"type\":\"Image\"},{\"attributes\":{},\"id\":\"2305\",\"type\":\"HelpTool\"},{\"attributes\":{},\"id\":\"2547\",\"type\":\"WheelZoomTool\"},{\"attributes\":{},\"id\":\"2857\",\"type\":\"UnionRenderers\"},{\"attributes\":{},\"id\":\"2855\",\"type\":\"BasicTickFormatter\"},{\"attributes\":{\"overlay\":{\"id\":\"2832\",\"type\":\"BoxAnnotation\"}},\"id\":\"2548\",\"type\":\"BoxZoomTool\"},{\"attributes\":{\"callback\":null},\"id\":\"2407\",\"type\":\"DataRange1d\"},{\"attributes\":{},\"id\":\"2549\",\"type\":\"SaveTool\"},{\"attributes\":{\"callback\":null},\"id\":\"2364\",\"type\":\"DataRange1d\"},{\"attributes\":{},\"id\":\"2858\",\"type\":\"Selection\"},{\"attributes\":{},\"id\":\"2550\",\"type\":\"ResetTool\"},{\"attributes\":{},\"id\":\"2409\",\"type\":\"LinearScale\"},{\"attributes\":{\"bottom_units\":\"screen\",\"fill_alpha\":{\"value\":0.5},\"fill_color\":{\"value\":\"lightgrey\"},\"left_units\":\"screen\",\"level\":\"overlay\",\"line_alpha\":{\"value\":1.0},\"line_color\":{\"value\":\"black\"},\"line_dash\":[4,4],\"line_width\":{\"value\":2},\"render_mode\":\"css\",\"right_units\":\"screen\",\"top_units\":\"screen\"},\"id\":\"2859\",\"type\":\"BoxAnnotation\"},{\"attributes\":{},\"id\":\"2411\",\"type\":\"LinearScale\"},{\"attributes\":{\"data_source\":{\"id\":\"2559\",\"type\":\"ColumnDataSource\"},\"glyph\":{\"id\":\"2560\",\"type\":\"Image\"},\"hover_glyph\":null,\"muted_glyph\":null,\"nonselection_glyph\":{\"id\":\"2562\",\"type\":\"Image\"},\"selection_glyph\":null,\"view\":{\"id\":\"2565\",\"type\":\"CDSView\"}},\"id\":\"2564\",\"type\":\"GlyphRenderer\"},{\"attributes\":{},\"id\":\"2864\",\"type\":\"BasicTickFormatter\"},{\"attributes\":{},\"id\":\"2551\",\"type\":\"HelpTool\"},{\"attributes\":{\"formatter\":{\"id\":\"2801\",\"type\":\"BasicTickFormatter\"},\"ticker\":{\"id\":\"2414\",\"type\":\"BasicTicker\"},\"visible\":false},\"id\":\"2413\",\"type\":\"LinearAxis\"},{\"attributes\":{},\"id\":\"2419\",\"type\":\"BasicTicker\"},{\"attributes\":{},\"id\":\"2414\",\"type\":\"BasicTicker\"},{\"attributes\":{},\"id\":\"2862\",\"type\":\"BasicTickFormatter\"},{\"attributes\":{\"callback\":null},\"id\":\"2366\",\"type\":\"DataRange1d\"},{\"attributes\":{},\"id\":\"2866\",\"type\":\"UnionRenderers\"},{\"attributes\":{\"ticker\":{\"id\":\"2414\",\"type\":\"BasicTicker\"},\"visible\":false},\"id\":\"2417\",\"type\":\"Grid\"},{\"attributes\":{\"below\":[{\"id\":\"2577\",\"type\":\"LinearAxis\"}],\"center\":[{\"id\":\"2581\",\"type\":\"Grid\"},{\"id\":\"2586\",\"type\":\"Grid\"}],\"left\":[{\"id\":\"2582\",\"type\":\"LinearAxis\"}],\"plot_height\":150,\"plot_width\":150,\"renderers\":[{\"id\":\"2605\",\"type\":\"GlyphRenderer\"}],\"title\":{\"id\":\"2567\",\"type\":\"Title\"},\"toolbar\":{\"id\":\"2593\",\"type\":\"Toolbar\"},\"toolbar_location\":null,\"x_range\":{\"id\":\"2569\",\"type\":\"DataRange1d\"},\"x_scale\":{\"id\":\"2573\",\"type\":\"LinearScale\"},\"y_range\":{\"id\":\"2571\",\"type\":\"DataRange1d\"},\"y_scale\":{\"id\":\"2575\",\"type\":\"LinearScale\"}},\"id\":\"2566\",\"subtype\":\"Figure\",\"type\":\"Plot\"},{\"attributes\":{\"palette\":[\"#000000\",\"#252525\",\"#525252\",\"#737373\",\"#969696\",\"#bdbdbd\",\"#d9d9d9\",\"#f0f0f0\",\"#ffffff\"]},\"id\":\"2438\",\"type\":\"LinearColorMapper\"},{\"attributes\":{},\"id\":\"2867\",\"type\":\"Selection\"},{\"attributes\":{},\"id\":\"2368\",\"type\":\"LinearScale\"},{\"attributes\":{\"dimension\":1,\"ticker\":{\"id\":\"2419\",\"type\":\"BasicTicker\"},\"visible\":false},\"id\":\"2422\",\"type\":\"Grid\"},{\"attributes\":{},\"id\":\"2370\",\"type\":\"LinearScale\"},{\"attributes\":{\"formatter\":{\"id\":\"2799\",\"type\":\"BasicTickFormatter\"},\"ticker\":{\"id\":\"2419\",\"type\":\"BasicTicker\"},\"visible\":false},\"id\":\"2418\",\"type\":\"LinearAxis\"},{\"attributes\":{\"bottom_units\":\"screen\",\"fill_alpha\":{\"value\":0.5},\"fill_color\":{\"value\":\"lightgrey\"},\"left_units\":\"screen\",\"level\":\"overlay\",\"line_alpha\":{\"value\":1.0},\"line_color\":{\"value\":\"black\"},\"line_dash\":[4,4],\"line_width\":{\"value\":2},\"render_mode\":\"css\",\"right_units\":\"screen\",\"top_units\":\"screen\"},\"id\":\"2868\",\"type\":\"BoxAnnotation\"},{\"attributes\":{\"formatter\":{\"id\":\"2792\",\"type\":\"BasicTickFormatter\"},\"ticker\":{\"id\":\"2373\",\"type\":\"BasicTicker\"},\"visible\":false},\"id\":\"2372\",\"type\":\"LinearAxis\"},{\"attributes\":{},\"id\":\"2873\",\"type\":\"BasicTickFormatter\"},{\"attributes\":{\"palette\":[\"#000000\",\"#252525\",\"#525252\",\"#737373\",\"#969696\",\"#bdbdbd\",\"#d9d9d9\",\"#f0f0f0\",\"#ffffff\"]},\"id\":\"2440\",\"type\":\"LinearColorMapper\"},{\"attributes\":{\"palette\":[\"#000000\",\"#252525\",\"#525252\",\"#737373\",\"#969696\",\"#bdbdbd\",\"#d9d9d9\",\"#f0f0f0\",\"#ffffff\"]},\"id\":\"2563\",\"type\":\"LinearColorMapper\"},{\"attributes\":{\"formatter\":{\"id\":\"2790\",\"type\":\"BasicTickFormatter\"},\"ticker\":{\"id\":\"2378\",\"type\":\"BasicTicker\"},\"visible\":false},\"id\":\"2377\",\"type\":\"LinearAxis\"},{\"attributes\":{\"source\":{\"id\":\"2559\",\"type\":\"ColumnDataSource\"}},\"id\":\"2565\",\"type\":\"CDSView\"},{\"attributes\":{},\"id\":\"2373\",\"type\":\"BasicTicker\"},{\"attributes\":{\"callback\":null,\"data\":{\"image\":[{\"__ndarray__\":\"AAAAAAAAAAAAAAAAAAAAIQQjAAIABAAAAAAAAAAAAAAADGSFoFWYU2SONF5wmoxXeZoAAAAAAAAAAAAAAE2Fh5BTxJZgiW5ZZpiMT3d1AAAAAAAAAAAAAABAh4WSMK+BVZ5TVWyQjD6BagAAAAAAAAAAAAAAJ5KHozyvgVOpZE93hX1Rf1UAAAAAAAAAAAAAACN5gbNTh4lNnGhJg3VwZnlCAAAAAAAAAAAAAAASaHWadWyQUZBqS4luZnB3PgAAAAAAAAAAAAAAAFlyjJZojFV/akeMZGBseSEAAAAAAAAAAAAAAABEeXWgaIVXg2o+kGJsZJIAAAAAAAAAAAAAAAAAJYdsg3CHWYNmPolbcmpkAAAAAAAAAAAAAAAAAABwfYODg3WFZFl9anKUHQACAAAAAAAAAAAAAAIAFolLSzI4QjIlMjpZagAAAAAAAAAAAAAAAAAAAAByV3Bianl3YGheey0AAAAAAAAAAAAAAAAAAAAAYJSSkpiJf5SUjKdCAAIAAAAAAAAAAAAAAAAEAEJ7aFNeZltkboGWNAAAAAAAAAAAAAAAAAAABABCh25qVXVsZH+HqzgAAgAAAAAAAAAAAAAAAAQAPIdibGZ3ZGKBh61CAAIAAAAAAAAAAAAAAAAEAECFaHBmanJocIGrYgACAAAAAAAAAAAAAAAAAABbgXJ5Xmhsand/qX0AAAAAAAAAAAAAAAAAAAAAcoF1eWRwZm5wgZx7AAAAAAAAAAAAAAAAAAAAAJB/d251dW53d32JnhkABAAAAAAAAAAAAAAAAE2Of3VwbHJubnuHiZ7dAAAAAAAAAAAAAAAAAA6Wg4x3hYF3f32FmJKFvG4AAAAAAAAAAAAAAACMjH2Dg4OFlJSDiYmOgZKnNgAAAAAAAAAAAABLqX2FiYyMhYd/jpKcoJiMjpYAAAAAAAAAAAAAAIycgZSYnKutr6+SlpiWjKMjAAAAAAAAAAAAAAAAktW6s8Lb3//ovK+3sbpJAAAAAAAAAAAAAAAAAAAAZsLMiTYOQJyvYCEAAAAAAAAAAA==\",\"dtype\":\"uint8\",\"shape\":[28,28]}]},\"selected\":{\"id\":\"2804\",\"type\":\"Selection\"},\"selection_policy\":{\"id\":\"2803\",\"type\":\"UnionRenderers\"}},\"id\":\"2436\",\"type\":\"ColumnDataSource\"},{\"attributes\":{},\"id\":\"2871\",\"type\":\"BasicTickFormatter\"},{\"attributes\":{\"ticker\":{\"id\":\"2373\",\"type\":\"BasicTicker\"},\"visible\":false},\"id\":\"2376\",\"type\":\"Grid\"},{\"attributes\":{\"text\":\"Label 2\"},\"id\":\"2567\",\"type\":\"Title\"},{\"attributes\":{},\"id\":\"2875\",\"type\":\"UnionRenderers\"},{\"attributes\":{\"color_mapper\":{\"id\":\"2440\",\"type\":\"LinearColorMapper\"},\"dh\":{\"units\":\"data\",\"value\":1},\"dw\":{\"units\":\"data\",\"value\":1},\"image\":{\"field\":\"image\"},\"x\":{\"value\":0},\"y\":{\"value\":0}},\"id\":\"2439\",\"type\":\"Image\"},{\"attributes\":{},\"id\":\"2378\",\"type\":\"BasicTicker\"},{\"attributes\":{\"callback\":null},\"id\":\"2569\",\"type\":\"DataRange1d\"},{\"attributes\":{},\"id\":\"2876\",\"type\":\"Selection\"},{\"attributes\":{},\"id\":\"2756\",\"type\":\"HelpTool\"},{\"attributes\":{\"bottom_units\":\"screen\",\"fill_alpha\":{\"value\":0.5},\"fill_color\":{\"value\":\"lightgrey\"},\"left_units\":\"screen\",\"level\":\"overlay\",\"line_alpha\":{\"value\":1.0},\"line_color\":{\"value\":\"black\"},\"line_dash\":[4,4],\"line_width\":{\"value\":2},\"render_mode\":\"css\",\"right_units\":\"screen\",\"top_units\":\"screen\"},\"id\":\"2877\",\"type\":\"BoxAnnotation\"},{\"attributes\":{\"active_drag\":\"auto\",\"active_inspect\":\"auto\",\"active_multi\":null,\"active_scroll\":\"auto\",\"active_tap\":\"auto\",\"tools\":[{\"id\":\"2751\",\"type\":\"PanTool\"},{\"id\":\"2752\",\"type\":\"WheelZoomTool\"},{\"id\":\"2753\",\"type\":\"BoxZoomTool\"},{\"id\":\"2754\",\"type\":\"SaveTool\"},{\"id\":\"2755\",\"type\":\"ResetTool\"},{\"id\":\"2756\",\"type\":\"HelpTool\"}]},\"id\":\"2757\",\"type\":\"Toolbar\"},{\"attributes\":{},\"id\":\"2783\",\"type\":\"BasicTickFormatter\"},{\"attributes\":{},\"id\":\"2792\",\"type\":\"BasicTickFormatter\"},{\"attributes\":{},\"id\":\"2801\",\"type\":\"BasicTickFormatter\"},{\"attributes\":{},\"id\":\"2772\",\"type\":\"BasicTickFormatter\"},{\"attributes\":{},\"id\":\"2774\",\"type\":\"BasicTickFormatter\"},{\"attributes\":{},\"id\":\"2776\",\"type\":\"UnionRenderers\"},{\"attributes\":{},\"id\":\"2777\",\"type\":\"Selection\"},{\"attributes\":{\"bottom_units\":\"screen\",\"fill_alpha\":{\"value\":0.5},\"fill_color\":{\"value\":\"lightgrey\"},\"left_units\":\"screen\",\"level\":\"overlay\",\"line_alpha\":{\"value\":1.0},\"line_color\":{\"value\":\"black\"},\"line_dash\":[4,4],\"line_width\":{\"value\":2},\"render_mode\":\"css\",\"right_units\":\"screen\",\"top_units\":\"screen\"},\"id\":\"2778\",\"type\":\"BoxAnnotation\"},{\"attributes\":{},\"id\":\"2810\",\"type\":\"BasicTickFormatter\"},{\"attributes\":{},\"id\":\"2781\",\"type\":\"BasicTickFormatter\"},{\"attributes\":{},\"id\":\"2785\",\"type\":\"UnionRenderers\"},{\"attributes\":{},\"id\":\"2786\",\"type\":\"Selection\"},{\"attributes\":{\"bottom_units\":\"screen\",\"fill_alpha\":{\"value\":0.5},\"fill_color\":{\"value\":\"lightgrey\"},\"left_units\":\"screen\",\"level\":\"overlay\",\"line_alpha\":{\"value\":1.0},\"line_color\":{\"value\":\"black\"},\"line_dash\":[4,4],\"line_width\":{\"value\":2},\"render_mode\":\"css\",\"right_units\":\"screen\",\"top_units\":\"screen\"},\"id\":\"2787\",\"type\":\"BoxAnnotation\"},{\"attributes\":{},\"id\":\"2790\",\"type\":\"BasicTickFormatter\"},{\"attributes\":{},\"id\":\"2794\",\"type\":\"UnionRenderers\"},{\"attributes\":{},\"id\":\"2795\",\"type\":\"Selection\"},{\"attributes\":{\"bottom_units\":\"screen\",\"fill_alpha\":{\"value\":0.5},\"fill_color\":{\"value\":\"lightgrey\"},\"left_units\":\"screen\",\"level\":\"overlay\",\"line_alpha\":{\"value\":1.0},\"line_color\":{\"value\":\"black\"},\"line_dash\":[4,4],\"line_width\":{\"value\":2},\"render_mode\":\"css\",\"right_units\":\"screen\",\"top_units\":\"screen\"},\"id\":\"2796\",\"type\":\"BoxAnnotation\"},{\"attributes\":{\"toolbar\":{\"id\":\"2880\",\"type\":\"ProxyToolbar\"},\"toolbar_location\":\"above\"},\"id\":\"2881\",\"type\":\"ToolbarBox\"},{\"attributes\":{\"below\":[{\"id\":\"2331\",\"type\":\"LinearAxis\"}],\"center\":[{\"id\":\"2335\",\"type\":\"Grid\"},{\"id\":\"2340\",\"type\":\"Grid\"}],\"left\":[{\"id\":\"2336\",\"type\":\"LinearAxis\"}],\"plot_height\":150,\"plot_width\":150,\"renderers\":[{\"id\":\"2359\",\"type\":\"GlyphRenderer\"}],\"title\":{\"id\":\"2321\",\"type\":\"Title\"},\"toolbar\":{\"id\":\"2347\",\"type\":\"Toolbar\"},\"toolbar_location\":null,\"x_range\":{\"id\":\"2323\",\"type\":\"DataRange1d\"},\"x_scale\":{\"id\":\"2327\",\"type\":\"LinearScale\"},\"y_range\":{\"id\":\"2325\",\"type\":\"DataRange1d\"},\"y_scale\":{\"id\":\"2329\",\"type\":\"LinearScale\"}},\"id\":\"2320\",\"subtype\":\"Figure\",\"type\":\"Plot\"},{\"attributes\":{},\"id\":\"2799\",\"type\":\"BasicTickFormatter\"},{\"attributes\":{},\"id\":\"2803\",\"type\":\"UnionRenderers\"},{\"attributes\":{},\"id\":\"2804\",\"type\":\"Selection\"},{\"attributes\":{\"bottom_units\":\"screen\",\"fill_alpha\":{\"value\":0.5},\"fill_color\":{\"value\":\"lightgrey\"},\"left_units\":\"screen\",\"level\":\"overlay\",\"line_alpha\":{\"value\":1.0},\"line_color\":{\"value\":\"black\"},\"line_dash\":[4,4],\"line_width\":{\"value\":2},\"render_mode\":\"css\",\"right_units\":\"screen\",\"top_units\":\"screen\"},\"id\":\"2805\",\"type\":\"BoxAnnotation\"},{\"attributes\":{},\"id\":\"2853\",\"type\":\"BasicTickFormatter\"},{\"attributes\":{\"source\":{\"id\":\"2313\",\"type\":\"ColumnDataSource\"}},\"id\":\"2319\",\"type\":\"CDSView\"},{\"attributes\":{},\"id\":\"2808\",\"type\":\"BasicTickFormatter\"},{\"attributes\":{\"palette\":[\"#000000\",\"#252525\",\"#525252\",\"#737373\",\"#969696\",\"#bdbdbd\",\"#d9d9d9\",\"#f0f0f0\",\"#ffffff\"]},\"id\":\"2315\",\"type\":\"LinearColorMapper\"},{\"attributes\":{},\"id\":\"2812\",\"type\":\"UnionRenderers\"},{\"attributes\":{\"color_mapper\":{\"id\":\"2315\",\"type\":\"LinearColorMapper\"},\"dh\":{\"units\":\"data\",\"value\":1},\"dw\":{\"units\":\"data\",\"value\":1},\"image\":{\"field\":\"image\"},\"x\":{\"value\":0},\"y\":{\"value\":0}},\"id\":\"2314\",\"type\":\"Image\"},{\"attributes\":{},\"id\":\"2813\",\"type\":\"Selection\"},{\"attributes\":{\"text\":\"Label 9\"},\"id\":\"2280\",\"type\":\"Title\"},{\"attributes\":{\"bottom_units\":\"screen\",\"fill_alpha\":{\"value\":0.5},\"fill_color\":{\"value\":\"lightgrey\"},\"left_units\":\"screen\",\"level\":\"overlay\",\"line_alpha\":{\"value\":1.0},\"line_color\":{\"value\":\"black\"},\"line_dash\":[4,4],\"line_width\":{\"value\":2},\"render_mode\":\"css\",\"right_units\":\"screen\",\"top_units\":\"screen\"},\"id\":\"2814\",\"type\":\"BoxAnnotation\"},{\"attributes\":{\"callback\":null},\"id\":\"2282\",\"type\":\"DataRange1d\"},{\"attributes\":{},\"id\":\"2819\",\"type\":\"BasicTickFormatter\"},{\"attributes\":{\"children\":[[{\"id\":\"2279\",\"subtype\":\"Figure\",\"type\":\"Plot\"},0,0],[{\"id\":\"2320\",\"subtype\":\"Figure\",\"type\":\"Plot\"},0,1],[{\"id\":\"2361\",\"subtype\":\"Figure\",\"type\":\"Plot\"},0,2],[{\"id\":\"2402\",\"subtype\":\"Figure\",\"type\":\"Plot\"},0,3],[{\"id\":\"2443\",\"subtype\":\"Figure\",\"type\":\"Plot\"},1,0],[{\"id\":\"2484\",\"subtype\":\"Figure\",\"type\":\"Plot\"},1,1],[{\"id\":\"2525\",\"subtype\":\"Figure\",\"type\":\"Plot\"},1,2],[{\"id\":\"2566\",\"subtype\":\"Figure\",\"type\":\"Plot\"},1,3],[{\"id\":\"2607\",\"subtype\":\"Figure\",\"type\":\"Plot\"},2,0],[{\"id\":\"2648\",\"subtype\":\"Figure\",\"type\":\"Plot\"},2,1],[{\"id\":\"2689\",\"subtype\":\"Figure\",\"type\":\"Plot\"},2,2],[{\"id\":\"2730\",\"subtype\":\"Figure\",\"type\":\"Plot\"},2,3]]},\"id\":\"2879\",\"type\":\"GridBox\"},{\"attributes\":{},\"id\":\"2817\",\"type\":\"BasicTickFormatter\"},{\"attributes\":{\"below\":[{\"id\":\"2290\",\"type\":\"LinearAxis\"}],\"center\":[{\"id\":\"2294\",\"type\":\"Grid\"},{\"id\":\"2299\",\"type\":\"Grid\"}],\"left\":[{\"id\":\"2295\",\"type\":\"LinearAxis\"}],\"plot_height\":150,\"plot_width\":150,\"renderers\":[{\"id\":\"2318\",\"type\":\"GlyphRenderer\"}],\"title\":{\"id\":\"2280\",\"type\":\"Title\"},\"toolbar\":{\"id\":\"2306\",\"type\":\"Toolbar\"},\"toolbar_location\":null,\"x_range\":{\"id\":\"2282\",\"type\":\"DataRange1d\"},\"x_scale\":{\"id\":\"2286\",\"type\":\"LinearScale\"},\"y_range\":{\"id\":\"2284\",\"type\":\"DataRange1d\"},\"y_scale\":{\"id\":\"2288\",\"type\":\"LinearScale\"}},\"id\":\"2279\",\"subtype\":\"Figure\",\"type\":\"Plot\"},{\"attributes\":{},\"id\":\"2619\",\"type\":\"BasicTicker\"},{\"attributes\":{},\"id\":\"2469\",\"type\":\"HelpTool\"},{\"attributes\":{\"ticker\":{\"id\":\"2619\",\"type\":\"BasicTicker\"},\"visible\":false},\"id\":\"2622\",\"type\":\"Grid\"},{\"attributes\":{\"active_drag\":\"auto\",\"active_inspect\":\"auto\",\"active_multi\":null,\"active_scroll\":\"auto\",\"active_tap\":\"auto\",\"tools\":[{\"id\":\"2464\",\"type\":\"PanTool\"},{\"id\":\"2465\",\"type\":\"WheelZoomTool\"},{\"id\":\"2466\",\"type\":\"BoxZoomTool\"},{\"id\":\"2467\",\"type\":\"SaveTool\"},{\"id\":\"2468\",\"type\":\"ResetTool\"},{\"id\":\"2469\",\"type\":\"HelpTool\"}]},\"id\":\"2470\",\"type\":\"Toolbar\"},{\"attributes\":{},\"id\":\"2624\",\"type\":\"BasicTicker\"},{\"attributes\":{\"below\":[{\"id\":\"2659\",\"type\":\"LinearAxis\"}],\"center\":[{\"id\":\"2663\",\"type\":\"Grid\"},{\"id\":\"2668\",\"type\":\"Grid\"}],\"left\":[{\"id\":\"2664\",\"type\":\"LinearAxis\"}],\"plot_height\":150,\"plot_width\":150,\"renderers\":[{\"id\":\"2687\",\"type\":\"GlyphRenderer\"}],\"title\":{\"id\":\"2649\",\"type\":\"Title\"},\"toolbar\":{\"id\":\"2675\",\"type\":\"Toolbar\"},\"toolbar_location\":null,\"x_range\":{\"id\":\"2651\",\"type\":\"DataRange1d\"},\"x_scale\":{\"id\":\"2655\",\"type\":\"LinearScale\"},\"y_range\":{\"id\":\"2653\",\"type\":\"DataRange1d\"},\"y_scale\":{\"id\":\"2657\",\"type\":\"LinearScale\"}},\"id\":\"2648\",\"subtype\":\"Figure\",\"type\":\"Plot\"},{\"attributes\":{\"data_source\":{\"id\":\"2641\",\"type\":\"ColumnDataSource\"},\"glyph\":{\"id\":\"2642\",\"type\":\"Image\"},\"hover_glyph\":null,\"muted_glyph\":null,\"nonselection_glyph\":{\"id\":\"2644\",\"type\":\"Image\"},\"selection_glyph\":null,\"view\":{\"id\":\"2647\",\"type\":\"CDSView\"}},\"id\":\"2646\",\"type\":\"GlyphRenderer\"},{\"attributes\":{\"dimension\":1,\"ticker\":{\"id\":\"2624\",\"type\":\"BasicTicker\"},\"visible\":false},\"id\":\"2627\",\"type\":\"Grid\"},{\"attributes\":{\"formatter\":{\"id\":\"2844\",\"type\":\"BasicTickFormatter\"},\"ticker\":{\"id\":\"2624\",\"type\":\"BasicTicker\"},\"visible\":false},\"id\":\"2623\",\"type\":\"LinearAxis\"},{\"attributes\":{\"data_source\":{\"id\":\"2477\",\"type\":\"ColumnDataSource\"},\"glyph\":{\"id\":\"2478\",\"type\":\"Image\"},\"hover_glyph\":null,\"muted_glyph\":null,\"nonselection_glyph\":{\"id\":\"2480\",\"type\":\"Image\"},\"selection_glyph\":null,\"view\":{\"id\":\"2483\",\"type\":\"CDSView\"}},\"id\":\"2482\",\"type\":\"GlyphRenderer\"},{\"attributes\":{\"source\":{\"id\":\"2477\",\"type\":\"ColumnDataSource\"}},\"id\":\"2483\",\"type\":\"CDSView\"},{\"attributes\":{\"color_mapper\":{\"id\":\"2645\",\"type\":\"LinearColorMapper\"},\"dh\":{\"units\":\"data\",\"value\":1},\"dw\":{\"units\":\"data\",\"value\":1},\"image\":{\"field\":\"image\"},\"x\":{\"value\":0},\"y\":{\"value\":0}},\"id\":\"2644\",\"type\":\"Image\"},{\"attributes\":{\"below\":[{\"id\":\"2495\",\"type\":\"LinearAxis\"}],\"center\":[{\"id\":\"2499\",\"type\":\"Grid\"},{\"id\":\"2504\",\"type\":\"Grid\"}],\"left\":[{\"id\":\"2500\",\"type\":\"LinearAxis\"}],\"plot_height\":150,\"plot_width\":150,\"renderers\":[{\"id\":\"2523\",\"type\":\"GlyphRenderer\"}],\"title\":{\"id\":\"2485\",\"type\":\"Title\"},\"toolbar\":{\"id\":\"2511\",\"type\":\"Toolbar\"},\"toolbar_location\":null,\"x_range\":{\"id\":\"2487\",\"type\":\"DataRange1d\"},\"x_scale\":{\"id\":\"2491\",\"type\":\"LinearScale\"},\"y_range\":{\"id\":\"2489\",\"type\":\"DataRange1d\"},\"y_scale\":{\"id\":\"2493\",\"type\":\"LinearScale\"}},\"id\":\"2484\",\"subtype\":\"Figure\",\"type\":\"Plot\"},{\"attributes\":{\"text\":\"Label 5\"},\"id\":\"2649\",\"type\":\"Title\"},{\"attributes\":{\"palette\":[\"#000000\",\"#252525\",\"#525252\",\"#737373\",\"#969696\",\"#bdbdbd\",\"#d9d9d9\",\"#f0f0f0\",\"#ffffff\"]},\"id\":\"2643\",\"type\":\"LinearColorMapper\"},{\"attributes\":{\"text\":\"Label 2\"},\"id\":\"2485\",\"type\":\"Title\"},{\"attributes\":{\"active_drag\":\"auto\",\"active_inspect\":\"auto\",\"active_multi\":null,\"active_scroll\":\"auto\",\"active_tap\":\"auto\",\"tools\":[{\"id\":\"2628\",\"type\":\"PanTool\"},{\"id\":\"2629\",\"type\":\"WheelZoomTool\"},{\"id\":\"2630\",\"type\":\"BoxZoomTool\"},{\"id\":\"2631\",\"type\":\"SaveTool\"},{\"id\":\"2632\",\"type\":\"ResetTool\"},{\"id\":\"2633\",\"type\":\"HelpTool\"}]},\"id\":\"2634\",\"type\":\"Toolbar\"},{\"attributes\":{\"callback\":null,\"data\":{\"image\":[{\"__ndarray__\":\"AAAAAAAAAAAAAAAAAAAAAAAAAAAAAAAAAAAAAAAAgwAAAAAAAAAAAAAAAAAAAAAAAAAAAAAAAAAAAO4gAAAAAAAAAAAAAB13tKZ9Xl1BLxMAAAAAAAB9KQAAAAAAAAAHACSxwZRabJqSioyeo5WAYAAAxDIAAAAAAAAAAAa+7EYAFsz1rwEJEBstOkAAAMswAAEAAAAAAACO/X4AAABa0rcBAAAAAAAAAAC6LQABAAAAAAAt4bUAAAAAAAAAAAABAAAAAQAAki8AAQMAAAAAw7sbAAAAAApJVzoAAAAAAAAAAHQwAAQEAAAAr5eBAAAAAAAAQCcQAAEAAAAAAABgLQAAAAAAoIGbAAAAAQAAAAAAAAAAAAAAAAAGTC8AAAAAqXKbGwADAAAAAAAAAQEAAAAAAAAAEEkwAAABq460KQAKBAMAAAAAAAAAAAMAAAAAACcnUk90jqSgIAAAAAAAAAAAAAAAAAAAAAAAAAAtDU1gIYl3AAADAAAAAAAAAAAAAAAAAAAAAAAGY1dPAy0wAAAAAAAAAAAAAAAAAAAAAAAAAAAAI10Qq5JbAAADAwAAAAAAAAAAAAABAAAAAAAAAC06HXfDbwAAAQADAAAAAAAAAAAAAAAAAAAAAAA2RiMwWGQAAQAAAwkDAQMAAAAAAAAAAAAAAAAAMjohL1JPAAEAAAEJAAAAAAAAAAAAAAAAAAAAABMzaj1jNgAAAAAAAD6aPg0AAAEAAAAAAAAAAAAALMlwVSMAAAAAR/+YWD0WAAEDAAAAAAAAAAAAAABnb2cNABYAkqw7HixECgAAAAAAAAAAAAAAAAAAJCppNQEzcqSSni0pAAAAAAEAAAAAAAAAAAAAAAAwjsDlt9FjJl4AAAAAAAABAAAAAAAAAAAAAAfBwJJtQAAAAAAAAAADAQAAAAAAAAAAAAAAAAABJwA6AAAAAAEBAAABAwEAAAAAAAAAAAAAAAAAAAAAAAAAAAAAAAAAAAAAAAAAAAAAAAAAAAAAAAAAAAAAAAAAAAAAAAAAAAAAAAAAAAAAAAAAAA==\",\"dtype\":\"uint8\",\"shape\":[28,28]}]},\"selected\":{\"id\":\"2849\",\"type\":\"Selection\"},\"selection_policy\":{\"id\":\"2848\",\"type\":\"UnionRenderers\"}},\"id\":\"2641\",\"type\":\"ColumnDataSource\"},{\"attributes\":{\"callback\":null},\"id\":\"2487\",\"type\":\"DataRange1d\"},{\"attributes\":{},\"id\":\"2628\",\"type\":\"PanTool\"},{\"attributes\":{},\"id\":\"2629\",\"type\":\"WheelZoomTool\"},{\"attributes\":{\"overlay\":{\"id\":\"2850\",\"type\":\"BoxAnnotation\"}},\"id\":\"2630\",\"type\":\"BoxZoomTool\"},{\"attributes\":{\"callback\":null},\"id\":\"2489\",\"type\":\"DataRange1d\"},{\"attributes\":{},\"id\":\"2631\",\"type\":\"SaveTool\"},{\"attributes\":{},\"id\":\"2491\",\"type\":\"LinearScale\"},{\"attributes\":{},\"id\":\"2632\",\"type\":\"ResetTool\"},{\"attributes\":{},\"id\":\"2493\",\"type\":\"LinearScale\"},{\"attributes\":{\"formatter\":{\"id\":\"2819\",\"type\":\"BasicTickFormatter\"},\"ticker\":{\"id\":\"2496\",\"type\":\"BasicTicker\"},\"visible\":false},\"id\":\"2495\",\"type\":\"LinearAxis\"},{\"attributes\":{},\"id\":\"2633\",\"type\":\"HelpTool\"},{\"attributes\":{},\"id\":\"2501\",\"type\":\"BasicTicker\"},{\"attributes\":{},\"id\":\"2496\",\"type\":\"BasicTicker\"},{\"attributes\":{\"ticker\":{\"id\":\"2496\",\"type\":\"BasicTicker\"},\"visible\":false},\"id\":\"2499\",\"type\":\"Grid\"},{\"attributes\":{\"palette\":[\"#000000\",\"#252525\",\"#525252\",\"#737373\",\"#969696\",\"#bdbdbd\",\"#d9d9d9\",\"#f0f0f0\",\"#ffffff\"]},\"id\":\"2520\",\"type\":\"LinearColorMapper\"},{\"attributes\":{\"dimension\":1,\"ticker\":{\"id\":\"2501\",\"type\":\"BasicTicker\"},\"visible\":false},\"id\":\"2504\",\"type\":\"Grid\"},{\"attributes\":{\"formatter\":{\"id\":\"2817\",\"type\":\"BasicTickFormatter\"},\"ticker\":{\"id\":\"2501\",\"type\":\"BasicTicker\"},\"visible\":false},\"id\":\"2500\",\"type\":\"LinearAxis\"},{\"attributes\":{\"color_mapper\":{\"id\":\"2522\",\"type\":\"LinearColorMapper\"},\"dh\":{\"units\":\"data\",\"value\":1},\"dw\":{\"units\":\"data\",\"value\":1},\"image\":{\"field\":\"image\"},\"x\":{\"value\":0},\"y\":{\"value\":0}},\"id\":\"2521\",\"type\":\"Image\"},{\"attributes\":{\"palette\":[\"#000000\",\"#252525\",\"#525252\",\"#737373\",\"#969696\",\"#bdbdbd\",\"#d9d9d9\",\"#f0f0f0\",\"#ffffff\"]},\"id\":\"2645\",\"type\":\"LinearColorMapper\"},{\"attributes\":{\"source\":{\"id\":\"2641\",\"type\":\"ColumnDataSource\"}},\"id\":\"2647\",\"type\":\"CDSView\"},{\"attributes\":{\"callback\":null,\"data\":{\"image\":[{\"__ndarray__\":\"AAAASaeFAAAAAAAAAAAAAAAAAQEATJeNAAAAAAAAAHvF4AAAAAAAAAAAAAAAAAAAAIPOtBIAAAAAAABrxOEAP5NxdXd2dXJydXKHeQBzzLIJAAAAAAAAacflAHPKorCura2ssLShrcwActC4BgAAAAAAAGPD3whav56XlpWUkpWVmabFAH/QtwUAAAAAAABfxd4jTsq3u76/vr7Avbu7zACdzrgFAAAAAAAAXsTcOz/Krra0tri3t7a2vMoAuMy5BQAAAAAAAF3F2GEyza+2ubi3trm4uL3HANPIugYAAAAAAABYyNOBLs6xtbW4t7e0ubi8wgDhxrsAAAAAAAAAVcnPnyzNt7ayt7a4tLu5u7kA38XIAAAAAAAAAFTLy8Qjy723tLi3uLK5uL2xAN/FyAAAAAAAAABMy8rUGsrBu7S7ubq2u7q+rBHexckAAAAAAAAASc7I0yHKwr6yube5uLq6vqMp4MLJAAAAAAAAADzPy9s4yL/At7m4uri7uMCaOuLBxwAAAAAAAAAiybnbTMW5vrSztLazt7XCkEflycUAAAAAAAAACqKdzlawyMrHxsXGyMjFxppfyLOjAAAAAAAAADH/v/6Ob2JncXV1cmlkYX9pl+C8egAAAAAAAAAAYlaguO7/9O7r7/Dz+v//zresxssAAAAAAAAAEtiGl51JVoGDiYSAgXVRQoHgmoZDAAAAAAAAAAAABxomut2yo6KjqLjL2dg2RUeIigAAAAAAAAAAy9zmywAAJC8nHBMKAAAAKKJ2GwAAAAAAAAAAAKnbz8vUh1pTWGNrdpa509vZ191YAAAAAAAAAACeyL/T09bV19bT1NLR08zQxb/aKgAAAAAAAAAAWsKvsr7Bxci9tbi7vbu4rrK0whkAAAAAAAAAAAy8t7Gvr66pmpSboqmrsLGsvqoAAAAAAAAAAAAAUrnDvbeznpifopaor7K3v9YjAAEAAAAAAAAAAAARfrzOxd76///yysTOx4MUAAABAAAAAAAAAAABAAAACY/HjX2ErLxYFgAAAAABAAAAAA==\",\"dtype\":\"uint8\",\"shape\":[28,28]}]},\"selected\":{\"id\":\"2822\",\"type\":\"Selection\"},\"selection_policy\":{\"id\":\"2821\",\"type\":\"UnionRenderers\"}},\"id\":\"2518\",\"type\":\"ColumnDataSource\"},{\"attributes\":{\"color_mapper\":{\"id\":\"2684\",\"type\":\"LinearColorMapper\"},\"dh\":{\"units\":\"data\",\"value\":1},\"dw\":{\"units\":\"data\",\"value\":1},\"image\":{\"field\":\"image\"},\"x\":{\"value\":0},\"y\":{\"value\":0}},\"id\":\"2683\",\"type\":\"Image\"},{\"attributes\":{\"active_drag\":\"auto\",\"active_inspect\":\"auto\",\"active_multi\":null,\"active_scroll\":\"auto\",\"active_tap\":\"auto\",\"tools\":[{\"id\":\"2505\",\"type\":\"PanTool\"},{\"id\":\"2506\",\"type\":\"WheelZoomTool\"},{\"id\":\"2507\",\"type\":\"BoxZoomTool\"},{\"id\":\"2508\",\"type\":\"SaveTool\"},{\"id\":\"2509\",\"type\":\"ResetTool\"},{\"id\":\"2510\",\"type\":\"HelpTool\"}]},\"id\":\"2511\",\"type\":\"Toolbar\"},{\"attributes\":{\"callback\":null},\"id\":\"2651\",\"type\":\"DataRange1d\"},{\"attributes\":{\"color_mapper\":{\"id\":\"2520\",\"type\":\"LinearColorMapper\"},\"dh\":{\"units\":\"data\",\"value\":1},\"dw\":{\"units\":\"data\",\"value\":1},\"image\":{\"field\":\"image\"},\"x\":{\"value\":0},\"y\":{\"value\":0}},\"id\":\"2519\",\"type\":\"Image\"},{\"attributes\":{},\"id\":\"2505\",\"type\":\"PanTool\"},{\"attributes\":{},\"id\":\"2506\",\"type\":\"WheelZoomTool\"},{\"attributes\":{\"callback\":null},\"id\":\"2653\",\"type\":\"DataRange1d\"},{\"attributes\":{\"overlay\":{\"id\":\"2823\",\"type\":\"BoxAnnotation\"}},\"id\":\"2507\",\"type\":\"BoxZoomTool\"},{\"attributes\":{},\"id\":\"2508\",\"type\":\"SaveTool\"},{\"attributes\":{},\"id\":\"2655\",\"type\":\"LinearScale\"},{\"attributes\":{},\"id\":\"2657\",\"type\":\"LinearScale\"},{\"attributes\":{},\"id\":\"2509\",\"type\":\"ResetTool\"},{\"attributes\":{\"formatter\":{\"id\":\"2855\",\"type\":\"BasicTickFormatter\"},\"ticker\":{\"id\":\"2660\",\"type\":\"BasicTicker\"},\"visible\":false},\"id\":\"2659\",\"type\":\"LinearAxis\"},{\"attributes\":{\"data_source\":{\"id\":\"2518\",\"type\":\"ColumnDataSource\"},\"glyph\":{\"id\":\"2519\",\"type\":\"Image\"},\"hover_glyph\":null,\"muted_glyph\":null,\"nonselection_glyph\":{\"id\":\"2521\",\"type\":\"Image\"},\"selection_glyph\":null,\"view\":{\"id\":\"2524\",\"type\":\"CDSView\"}},\"id\":\"2523\",\"type\":\"GlyphRenderer\"},{\"attributes\":{},\"id\":\"2665\",\"type\":\"BasicTicker\"},{\"attributes\":{},\"id\":\"2510\",\"type\":\"HelpTool\"},{\"attributes\":{},\"id\":\"2660\",\"type\":\"BasicTicker\"},{\"attributes\":{\"ticker\":{\"id\":\"2660\",\"type\":\"BasicTicker\"},\"visible\":false},\"id\":\"2663\",\"type\":\"Grid\"},{\"attributes\":{\"dimension\":1,\"ticker\":{\"id\":\"2665\",\"type\":\"BasicTicker\"},\"visible\":false},\"id\":\"2668\",\"type\":\"Grid\"},{\"attributes\":{\"palette\":[\"#000000\",\"#252525\",\"#525252\",\"#737373\",\"#969696\",\"#bdbdbd\",\"#d9d9d9\",\"#f0f0f0\",\"#ffffff\"]},\"id\":\"2522\",\"type\":\"LinearColorMapper\"},{\"attributes\":{\"formatter\":{\"id\":\"2853\",\"type\":\"BasicTickFormatter\"},\"ticker\":{\"id\":\"2665\",\"type\":\"BasicTicker\"},\"visible\":false},\"id\":\"2664\",\"type\":\"LinearAxis\"},{\"attributes\":{},\"id\":\"2711\",\"type\":\"WheelZoomTool\"},{\"attributes\":{\"overlay\":{\"id\":\"2868\",\"type\":\"BoxAnnotation\"}},\"id\":\"2712\",\"type\":\"BoxZoomTool\"},{\"attributes\":{},\"id\":\"2713\",\"type\":\"SaveTool\"},{\"attributes\":{\"palette\":[\"#000000\",\"#252525\",\"#525252\",\"#737373\",\"#969696\",\"#bdbdbd\",\"#d9d9d9\",\"#f0f0f0\",\"#ffffff\"]},\"id\":\"2317\",\"type\":\"LinearColorMapper\"},{\"attributes\":{},\"id\":\"2714\",\"type\":\"ResetTool\"},{\"attributes\":{},\"id\":\"2715\",\"type\":\"HelpTool\"},{\"attributes\":{\"active_drag\":\"auto\",\"active_inspect\":\"auto\",\"active_multi\":null,\"active_scroll\":\"auto\",\"active_tap\":\"auto\",\"tools\":[{\"id\":\"2710\",\"type\":\"PanTool\"},{\"id\":\"2711\",\"type\":\"WheelZoomTool\"},{\"id\":\"2712\",\"type\":\"BoxZoomTool\"},{\"id\":\"2713\",\"type\":\"SaveTool\"},{\"id\":\"2714\",\"type\":\"ResetTool\"},{\"id\":\"2715\",\"type\":\"HelpTool\"}]},\"id\":\"2716\",\"type\":\"Toolbar\"},{\"attributes\":{\"below\":[{\"id\":\"2741\",\"type\":\"LinearAxis\"}],\"center\":[{\"id\":\"2745\",\"type\":\"Grid\"},{\"id\":\"2750\",\"type\":\"Grid\"}],\"left\":[{\"id\":\"2746\",\"type\":\"LinearAxis\"}],\"plot_height\":150,\"plot_width\":150,\"renderers\":[{\"id\":\"2769\",\"type\":\"GlyphRenderer\"}],\"title\":{\"id\":\"2731\",\"type\":\"Title\"},\"toolbar\":{\"id\":\"2757\",\"type\":\"Toolbar\"},\"toolbar_location\":null,\"x_range\":{\"id\":\"2733\",\"type\":\"DataRange1d\"},\"x_scale\":{\"id\":\"2737\",\"type\":\"LinearScale\"},\"y_range\":{\"id\":\"2735\",\"type\":\"DataRange1d\"},\"y_scale\":{\"id\":\"2739\",\"type\":\"LinearScale\"}},\"id\":\"2730\",\"subtype\":\"Figure\",\"type\":\"Plot\"},{\"attributes\":{\"data_source\":{\"id\":\"2723\",\"type\":\"ColumnDataSource\"},\"glyph\":{\"id\":\"2724\",\"type\":\"Image\"},\"hover_glyph\":null,\"muted_glyph\":null,\"nonselection_glyph\":{\"id\":\"2726\",\"type\":\"Image\"},\"selection_glyph\":null,\"view\":{\"id\":\"2729\",\"type\":\"CDSView\"}},\"id\":\"2728\",\"type\":\"GlyphRenderer\"},{\"attributes\":{\"source\":{\"id\":\"2723\",\"type\":\"ColumnDataSource\"}},\"id\":\"2729\",\"type\":\"CDSView\"},{\"attributes\":{\"text\":\"Label 9\"},\"id\":\"2731\",\"type\":\"Title\"},{\"attributes\":{\"callback\":null},\"id\":\"2733\",\"type\":\"DataRange1d\"},{\"attributes\":{\"callback\":null},\"id\":\"2735\",\"type\":\"DataRange1d\"},{\"attributes\":{},\"id\":\"2737\",\"type\":\"LinearScale\"},{\"attributes\":{},\"id\":\"2739\",\"type\":\"LinearScale\"},{\"attributes\":{\"formatter\":{\"id\":\"2873\",\"type\":\"BasicTickFormatter\"},\"ticker\":{\"id\":\"2742\",\"type\":\"BasicTicker\"},\"visible\":false},\"id\":\"2741\",\"type\":\"LinearAxis\"},{\"attributes\":{},\"id\":\"2747\",\"type\":\"BasicTicker\"},{\"attributes\":{},\"id\":\"2742\",\"type\":\"BasicTicker\"},{\"attributes\":{\"ticker\":{\"id\":\"2742\",\"type\":\"BasicTicker\"},\"visible\":false},\"id\":\"2745\",\"type\":\"Grid\"},{\"attributes\":{\"palette\":[\"#000000\",\"#252525\",\"#525252\",\"#737373\",\"#969696\",\"#bdbdbd\",\"#d9d9d9\",\"#f0f0f0\",\"#ffffff\"]},\"id\":\"2766\",\"type\":\"LinearColorMapper\"},{\"attributes\":{\"data_source\":{\"id\":\"2313\",\"type\":\"ColumnDataSource\"},\"glyph\":{\"id\":\"2314\",\"type\":\"Image\"},\"hover_glyph\":null,\"muted_glyph\":null,\"nonselection_glyph\":{\"id\":\"2316\",\"type\":\"Image\"},\"selection_glyph\":null,\"view\":{\"id\":\"2319\",\"type\":\"CDSView\"}},\"id\":\"2318\",\"type\":\"GlyphRenderer\"},{\"attributes\":{\"dimension\":1,\"ticker\":{\"id\":\"2747\",\"type\":\"BasicTicker\"},\"visible\":false},\"id\":\"2750\",\"type\":\"Grid\"},{\"attributes\":{\"formatter\":{\"id\":\"2871\",\"type\":\"BasicTickFormatter\"},\"ticker\":{\"id\":\"2747\",\"type\":\"BasicTicker\"},\"visible\":false},\"id\":\"2746\",\"type\":\"LinearAxis\"},{\"attributes\":{\"color_mapper\":{\"id\":\"2768\",\"type\":\"LinearColorMapper\"},\"dh\":{\"units\":\"data\",\"value\":1},\"dw\":{\"units\":\"data\",\"value\":1},\"image\":{\"field\":\"image\"},\"x\":{\"value\":0},\"y\":{\"value\":0}},\"id\":\"2767\",\"type\":\"Image\"},{\"attributes\":{\"callback\":null,\"data\":{\"image\":[{\"__ndarray__\":\"AAAAAAAYKkAAAAMAAAAAACVHWUgmAAAAAAAAAAAABAAT3PX/dQADAAAASPX///////nHexwAAAAAAAcAPv/l/5oAAwAAQP3t+/Hu7PDz8fLlvAkAAAAEAEr76v+fAAcAAP/frNj0+O7x7ubk2fFnAAAABABh++T/qgAAAK3//Obhv/fx6ufn5u/fGQAAAAMAcfzn/7AAAFD/7vTzxuW+8fD+//bzVAAAAAABAIv95/+sAE3/5/Pw9uq40MX/jSEDAAAAAAAAAACa/On/m2P//+n07uvu8rj1dQAAAAAGAQAAAAAAr/jr9s/i59DQ9/765+n3vgAAAgQCAAAAAAAAAMD97fr7w+36yLu+3u/q/jUAAgAAAAAAAAABAADP//D0+/7l2f//39e6388AAAAAAAAAAAAAAAAAx//r/M2+6MnD7fz47/9NAAAAAQAAAAAAAAAAnOn/7v7du9/28s3h7u7jAAACAAAAAAAAAABald/m9e/+46//5fz71NL/gwAAAAAAAAAAAAAAAEzg4P/x/OWv/+Tx9/HK4gcAAwAAAAAAAAAAAAAAoP+f//rYw//i5+PX+nQAAAAAAAAAAAAAAAAAAAD/HOH/ztz41evr3f8uAAIAAAAAAAAAAAAAAAAAsVoA/9Hy8vjz6eTeAAADAAAAAAAAAAAAAAABAACNXf++4c/Uys33mQAAAAAAAAAAAAAAAAAAAAEAALL/x/Lc7dzK9T0AAQAAAAAAAAAAAAAAAAABAACm27/f7ez/8eAAAAQAAAAAAAAAAAAAAAAAAB+F/87/2tu5xua9AAABAAAAAAAAAAAAAAADAD9ygO/+9ur8/dfnfQAAAAAAAAAAAAAAAAAAAgAYLM/8/+Lt9O/n/0gABgEAAAAAAAAAAAAAAAAHACH78vjW6PTs6fQGAAQAAAAAAAAAAAAAAAAACQCS//r/9vPj6ePVAAACAAAAAAAAAAAAAAAAAAMACZbUypv///j0vgAAAQAAAAAAAAAAAAAAAAAAAQAAAAAAG1VdbycAAAAAAAAAAAAAAAAAAA==\",\"dtype\":\"uint8\",\"shape\":[28,28]}]},\"selected\":{\"id\":\"2876\",\"type\":\"Selection\"},\"selection_policy\":{\"id\":\"2875\",\"type\":\"UnionRenderers\"}},\"id\":\"2764\",\"type\":\"ColumnDataSource\"},{\"attributes\":{\"data_source\":{\"id\":\"2764\",\"type\":\"ColumnDataSource\"},\"glyph\":{\"id\":\"2765\",\"type\":\"Image\"},\"hover_glyph\":null,\"muted_glyph\":null,\"nonselection_glyph\":{\"id\":\"2767\",\"type\":\"Image\"},\"selection_glyph\":null,\"view\":{\"id\":\"2770\",\"type\":\"CDSView\"}},\"id\":\"2769\",\"type\":\"GlyphRenderer\"},{\"attributes\":{\"color_mapper\":{\"id\":\"2766\",\"type\":\"LinearColorMapper\"},\"dh\":{\"units\":\"data\",\"value\":1},\"dw\":{\"units\":\"data\",\"value\":1},\"image\":{\"field\":\"image\"},\"x\":{\"value\":0},\"y\":{\"value\":0}},\"id\":\"2765\",\"type\":\"Image\"},{\"attributes\":{},\"id\":\"2751\",\"type\":\"PanTool\"},{\"attributes\":{},\"id\":\"2752\",\"type\":\"WheelZoomTool\"},{\"attributes\":{\"overlay\":{\"id\":\"2877\",\"type\":\"BoxAnnotation\"}},\"id\":\"2753\",\"type\":\"BoxZoomTool\"},{\"attributes\":{},\"id\":\"2754\",\"type\":\"SaveTool\"},{\"attributes\":{},\"id\":\"2755\",\"type\":\"ResetTool\"},{\"attributes\":{\"source\":{\"id\":\"2764\",\"type\":\"ColumnDataSource\"}},\"id\":\"2770\",\"type\":\"CDSView\"},{\"attributes\":{\"active_drag\":\"auto\",\"active_inspect\":\"auto\",\"active_multi\":null,\"active_scroll\":\"auto\",\"active_tap\":\"auto\",\"tools\":[{\"id\":\"2423\",\"type\":\"PanTool\"},{\"id\":\"2424\",\"type\":\"WheelZoomTool\"},{\"id\":\"2425\",\"type\":\"BoxZoomTool\"},{\"id\":\"2426\",\"type\":\"SaveTool\"},{\"id\":\"2427\",\"type\":\"ResetTool\"},{\"id\":\"2428\",\"type\":\"HelpTool\"}]},\"id\":\"2429\",\"type\":\"Toolbar\"},{\"attributes\":{},\"id\":\"2423\",\"type\":\"PanTool\"},{\"attributes\":{},\"id\":\"2424\",\"type\":\"WheelZoomTool\"},{\"attributes\":{\"overlay\":{\"id\":\"2805\",\"type\":\"BoxAnnotation\"}},\"id\":\"2425\",\"type\":\"BoxZoomTool\"},{\"attributes\":{},\"id\":\"2426\",\"type\":\"SaveTool\"},{\"attributes\":{\"active_drag\":\"auto\",\"active_inspect\":\"auto\",\"active_multi\":null,\"active_scroll\":\"auto\",\"active_tap\":\"auto\",\"tools\":[{\"id\":\"2341\",\"type\":\"PanTool\"},{\"id\":\"2342\",\"type\":\"WheelZoomTool\"},{\"id\":\"2343\",\"type\":\"BoxZoomTool\"},{\"id\":\"2344\",\"type\":\"SaveTool\"},{\"id\":\"2345\",\"type\":\"ResetTool\"},{\"id\":\"2346\",\"type\":\"HelpTool\"}]},\"id\":\"2347\",\"type\":\"Toolbar\"},{\"attributes\":{},\"id\":\"2427\",\"type\":\"ResetTool\"},{\"attributes\":{\"palette\":[\"#000000\",\"#252525\",\"#525252\",\"#737373\",\"#969696\",\"#bdbdbd\",\"#d9d9d9\",\"#f0f0f0\",\"#ffffff\"]},\"id\":\"2481\",\"type\":\"LinearColorMapper\"},{\"attributes\":{},\"id\":\"2428\",\"type\":\"HelpTool\"},{\"attributes\":{\"data_source\":{\"id\":\"2436\",\"type\":\"ColumnDataSource\"},\"glyph\":{\"id\":\"2437\",\"type\":\"Image\"},\"hover_glyph\":null,\"muted_glyph\":null,\"nonselection_glyph\":{\"id\":\"2439\",\"type\":\"Image\"},\"selection_glyph\":null,\"view\":{\"id\":\"2442\",\"type\":\"CDSView\"}},\"id\":\"2441\",\"type\":\"GlyphRenderer\"},{\"attributes\":{\"data_source\":{\"id\":\"2354\",\"type\":\"ColumnDataSource\"},\"glyph\":{\"id\":\"2355\",\"type\":\"Image\"},\"hover_glyph\":null,\"muted_glyph\":null,\"nonselection_glyph\":{\"id\":\"2357\",\"type\":\"Image\"},\"selection_glyph\":null,\"view\":{\"id\":\"2360\",\"type\":\"CDSView\"}},\"id\":\"2359\",\"type\":\"GlyphRenderer\"},{\"attributes\":{\"source\":{\"id\":\"2436\",\"type\":\"ColumnDataSource\"}},\"id\":\"2442\",\"type\":\"CDSView\"},{\"attributes\":{\"below\":[{\"id\":\"2454\",\"type\":\"LinearAxis\"}],\"center\":[{\"id\":\"2458\",\"type\":\"Grid\"},{\"id\":\"2463\",\"type\":\"Grid\"}],\"left\":[{\"id\":\"2459\",\"type\":\"LinearAxis\"}],\"plot_height\":150,\"plot_width\":150,\"renderers\":[{\"id\":\"2482\",\"type\":\"GlyphRenderer\"}],\"title\":{\"id\":\"2444\",\"type\":\"Title\"},\"toolbar\":{\"id\":\"2470\",\"type\":\"Toolbar\"},\"toolbar_location\":null,\"x_range\":{\"id\":\"2446\",\"type\":\"DataRange1d\"},\"x_scale\":{\"id\":\"2450\",\"type\":\"LinearScale\"},\"y_range\":{\"id\":\"2448\",\"type\":\"DataRange1d\"},\"y_scale\":{\"id\":\"2452\",\"type\":\"LinearScale\"}},\"id\":\"2443\",\"subtype\":\"Figure\",\"type\":\"Plot\"},{\"attributes\":{\"text\":\"Label 0\"},\"id\":\"2444\",\"type\":\"Title\"},{\"attributes\":{\"callback\":null},\"id\":\"2446\",\"type\":\"DataRange1d\"},{\"attributes\":{\"callback\":null},\"id\":\"2448\",\"type\":\"DataRange1d\"},{\"attributes\":{},\"id\":\"2450\",\"type\":\"LinearScale\"},{\"attributes\":{},\"id\":\"2452\",\"type\":\"LinearScale\"},{\"attributes\":{\"formatter\":{\"id\":\"2810\",\"type\":\"BasicTickFormatter\"},\"ticker\":{\"id\":\"2455\",\"type\":\"BasicTicker\"},\"visible\":false},\"id\":\"2454\",\"type\":\"LinearAxis\"},{\"attributes\":{},\"id\":\"2460\",\"type\":\"BasicTicker\"},{\"attributes\":{\"source\":{\"id\":\"2354\",\"type\":\"ColumnDataSource\"}},\"id\":\"2360\",\"type\":\"CDSView\"},{\"attributes\":{},\"id\":\"2455\",\"type\":\"BasicTicker\"},{\"attributes\":{\"ticker\":{\"id\":\"2455\",\"type\":\"BasicTicker\"},\"visible\":false},\"id\":\"2458\",\"type\":\"Grid\"},{\"attributes\":{\"palette\":[\"#000000\",\"#252525\",\"#525252\",\"#737373\",\"#969696\",\"#bdbdbd\",\"#d9d9d9\",\"#f0f0f0\",\"#ffffff\"]},\"id\":\"2479\",\"type\":\"LinearColorMapper\"},{\"attributes\":{\"dimension\":1,\"ticker\":{\"id\":\"2460\",\"type\":\"BasicTicker\"},\"visible\":false},\"id\":\"2463\",\"type\":\"Grid\"},{\"attributes\":{\"formatter\":{\"id\":\"2808\",\"type\":\"BasicTickFormatter\"},\"ticker\":{\"id\":\"2460\",\"type\":\"BasicTicker\"},\"visible\":false},\"id\":\"2459\",\"type\":\"LinearAxis\"},{\"attributes\":{\"color_mapper\":{\"id\":\"2481\",\"type\":\"LinearColorMapper\"},\"dh\":{\"units\":\"data\",\"value\":1},\"dw\":{\"units\":\"data\",\"value\":1},\"image\":{\"field\":\"image\"},\"x\":{\"value\":0},\"y\":{\"value\":0}},\"id\":\"2480\",\"type\":\"Image\"},{\"attributes\":{},\"id\":\"2346\",\"type\":\"HelpTool\"},{\"attributes\":{\"callback\":null,\"data\":{\"image\":[{\"__ndarray__\":\"AAAAAAAAAAAAAEqhiwAZqGY9AAAAAAAAAAAAAAAAAAAAAAAARv/y//YAVP/r8v8tAAAAAAAAAAAAAAAAAAAAH//u4e7fAD7/2t7y/wAAAAAAAAAAAAAAAAAAAI7x4+bt8wBA/9zk5PFlAAAAAAAAAAAAAAAAAAC7+ebm8/cATP/T5eP4sQAAAAAAAAAAAAAAAAAAkO7Y1tvp4fLn2NrL644AAAAAAAAAAAAAAAAAAGPywNra2tzx3tvc0P9CAAAAAAAAAAAAAAAAAAA67pne29jW6dzb29T+EQAAAAAAAAAAAAAAAAAAB/ff2NrX2erb3NjZ6gAAAAAAAAAAAAAAAAAAAADc1NXa19rn293W3coAAAAAAAAAAAAAAAAAAAAAo9vN2Nfa5Nvc0+KSAAAAAAAAAAAAAAAAAAAAADr+ztXX2+Pb29HjTwAAAAAAAAAAAAAAAAAAAAAA59PT19rg29rW/yYAAAAAAAAAAAAAAAAAAAAAANPX0tbZ3tvZ2PkAAAAAAAAAAAAAAAAAAAAAAACz2s/W2N7a19j4AAAAAAAAAAAAAAAAAAAAAAAAk97L1dnc2dbY9wAAAAAAAAAAAAAAAAAAAAAAAH3hzNPX2djW2PUAAAAAAAAAAAAAAAAAAAAAAACI4svU1tjZ1tj3AAAAAAAAAAAAAAAAAAAAAAAAluHO2NjZ2dfY/gAAAAAAAAAAAAAAAAAAAAAAAKfdy9TX1tPS1v4YAAAAAAAAAAAAAAAAAAAAAACs4MrZ19LY2tbeLQAAAAAAAAAAAAAAAAAAAAAAq+fZ2+/84NzV5EYAAAAAAAAAAAAAAAAAAAAAALrm1vaiLvnX0+hiAAAAAAAAAAAAAAAAAAAAAADI4tX/ogD/4tTliwAAAAAAAAAAAAAAAAAAAAAAvt3Z8MIA/unX4a0AAAAAAAAAAAAAAAAAAAAAANHa6vLvk+bz6uPAAAAAAAAAAAAAAAAAAAAAAAvE4tkaAAAAILvOvQAAAAAAAAAAAAAAAAAAAAAAABoAAAAAAAAAAAAAAAAAAAAAAA==\",\"dtype\":\"uint8\",\"shape\":[28,28]}]},\"selected\":{\"id\":\"2813\",\"type\":\"Selection\"},\"selection_policy\":{\"id\":\"2812\",\"type\":\"UnionRenderers\"}},\"id\":\"2477\",\"type\":\"ColumnDataSource\"},{\"attributes\":{\"color_mapper\":{\"id\":\"2479\",\"type\":\"LinearColorMapper\"},\"dh\":{\"units\":\"data\",\"value\":1},\"dw\":{\"units\":\"data\",\"value\":1},\"image\":{\"field\":\"image\"},\"x\":{\"value\":0},\"y\":{\"value\":0}},\"id\":\"2478\",\"type\":\"Image\"},{\"attributes\":{},\"id\":\"2464\",\"type\":\"PanTool\"},{\"attributes\":{},\"id\":\"2465\",\"type\":\"WheelZoomTool\"},{\"attributes\":{\"overlay\":{\"id\":\"2814\",\"type\":\"BoxAnnotation\"}},\"id\":\"2466\",\"type\":\"BoxZoomTool\"},{\"attributes\":{},\"id\":\"2467\",\"type\":\"SaveTool\"},{\"attributes\":{},\"id\":\"2468\",\"type\":\"ResetTool\"}],\"root_ids\":[\"2882\"]},\"title\":\"Bokeh Application\",\"version\":\"1.4.0\"}};\n",
       "  var render_items = [{\"docid\":\"f20b9beb-8865-430f-a846-0ac6eff80946\",\"roots\":{\"2882\":\"ce2608d2-8a3d-4dce-9b6b-ff5ec5df7dfc\"}}];\n",
       "  root.Bokeh.embed.embed_items_notebook(docs_json, render_items);\n",
       "\n",
       "  }\n",
       "  if (root.Bokeh !== undefined) {\n",
       "    embed_document(root);\n",
       "  } else {\n",
       "    var attempts = 0;\n",
       "    var timer = setInterval(function(root) {\n",
       "      if (root.Bokeh !== undefined) {\n",
       "        clearInterval(timer);\n",
       "        embed_document(root);\n",
       "      } else {\n",
       "        attempts++;\n",
       "        if (attempts > 100) {\n",
       "          clearInterval(timer);\n",
       "          console.log(\"Bokeh: ERROR: Unable to run BokehJS code because BokehJS library is missing\");\n",
       "        }\n",
       "      }\n",
       "    }, 10, root)\n",
       "  }\n",
       "})(window);"
      ],
      "application/vnd.bokehjs_exec.v0+json": ""
     },
     "metadata": {
      "application/vnd.bokehjs_exec.v0+json": {
       "id": "2882"
      }
     },
     "output_type": "display_data"
    }
   ],
   "source": [
    "image_samples = train[:12].reshape(-1, 28, 28)\n",
    "label_samples = train_labels[:12]\n",
    "\n",
    "rows = show_image_grid(image_samples, label_samples, rot90=2)"
   ]
  },
  {
   "cell_type": "code",
   "execution_count": 22,
   "metadata": {},
   "outputs": [
    {
     "data": {
      "text/plain": [
       "'channels_last'"
      ]
     },
     "execution_count": 22,
     "metadata": {},
     "output_type": "execute_result"
    }
   ],
   "source": [
    "from keras import backend as K\n",
    "\n",
    "K.image_data_format()"
   ]
  },
  {
   "cell_type": "code",
   "execution_count": 23,
   "metadata": {},
   "outputs": [
    {
     "name": "stdout",
     "output_type": "stream",
     "text": [
      "range = (0, 255)\n",
      "dtype = uint8\n",
      "train_X shape = (60000, 28, 28, 1)\n",
      "test_X  shape = (10000, 28, 28, 1)\n",
      "\n",
      "range = (0.0, 1.0)\n",
      "dtype = float32\n",
      "train_X shape = (60000, 28, 28, 1)\n",
      "test_X  shape = (10000, 28, 28, 1)\n"
     ]
    }
   ],
   "source": [
    "if K.image_data_format() == 'channels_first':\n",
    "    train_X = train.reshape(train.shape[0], 1, 28, 28)\n",
    "    test_X = test.reshape(test.shape[0], 1, 28, 28)\n",
    "    input_shape = (1, 28, 28)\n",
    "else:\n",
    "    train_X = train.reshape(train.shape[0], 28, 28, 1)\n",
    "    test_X = test.reshape(test.shape[0], 28, 28, 1)\n",
    "    input_shape = (28, 28, 1)\n",
    "\n",
    "print(f'range = ({train_X.min()}, {train_X.max()})')\n",
    "print(f'dtype = {train_X.dtype}')\n",
    "print(f'train_X shape = {train_X.shape}')\n",
    "print(f'test_X  shape = {test_X.shape}')\n",
    "\n",
    "train_X = train_X.astype(np.float32) / 255\n",
    "test_X = test_X.astype(np.float32) / 255\n",
    "\n",
    "print(f'\\nrange = ({train_X.min()}, {train_X.max()})')\n",
    "print(f'dtype = {train_X.dtype}')\n",
    "print(f'train_X shape = {train_X.shape}')\n",
    "print(f'test_X  shape = {test_X.shape}')"
   ]
  },
  {
   "cell_type": "code",
   "execution_count": 24,
   "metadata": {},
   "outputs": [
    {
     "name": "stdout",
     "output_type": "stream",
     "text": [
      "train_y shape = (60000, 10)\n",
      "test_y  shape = (10000, 10)\n"
     ]
    }
   ],
   "source": [
    "train_y = keras.utils.to_categorical(train_labels, n_classes)\n",
    "test_y = keras.utils.to_categorical(test_labels, n_classes)\n",
    "\n",
    "print(f'train_y shape = {train_y.shape}')\n",
    "print(f'test_y  shape = {test_y.shape}')"
   ]
  },
  {
   "cell_type": "code",
   "execution_count": 25,
   "metadata": {},
   "outputs": [],
   "source": [
    "from keras.models import Sequential\n",
    "from keras.layers import Conv2D, MaxPooling2D, Dense, Flatten\n",
    "\n",
    "cnn = Sequential()\n",
    "cnn.add(\n",
    "    Conv2D(\n",
    "        filters=32,\n",
    "        kernel_size=(3,3),\n",
    "        strides=(1,1),\n",
    "        activation='relu',\n",
    "        use_bias=True,\n",
    "        kernel_initializer='glorot_uniform',\n",
    "        input_shape = input_shape\n",
    "    ))\n",
    "cnn.add(MaxPooling2D(pool_size=(2,2)))\n",
    "cnn.add(Conv2D(filters=32, kernel_size=(3,3), activation='relu'))\n",
    "cnn.add(MaxPooling2D(pool_size=(2,2)))\n",
    "cnn.add(Flatten())\n",
    "cnn.add(Dense(units=128, activation='relu'))\n",
    "cnn.add(Dense(64, activation='relu'))\n",
    "cnn.add(Dense(n_classes, activation='softmax'))\n",
    "\n",
    "cnn.compile(\n",
    "    loss = keras.losses.categorical_crossentropy,\n",
    "    optimizer = keras.optimizers.Adam(),\n",
    "    metrics = ['accuracy']\n",
    ")"
   ]
  },
  {
   "cell_type": "code",
   "execution_count": 26,
   "metadata": {},
   "outputs": [
    {
     "name": "stdout",
     "output_type": "stream",
     "text": [
      "Model: \"sequential_1\"\n",
      "_________________________________________________________________\n",
      "Layer (type)                 Output Shape              Param #   \n",
      "=================================================================\n",
      "conv2d_1 (Conv2D)            (None, 26, 26, 32)        320       \n",
      "_________________________________________________________________\n",
      "max_pooling2d_1 (MaxPooling2 (None, 13, 13, 32)        0         \n",
      "_________________________________________________________________\n",
      "conv2d_2 (Conv2D)            (None, 11, 11, 32)        9248      \n",
      "_________________________________________________________________\n",
      "max_pooling2d_2 (MaxPooling2 (None, 5, 5, 32)          0         \n",
      "_________________________________________________________________\n",
      "flatten_1 (Flatten)          (None, 800)               0         \n",
      "_________________________________________________________________\n",
      "dense_1 (Dense)              (None, 128)               102528    \n",
      "_________________________________________________________________\n",
      "dense_2 (Dense)              (None, 64)                8256      \n",
      "_________________________________________________________________\n",
      "dense_3 (Dense)              (None, 10)                650       \n",
      "=================================================================\n",
      "Total params: 121,002\n",
      "Trainable params: 121,002\n",
      "Non-trainable params: 0\n",
      "_________________________________________________________________\n"
     ]
    }
   ],
   "source": [
    "cnn.summary()"
   ]
  },
  {
   "cell_type": "code",
   "execution_count": 27,
   "metadata": {},
   "outputs": [
    {
     "name": "stdout",
     "output_type": "stream",
     "text": [
      "shape of output = (3, 10)\n",
      "[[0.1031251 0.0863935 0.1017048]\n",
      " [0.0949227 0.0992664 0.1013836]\n",
      " [0.1133611 0.1208772 0.1104651]\n",
      " [0.0985312 0.1006509 0.0973843]\n",
      " [0.097416  0.1104402 0.115727 ]\n",
      " [0.1100124 0.1270575 0.1147457]\n",
      " [0.1094344 0.1006733 0.1066365]\n",
      " [0.087649  0.0800953 0.0921294]\n",
      " [0.0965499 0.0949707 0.0830492]\n",
      " [0.0889982 0.0795749 0.0767745]]\n"
     ]
    }
   ],
   "source": [
    "np.set_printoptions(precision=7, suppress=True)\n",
    "\n",
    "print(f'shape of output = {cnn.predict(test_X[:3]).shape}')\n",
    "print(cnn.predict(test_X[:3]).T)"
   ]
  },
  {
   "cell_type": "code",
   "execution_count": 28,
   "metadata": {},
   "outputs": [
    {
     "name": "stdout",
     "output_type": "stream",
     "text": [
      "Train on 60000 samples, validate on 10000 samples\n",
      "Epoch 1/20\n",
      " - 25s - loss: 0.5968 - accuracy: 0.7830 - val_loss: 0.4439 - val_accuracy: 0.8409\n",
      "Epoch 2/20\n",
      " - 23s - loss: 0.3871 - accuracy: 0.8604 - val_loss: 0.3554 - val_accuracy: 0.8737\n",
      "Epoch 3/20\n",
      " - 24s - loss: 0.3320 - accuracy: 0.8798 - val_loss: 0.3358 - val_accuracy: 0.8752\n",
      "Epoch 4/20\n",
      " - 24s - loss: 0.3000 - accuracy: 0.8907 - val_loss: 0.3307 - val_accuracy: 0.8809\n",
      "Epoch 5/20\n",
      " - 24s - loss: 0.2794 - accuracy: 0.8974 - val_loss: 0.3169 - val_accuracy: 0.8863\n",
      "Epoch 6/20\n",
      " - 25s - loss: 0.2592 - accuracy: 0.9046 - val_loss: 0.3026 - val_accuracy: 0.8875\n",
      "Epoch 7/20\n",
      " - 24s - loss: 0.2444 - accuracy: 0.9092 - val_loss: 0.2769 - val_accuracy: 0.9002\n",
      "Epoch 8/20\n",
      " - 29s - loss: 0.2307 - accuracy: 0.9133 - val_loss: 0.2761 - val_accuracy: 0.9001\n",
      "Epoch 9/20\n",
      " - 26s - loss: 0.2179 - accuracy: 0.9180 - val_loss: 0.2808 - val_accuracy: 0.8986\n",
      "Epoch 10/20\n",
      " - 23s - loss: 0.2083 - accuracy: 0.9226 - val_loss: 0.2780 - val_accuracy: 0.8996\n",
      "Epoch 11/20\n",
      " - 24s - loss: 0.1939 - accuracy: 0.9279 - val_loss: 0.2561 - val_accuracy: 0.9076\n",
      "Epoch 12/20\n",
      " - 24s - loss: 0.1821 - accuracy: 0.9324 - val_loss: 0.2705 - val_accuracy: 0.9052\n",
      "Epoch 13/20\n",
      " - 24s - loss: 0.1703 - accuracy: 0.9362 - val_loss: 0.2615 - val_accuracy: 0.9112\n",
      "Epoch 14/20\n",
      " - 22s - loss: 0.1644 - accuracy: 0.9389 - val_loss: 0.2607 - val_accuracy: 0.9082\n",
      "Epoch 15/20\n",
      " - 23s - loss: 0.1532 - accuracy: 0.9426 - val_loss: 0.2817 - val_accuracy: 0.9019\n",
      "Epoch 16/20\n",
      " - 24s - loss: 0.1441 - accuracy: 0.9459 - val_loss: 0.2778 - val_accuracy: 0.9078\n",
      "Epoch 17/20\n",
      " - 23s - loss: 0.1361 - accuracy: 0.9492 - val_loss: 0.2917 - val_accuracy: 0.9089\n",
      "Epoch 18/20\n",
      " - 23s - loss: 0.1275 - accuracy: 0.9532 - val_loss: 0.3090 - val_accuracy: 0.9072\n",
      "Epoch 19/20\n",
      " - 24s - loss: 0.1208 - accuracy: 0.9547 - val_loss: 0.2846 - val_accuracy: 0.9127\n",
      "Epoch 20/20\n",
      " - 23s - loss: 0.1111 - accuracy: 0.9585 - val_loss: 0.2950 - val_accuracy: 0.9115\n"
     ]
    }
   ],
   "source": [
    "from time import time\n",
    "\n",
    "\n",
    "batch_size = 128\n",
    "epochs = 20\n",
    "\n",
    "train_time = time()\n",
    "\n",
    "history = cnn.fit(\n",
    "    train_X, train_y,\n",
    "    batch_size = batch_size,\n",
    "    epochs = epochs,\n",
    "    verbose = 2, # 0: silent, 1: progress bar, 2: one line per epoch\n",
    "    validation_data = (test_X, test_y)\n",
    ")\n",
    "\n",
    "train_time = time() - train_time"
   ]
  },
  {
   "cell_type": "code",
   "execution_count": 29,
   "metadata": {},
   "outputs": [
    {
     "name": "stdout",
     "output_type": "stream",
     "text": [
      "10000/10000 [==============================] - 1s 100us/step\n"
     ]
    }
   ],
   "source": [
    "test_time = time()\n",
    "score = cnn.evaluate(test_X, test_y)\n",
    "test_time = time() - test_time"
   ]
  },
  {
   "cell_type": "code",
   "execution_count": 30,
   "metadata": {},
   "outputs": [
    {
     "name": "stdout",
     "output_type": "stream",
     "text": [
      "train time = 482.85 sec\n",
      "test  time = 1.003 sec\n",
      "evaluation score = [0.2949613790631294, 0.9114999771118164]\n"
     ]
    }
   ],
   "source": [
    "print(f'train time = {train_time:.5} sec')\n",
    "print(f'test  time = {test_time:.5} sec')\n",
    "print(f'evaluation score = {score}')"
   ]
  },
  {
   "cell_type": "code",
   "execution_count": 31,
   "metadata": {},
   "outputs": [
    {
     "name": "stdout",
     "output_type": "stream",
     "text": [
      "shape of output = (3, 10)\n",
      "[[0.        0.        0.       ]\n",
      " [0.        0.        1.       ]\n",
      " [0.        0.9999948 0.       ]\n",
      " [0.        0.        0.       ]\n",
      " [0.        0.0000052 0.       ]\n",
      " [0.000001  0.        0.       ]\n",
      " [0.        0.        0.       ]\n",
      " [0.0000092 0.        0.       ]\n",
      " [0.        0.        0.       ]\n",
      " [0.9999897 0.        0.       ]]\n"
     ]
    }
   ],
   "source": [
    "print(f'shape of output = {cnn.predict(test_X[:3]).shape}')\n",
    "print(cnn.predict(test_X[:3]).T)"
   ]
  },
  {
   "cell_type": "code",
   "execution_count": 34,
   "metadata": {},
   "outputs": [
    {
     "name": "stdout",
     "output_type": "stream",
     "text": [
      "[conv2d_1] weights: (3, 3, 1, 32), bias: (32,)\n",
      "[conv2d_2] weights: (3, 3, 32, 32), bias: (32,)\n",
      "[dense_1] weights: (800, 128), bias: (128,)\n",
      "[dense_2] weights: (128, 64), bias: (64,)\n",
      "[dense_3] weights: (64, 10), bias: (10,)\n"
     ]
    }
   ],
   "source": [
    "for layer in cnn.layers:\n",
    "    name = layer.name\n",
    "    if name[:5] in ['conv2', 'dense']:        \n",
    "        weights = layer.weights[0].numpy()\n",
    "        bias = layer.bias.numpy()\n",
    "        print(f'[{name}] weights: {weights.shape}, bias: {bias.shape}')"
   ]
  },
  {
   "cell_type": "code",
   "execution_count": 35,
   "metadata": {},
   "outputs": [
    {
     "name": "stdout",
     "output_type": "stream",
     "text": [
      "num layers = 8\n",
      "\n",
      "[conv2d_1        ]: (3, 26, 26, 32)\n",
      "[max_pooling2d_1 ]: (3, 13, 13, 32)\n",
      "[conv2d_2        ]: (3, 11, 11, 32)\n",
      "[max_pooling2d_2 ]: (3, 5, 5, 32)\n",
      "[flatten_1       ]: (3, 800)\n",
      "[dense_1         ]: (3, 128)\n",
      "[dense_2         ]: (3, 64)\n",
      "[dense_3         ]: (3, 10)\n"
     ]
    }
   ],
   "source": [
    "def get_hidden_vectors(model, inputs, mode=0):\n",
    "    func = K.function([model.layers[0].input, K.learning_phase()],\n",
    "                      [layer.output for layer in model.layers])\n",
    "    # mode 0 : evaluation mode\n",
    "    # mode 1 : training mode. diff when using dropout\n",
    "    hiddens = func([inputs, mode])\n",
    "    names = [layer.name for layer in model.layers]\n",
    "    return hiddens, names\n",
    "\n",
    "hiddens, names = get_hidden_vectors(cnn, test_X[:3])\n",
    "\n",
    "print(f'num layers = {len(hiddens)}\\n')\n",
    "for h, name in zip(hiddens, names):\n",
    "    print(f'[{name:16}]: {h.shape}')"
   ]
  },
  {
   "cell_type": "code",
   "execution_count": 36,
   "metadata": {},
   "outputs": [],
   "source": [
    "from bokeh.palettes import Spectral4\n",
    "from bokeh.plotting import figure, show\n",
    "from bokeh.models import SingleIntervalTicker\n",
    "\n",
    "# bokeh >= 1.4.0 부터 legend -> legend_label 로 이름이 바뀌었습니다.\n",
    "def linechart(x, y, line_color='grey', line_width=3, legend_label=None, p=None, title=None):\n",
    "    if p is None:\n",
    "        p = figure(width=800, height=400, title=title)\n",
    "        p.xaxis.axis_label = 'Epoch'\n",
    "        p.xaxis.ticker = SingleIntervalTicker(interval=1)\n",
    "        p.xaxis.major_label_standoff = 1\n",
    "    p.line(x=x, y=y, line_color=line_color, line_width=line_width,\n",
    "           legend_label=legend_label, alpha=0.8, line_dash=(4,4))\n",
    "    return p"
   ]
  },
  {
   "cell_type": "code",
   "execution_count": 37,
   "metadata": {},
   "outputs": [
    {
     "data": {
      "text/html": [
       "\n",
       "\n",
       "\n",
       "\n",
       "\n",
       "\n",
       "  <div class=\"bk-root\" id=\"28af89ce-85e8-4458-b78f-6a9d37275c9b\" data-root-id=\"3651\"></div>\n"
      ]
     },
     "metadata": {},
     "output_type": "display_data"
    },
    {
     "data": {
      "application/javascript": [
       "(function(root) {\n",
       "  function embed_document(root) {\n",
       "    \n",
       "  var docs_json = {\"845d328e-f977-4988-a5a1-8931e5c77f2d\":{\"roots\":{\"references\":[{\"attributes\":{\"below\":[{\"id\":\"3662\",\"type\":\"LinearAxis\"}],\"center\":[{\"id\":\"3666\",\"type\":\"Grid\"},{\"id\":\"3671\",\"type\":\"Grid\"},{\"id\":\"3697\",\"type\":\"Legend\"}],\"left\":[{\"id\":\"3667\",\"type\":\"LinearAxis\"}],\"plot_height\":400,\"plot_width\":800,\"renderers\":[{\"id\":\"3690\",\"type\":\"GlyphRenderer\"},{\"id\":\"3702\",\"type\":\"GlyphRenderer\"},{\"id\":\"3715\",\"type\":\"GlyphRenderer\"},{\"id\":\"3730\",\"type\":\"GlyphRenderer\"}],\"title\":{\"id\":\"3652\",\"type\":\"Title\"},\"toolbar\":{\"id\":\"3678\",\"type\":\"Toolbar\"},\"x_range\":{\"id\":\"3654\",\"type\":\"DataRange1d\"},\"x_scale\":{\"id\":\"3658\",\"type\":\"LinearScale\"},\"y_range\":{\"id\":\"3656\",\"type\":\"DataRange1d\"},\"y_scale\":{\"id\":\"3660\",\"type\":\"LinearScale\"}},\"id\":\"3651\",\"subtype\":\"Figure\",\"type\":\"Plot\"},{\"attributes\":{\"label\":{\"value\":\"val_accuracy\"},\"renderers\":[{\"id\":\"3702\",\"type\":\"GlyphRenderer\"}]},\"id\":\"3711\",\"type\":\"LegendItem\"},{\"attributes\":{\"items\":[{\"id\":\"3698\",\"type\":\"LegendItem\"},{\"id\":\"3711\",\"type\":\"LegendItem\"},{\"id\":\"3726\",\"type\":\"LegendItem\"},{\"id\":\"3743\",\"type\":\"LegendItem\"}]},\"id\":\"3697\",\"type\":\"Legend\"},{\"attributes\":{\"source\":{\"id\":\"3727\",\"type\":\"ColumnDataSource\"}},\"id\":\"3731\",\"type\":\"CDSView\"},{\"attributes\":{},\"id\":\"3695\",\"type\":\"BasicTickFormatter\"},{\"attributes\":{\"label\":{\"value\":\"loss\"},\"renderers\":[{\"id\":\"3715\",\"type\":\"GlyphRenderer\"}]},\"id\":\"3726\",\"type\":\"LegendItem\"},{\"attributes\":{\"text\":\"Training performance of CNN\"},\"id\":\"3652\",\"type\":\"Title\"},{\"attributes\":{\"line_alpha\":0.8,\"line_color\":\"#2b83ba\",\"line_dash\":[4,4],\"line_width\":3,\"x\":{\"field\":\"x\"},\"y\":{\"field\":\"y\"}},\"id\":\"3688\",\"type\":\"Line\"},{\"attributes\":{\"bottom_units\":\"screen\",\"fill_alpha\":{\"value\":0.5},\"fill_color\":{\"value\":\"lightgrey\"},\"left_units\":\"screen\",\"level\":\"overlay\",\"line_alpha\":{\"value\":1.0},\"line_color\":{\"value\":\"black\"},\"line_dash\":[4,4],\"line_width\":{\"value\":2},\"render_mode\":\"css\",\"right_units\":\"screen\",\"top_units\":\"screen\"},\"id\":\"3696\",\"type\":\"BoxAnnotation\"},{\"attributes\":{},\"id\":\"3677\",\"type\":\"HelpTool\"},{\"attributes\":{},\"id\":\"3708\",\"type\":\"UnionRenderers\"},{\"attributes\":{\"formatter\":{\"id\":\"3693\",\"type\":\"BasicTickFormatter\"},\"ticker\":{\"id\":\"3668\",\"type\":\"BasicTicker\"}},\"id\":\"3667\",\"type\":\"LinearAxis\"},{\"attributes\":{\"line_alpha\":0.1,\"line_color\":\"#1f77b4\",\"line_dash\":[4,4],\"line_width\":3,\"x\":{\"field\":\"x\"},\"y\":{\"field\":\"y\"}},\"id\":\"3689\",\"type\":\"Line\"},{\"attributes\":{},\"id\":\"3723\",\"type\":\"UnionRenderers\"},{\"attributes\":{\"data_source\":{\"id\":\"3699\",\"type\":\"ColumnDataSource\"},\"glyph\":{\"id\":\"3700\",\"type\":\"Line\"},\"hover_glyph\":null,\"muted_glyph\":null,\"nonselection_glyph\":{\"id\":\"3701\",\"type\":\"Line\"},\"selection_glyph\":null,\"view\":{\"id\":\"3703\",\"type\":\"CDSView\"}},\"id\":\"3702\",\"type\":\"GlyphRenderer\"},{\"attributes\":{\"line_alpha\":0.8,\"line_color\":\"#abdda4\",\"line_dash\":[4,4],\"line_width\":3,\"x\":{\"field\":\"x\"},\"y\":{\"field\":\"y\"}},\"id\":\"3700\",\"type\":\"Line\"},{\"attributes\":{\"callback\":null,\"data\":{\"x\":[0,1,2,3,4,5,6,7,8,9,10,11,12,13,14,15,16,17,18,19],\"y\":[0.7829833626747131,0.8603833317756653,0.8797500133514404,0.8906833529472351,0.897433340549469,0.9045500159263611,0.9092166423797607,0.913349986076355,0.91798335313797,0.9225500226020813,0.9279166460037231,0.9324333071708679,0.9361666440963745,0.9389166831970215,0.9426000118255615,0.9459499716758728,0.9491833448410034,0.9532166719436646,0.9547333121299744,0.958466649055481]},\"selected\":{\"id\":\"3947\",\"type\":\"Selection\"},\"selection_policy\":{\"id\":\"3946\",\"type\":\"UnionRenderers\"}},\"id\":\"3727\",\"type\":\"ColumnDataSource\"},{\"attributes\":{},\"id\":\"3675\",\"type\":\"SaveTool\"},{\"attributes\":{\"data_source\":{\"id\":\"3712\",\"type\":\"ColumnDataSource\"},\"glyph\":{\"id\":\"3713\",\"type\":\"Line\"},\"hover_glyph\":null,\"muted_glyph\":null,\"nonselection_glyph\":{\"id\":\"3714\",\"type\":\"Line\"},\"selection_glyph\":null,\"view\":{\"id\":\"3716\",\"type\":\"CDSView\"}},\"id\":\"3715\",\"type\":\"GlyphRenderer\"},{\"attributes\":{\"line_alpha\":0.1,\"line_color\":\"#1f77b4\",\"line_dash\":[4,4],\"line_width\":3,\"x\":{\"field\":\"x\"},\"y\":{\"field\":\"y\"}},\"id\":\"3729\",\"type\":\"Line\"},{\"attributes\":{\"line_alpha\":0.1,\"line_color\":\"#1f77b4\",\"line_dash\":[4,4],\"line_width\":3,\"x\":{\"field\":\"x\"},\"y\":{\"field\":\"y\"}},\"id\":\"3701\",\"type\":\"Line\"},{\"attributes\":{\"label\":{\"value\":\"accuracy\"},\"renderers\":[{\"id\":\"3730\",\"type\":\"GlyphRenderer\"}]},\"id\":\"3743\",\"type\":\"LegendItem\"},{\"attributes\":{\"interval\":1},\"id\":\"3685\",\"type\":\"SingleIntervalTicker\"},{\"attributes\":{\"callback\":null,\"data\":{\"x\":[0,1,2,3,4,5,6,7,8,9,10,11,12,13,14,15,16,17,18,19],\"y\":[0.8409000039100647,0.8737000226974487,0.8751999735832214,0.8809000253677368,0.8863000273704529,0.887499988079071,0.9002000093460083,0.9000999927520752,0.8985999822616577,0.8996000289916992,0.9075999855995178,0.9052000045776367,0.9111999869346619,0.9082000255584717,0.9018999934196472,0.907800018787384,0.9089000225067139,0.9071999788284302,0.9126999974250793,0.9114999771118164]},\"selected\":{\"id\":\"3724\",\"type\":\"Selection\"},\"selection_policy\":{\"id\":\"3723\",\"type\":\"UnionRenderers\"}},\"id\":\"3699\",\"type\":\"ColumnDataSource\"},{\"attributes\":{\"overlay\":{\"id\":\"3696\",\"type\":\"BoxAnnotation\"}},\"id\":\"3674\",\"type\":\"BoxZoomTool\"},{\"attributes\":{},\"id\":\"3658\",\"type\":\"LinearScale\"},{\"attributes\":{},\"id\":\"3672\",\"type\":\"PanTool\"},{\"attributes\":{},\"id\":\"3676\",\"type\":\"ResetTool\"},{\"attributes\":{},\"id\":\"3946\",\"type\":\"UnionRenderers\"},{\"attributes\":{},\"id\":\"3673\",\"type\":\"WheelZoomTool\"},{\"attributes\":{},\"id\":\"3947\",\"type\":\"Selection\"},{\"attributes\":{\"ticker\":{\"id\":\"3663\",\"type\":\"BasicTicker\"}},\"id\":\"3666\",\"type\":\"Grid\"},{\"attributes\":{\"callback\":null,\"data\":{\"x\":[0,1,2,3,4,5,6,7,8,9,10,11,12,13,14,15,16,17,18,19],\"y\":[0.5967867567698161,0.38713749362627664,0.331990264638265,0.3000492730220159,0.2793636333942413,0.2591633581797282,0.2443582500298818,0.23066716643571852,0.2179431585152944,0.20828221647739412,0.19389047791957856,0.18209162560304007,0.1703295248190562,0.16443812463680904,0.15324498267173767,0.1441092784881592,0.13614131707350413,0.12751208006540934,0.12077748508453369,0.11105332517226538]},\"selected\":{\"id\":\"3741\",\"type\":\"Selection\"},\"selection_policy\":{\"id\":\"3740\",\"type\":\"UnionRenderers\"}},\"id\":\"3712\",\"type\":\"ColumnDataSource\"},{\"attributes\":{\"dimension\":1,\"ticker\":{\"id\":\"3668\",\"type\":\"BasicTicker\"}},\"id\":\"3671\",\"type\":\"Grid\"},{\"attributes\":{},\"id\":\"3668\",\"type\":\"BasicTicker\"},{\"attributes\":{\"callback\":null},\"id\":\"3654\",\"type\":\"DataRange1d\"},{\"attributes\":{},\"id\":\"3724\",\"type\":\"Selection\"},{\"attributes\":{\"source\":{\"id\":\"3712\",\"type\":\"ColumnDataSource\"}},\"id\":\"3716\",\"type\":\"CDSView\"},{\"attributes\":{},\"id\":\"3709\",\"type\":\"Selection\"},{\"attributes\":{},\"id\":\"3741\",\"type\":\"Selection\"},{\"attributes\":{},\"id\":\"3660\",\"type\":\"LinearScale\"},{\"attributes\":{\"axis_label\":\"Epoch\",\"formatter\":{\"id\":\"3695\",\"type\":\"BasicTickFormatter\"},\"major_label_standoff\":1,\"ticker\":{\"id\":\"3685\",\"type\":\"SingleIntervalTicker\"}},\"id\":\"3662\",\"type\":\"LinearAxis\"},{\"attributes\":{\"label\":{\"value\":\"val_loss\"},\"renderers\":[{\"id\":\"3690\",\"type\":\"GlyphRenderer\"}]},\"id\":\"3698\",\"type\":\"LegendItem\"},{\"attributes\":{\"callback\":null,\"data\":{\"x\":[0,1,2,3,4,5,6,7,8,9,10,11,12,13,14,15,16,17,18,19],\"y\":[0.44388666391372683,0.35543609714508057,0.33576920541524885,0.3306941831827164,0.31693902860879897,0.30258406126499177,0.2769366592168808,0.2760983143210411,0.28083083831071853,0.2780411989450455,0.25611078988313674,0.2704750401377678,0.26154964315891266,0.2607323909878731,0.2817035044670105,0.2777543478488922,0.29167487421035765,0.30904210662841797,0.28462949116230013,0.2949613722324371]},\"selected\":{\"id\":\"3709\",\"type\":\"Selection\"},\"selection_policy\":{\"id\":\"3708\",\"type\":\"UnionRenderers\"}},\"id\":\"3687\",\"type\":\"ColumnDataSource\"},{\"attributes\":{\"active_drag\":\"auto\",\"active_inspect\":\"auto\",\"active_multi\":null,\"active_scroll\":\"auto\",\"active_tap\":\"auto\",\"tools\":[{\"id\":\"3672\",\"type\":\"PanTool\"},{\"id\":\"3673\",\"type\":\"WheelZoomTool\"},{\"id\":\"3674\",\"type\":\"BoxZoomTool\"},{\"id\":\"3675\",\"type\":\"SaveTool\"},{\"id\":\"3676\",\"type\":\"ResetTool\"},{\"id\":\"3677\",\"type\":\"HelpTool\"}]},\"id\":\"3678\",\"type\":\"Toolbar\"},{\"attributes\":{\"line_alpha\":0.8,\"line_color\":\"#fdae61\",\"line_dash\":[4,4],\"line_width\":3,\"x\":{\"field\":\"x\"},\"y\":{\"field\":\"y\"}},\"id\":\"3713\",\"type\":\"Line\"},{\"attributes\":{\"source\":{\"id\":\"3699\",\"type\":\"ColumnDataSource\"}},\"id\":\"3703\",\"type\":\"CDSView\"},{\"attributes\":{\"line_alpha\":0.1,\"line_color\":\"#1f77b4\",\"line_dash\":[4,4],\"line_width\":3,\"x\":{\"field\":\"x\"},\"y\":{\"field\":\"y\"}},\"id\":\"3714\",\"type\":\"Line\"},{\"attributes\":{\"source\":{\"id\":\"3687\",\"type\":\"ColumnDataSource\"}},\"id\":\"3691\",\"type\":\"CDSView\"},{\"attributes\":{\"callback\":null},\"id\":\"3656\",\"type\":\"DataRange1d\"},{\"attributes\":{\"line_alpha\":0.8,\"line_color\":\"#d7191c\",\"line_dash\":[4,4],\"line_width\":3,\"x\":{\"field\":\"x\"},\"y\":{\"field\":\"y\"}},\"id\":\"3728\",\"type\":\"Line\"},{\"attributes\":{},\"id\":\"3663\",\"type\":\"BasicTicker\"},{\"attributes\":{\"data_source\":{\"id\":\"3687\",\"type\":\"ColumnDataSource\"},\"glyph\":{\"id\":\"3688\",\"type\":\"Line\"},\"hover_glyph\":null,\"muted_glyph\":null,\"nonselection_glyph\":{\"id\":\"3689\",\"type\":\"Line\"},\"selection_glyph\":null,\"view\":{\"id\":\"3691\",\"type\":\"CDSView\"}},\"id\":\"3690\",\"type\":\"GlyphRenderer\"},{\"attributes\":{},\"id\":\"3693\",\"type\":\"BasicTickFormatter\"},{\"attributes\":{},\"id\":\"3740\",\"type\":\"UnionRenderers\"},{\"attributes\":{\"data_source\":{\"id\":\"3727\",\"type\":\"ColumnDataSource\"},\"glyph\":{\"id\":\"3728\",\"type\":\"Line\"},\"hover_glyph\":null,\"muted_glyph\":null,\"nonselection_glyph\":{\"id\":\"3729\",\"type\":\"Line\"},\"selection_glyph\":null,\"view\":{\"id\":\"3731\",\"type\":\"CDSView\"}},\"id\":\"3730\",\"type\":\"GlyphRenderer\"}],\"root_ids\":[\"3651\"]},\"title\":\"Bokeh Application\",\"version\":\"1.4.0\"}};\n",
       "  var render_items = [{\"docid\":\"845d328e-f977-4988-a5a1-8931e5c77f2d\",\"roots\":{\"3651\":\"28af89ce-85e8-4458-b78f-6a9d37275c9b\"}}];\n",
       "  root.Bokeh.embed.embed_items_notebook(docs_json, render_items);\n",
       "\n",
       "  }\n",
       "  if (root.Bokeh !== undefined) {\n",
       "    embed_document(root);\n",
       "  } else {\n",
       "    var attempts = 0;\n",
       "    var timer = setInterval(function(root) {\n",
       "      if (root.Bokeh !== undefined) {\n",
       "        clearInterval(timer);\n",
       "        embed_document(root);\n",
       "      } else {\n",
       "        attempts++;\n",
       "        if (attempts > 100) {\n",
       "          clearInterval(timer);\n",
       "          console.log(\"Bokeh: ERROR: Unable to run BokehJS code because BokehJS library is missing\");\n",
       "        }\n",
       "      }\n",
       "    }, 10, root)\n",
       "  }\n",
       "})(window);"
      ],
      "application/vnd.bokehjs_exec.v0+json": ""
     },
     "metadata": {
      "application/vnd.bokehjs_exec.v0+json": {
       "id": "3651"
      }
     },
     "output_type": "display_data"
    }
   ],
   "source": [
    "x = np.arange(len(history.history['loss']))\n",
    "p = None\n",
    "title = 'Training performance of CNN'\n",
    "for color, (legend, y) in zip(Spectral4, history.history.items()):\n",
    "    p = linechart(x, y, line_color=color, legend_label=legend, p=p, title=title)\n",
    "show(p)"
   ]
  },
  {
   "cell_type": "code",
   "execution_count": 38,
   "metadata": {},
   "outputs": [
    {
     "name": "stdout",
     "output_type": "stream",
     "text": [
      "Train on 60000 samples, validate on 10000 samples\n",
      "Epoch 1/20\n",
      " - 2s - loss: 0.5288 - accuracy: 0.8166 - val_loss: 0.4443 - val_accuracy: 0.8431\n",
      "Epoch 2/20\n",
      " - 2s - loss: 0.3829 - accuracy: 0.8624 - val_loss: 0.3844 - val_accuracy: 0.8631\n",
      "Epoch 3/20\n",
      " - 2s - loss: 0.3416 - accuracy: 0.8753 - val_loss: 0.3697 - val_accuracy: 0.8665\n",
      "Epoch 4/20\n",
      " - 2s - loss: 0.3176 - accuracy: 0.8831 - val_loss: 0.3764 - val_accuracy: 0.8632\n",
      "Epoch 5/20\n",
      " - 1s - loss: 0.2984 - accuracy: 0.8896 - val_loss: 0.3423 - val_accuracy: 0.8793\n",
      "Epoch 6/20\n",
      " - 2s - loss: 0.2868 - accuracy: 0.8944 - val_loss: 0.3516 - val_accuracy: 0.8760\n",
      "Epoch 7/20\n",
      " - 1s - loss: 0.2720 - accuracy: 0.8991 - val_loss: 0.3571 - val_accuracy: 0.8690\n",
      "Epoch 8/20\n",
      " - 2s - loss: 0.2599 - accuracy: 0.9040 - val_loss: 0.3310 - val_accuracy: 0.8788\n",
      "Epoch 9/20\n",
      " - 1s - loss: 0.2485 - accuracy: 0.9064 - val_loss: 0.3357 - val_accuracy: 0.8841\n",
      "Epoch 10/20\n",
      " - 2s - loss: 0.2388 - accuracy: 0.9106 - val_loss: 0.3402 - val_accuracy: 0.8821\n",
      "Epoch 11/20\n",
      " - 1s - loss: 0.2307 - accuracy: 0.9139 - val_loss: 0.3333 - val_accuracy: 0.8845\n",
      "Epoch 12/20\n",
      " - 1s - loss: 0.2243 - accuracy: 0.9175 - val_loss: 0.3095 - val_accuracy: 0.8884\n",
      "Epoch 13/20\n",
      " - 1s - loss: 0.2166 - accuracy: 0.9181 - val_loss: 0.3203 - val_accuracy: 0.8870\n",
      "Epoch 14/20\n",
      " - 2s - loss: 0.2089 - accuracy: 0.9218 - val_loss: 0.3492 - val_accuracy: 0.8805\n",
      "Epoch 15/20\n",
      " - 2s - loss: 0.2021 - accuracy: 0.9236 - val_loss: 0.3380 - val_accuracy: 0.8840\n",
      "Epoch 16/20\n",
      " - 2s - loss: 0.1963 - accuracy: 0.9265 - val_loss: 0.3283 - val_accuracy: 0.8867\n",
      "Epoch 17/20\n",
      " - 1s - loss: 0.1882 - accuracy: 0.9291 - val_loss: 0.3314 - val_accuracy: 0.8877\n",
      "Epoch 18/20\n",
      " - 2s - loss: 0.1879 - accuracy: 0.9291 - val_loss: 0.3425 - val_accuracy: 0.8899\n",
      "Epoch 19/20\n",
      " - 2s - loss: 0.1772 - accuracy: 0.9340 - val_loss: 0.3307 - val_accuracy: 0.8925\n",
      "Epoch 20/20\n",
      " - 1s - loss: 0.1744 - accuracy: 0.9339 - val_loss: 0.3432 - val_accuracy: 0.8855\n"
     ]
    }
   ],
   "source": [
    "ff = Sequential()\n",
    "ff.add(Dense(200, activation='relu', name='hidden_1', input_shape=(784,)))\n",
    "ff.add(Dense(50, activation='relu', name='hidden_2'))\n",
    "ff.add(Dense(n_classes, activation='softmax', name='output'))\n",
    "ff.compile(\n",
    "    loss = keras.losses.categorical_crossentropy,\n",
    "    optimizer = keras.optimizers.Adam(),\n",
    "    metrics = ['accuracy']\n",
    ")\n",
    "\n",
    "history = ff.fit(\n",
    "    train_X.reshape(train_X.shape[0],-1), train_y,\n",
    "    batch_size = batch_size,\n",
    "    epochs = epochs,\n",
    "    verbose = 2, # 0: silent, 1: progress bar, 2: one line per epoch\n",
    "    validation_data = (test_X.reshape(test_X.shape[0],-1), test_y)\n",
    ")"
   ]
  },
  {
   "cell_type": "code",
   "execution_count": 39,
   "metadata": {},
   "outputs": [
    {
     "data": {
      "text/html": [
       "\n",
       "\n",
       "\n",
       "\n",
       "\n",
       "\n",
       "  <div class=\"bk-root\" id=\"b666895e-d6e1-42ec-893f-a59042a90768\" data-root-id=\"4027\"></div>\n"
      ]
     },
     "metadata": {},
     "output_type": "display_data"
    },
    {
     "data": {
      "application/javascript": [
       "(function(root) {\n",
       "  function embed_document(root) {\n",
       "    \n",
       "  var docs_json = {\"f5d4b720-7310-4c6f-8014-61bbd1eda7b8\":{\"roots\":{\"references\":[{\"attributes\":{\"below\":[{\"id\":\"4038\",\"type\":\"LinearAxis\"}],\"center\":[{\"id\":\"4042\",\"type\":\"Grid\"},{\"id\":\"4047\",\"type\":\"Grid\"},{\"id\":\"4073\",\"type\":\"Legend\"}],\"left\":[{\"id\":\"4043\",\"type\":\"LinearAxis\"}],\"plot_height\":400,\"plot_width\":800,\"renderers\":[{\"id\":\"4066\",\"type\":\"GlyphRenderer\"},{\"id\":\"4078\",\"type\":\"GlyphRenderer\"},{\"id\":\"4091\",\"type\":\"GlyphRenderer\"},{\"id\":\"4106\",\"type\":\"GlyphRenderer\"}],\"title\":{\"id\":\"4028\",\"type\":\"Title\"},\"toolbar\":{\"id\":\"4054\",\"type\":\"Toolbar\"},\"x_range\":{\"id\":\"4030\",\"type\":\"DataRange1d\"},\"x_scale\":{\"id\":\"4034\",\"type\":\"LinearScale\"},\"y_range\":{\"id\":\"4032\",\"type\":\"DataRange1d\"},\"y_scale\":{\"id\":\"4036\",\"type\":\"LinearScale\"}},\"id\":\"4027\",\"subtype\":\"Figure\",\"type\":\"Plot\"},{\"attributes\":{\"callback\":null},\"id\":\"4030\",\"type\":\"DataRange1d\"},{\"attributes\":{\"label\":{\"value\":\"loss\"},\"renderers\":[{\"id\":\"4091\",\"type\":\"GlyphRenderer\"}]},\"id\":\"4102\",\"type\":\"LegendItem\"},{\"attributes\":{},\"id\":\"4052\",\"type\":\"ResetTool\"},{\"attributes\":{\"callback\":null},\"id\":\"4032\",\"type\":\"DataRange1d\"},{\"attributes\":{},\"id\":\"4049\",\"type\":\"WheelZoomTool\"},{\"attributes\":{\"label\":{\"value\":\"accuracy\"},\"renderers\":[{\"id\":\"4106\",\"type\":\"GlyphRenderer\"}]},\"id\":\"4119\",\"type\":\"LegendItem\"},{\"attributes\":{},\"id\":\"4335\",\"type\":\"UnionRenderers\"},{\"attributes\":{},\"id\":\"4036\",\"type\":\"LinearScale\"},{\"attributes\":{\"line_alpha\":0.8,\"line_color\":\"#abdda4\",\"line_dash\":[4,4],\"line_width\":3,\"x\":{\"field\":\"x\"},\"y\":{\"field\":\"y\"}},\"id\":\"4076\",\"type\":\"Line\"},{\"attributes\":{},\"id\":\"4069\",\"type\":\"BasicTickFormatter\"},{\"attributes\":{\"interval\":1},\"id\":\"4061\",\"type\":\"SingleIntervalTicker\"},{\"attributes\":{\"data_source\":{\"id\":\"4063\",\"type\":\"ColumnDataSource\"},\"glyph\":{\"id\":\"4064\",\"type\":\"Line\"},\"hover_glyph\":null,\"muted_glyph\":null,\"nonselection_glyph\":{\"id\":\"4065\",\"type\":\"Line\"},\"selection_glyph\":null,\"view\":{\"id\":\"4067\",\"type\":\"CDSView\"}},\"id\":\"4066\",\"type\":\"GlyphRenderer\"},{\"attributes\":{},\"id\":\"4100\",\"type\":\"Selection\"},{\"attributes\":{},\"id\":\"4053\",\"type\":\"HelpTool\"},{\"attributes\":{},\"id\":\"4044\",\"type\":\"BasicTicker\"},{\"attributes\":{},\"id\":\"4117\",\"type\":\"Selection\"},{\"attributes\":{},\"id\":\"4336\",\"type\":\"Selection\"},{\"attributes\":{\"data_source\":{\"id\":\"4075\",\"type\":\"ColumnDataSource\"},\"glyph\":{\"id\":\"4076\",\"type\":\"Line\"},\"hover_glyph\":null,\"muted_glyph\":null,\"nonselection_glyph\":{\"id\":\"4077\",\"type\":\"Line\"},\"selection_glyph\":null,\"view\":{\"id\":\"4079\",\"type\":\"CDSView\"}},\"id\":\"4078\",\"type\":\"GlyphRenderer\"},{\"attributes\":{\"axis_label\":\"Epoch\",\"formatter\":{\"id\":\"4071\",\"type\":\"BasicTickFormatter\"},\"major_label_standoff\":1,\"ticker\":{\"id\":\"4061\",\"type\":\"SingleIntervalTicker\"}},\"id\":\"4038\",\"type\":\"LinearAxis\"},{\"attributes\":{},\"id\":\"4071\",\"type\":\"BasicTickFormatter\"},{\"attributes\":{},\"id\":\"4051\",\"type\":\"SaveTool\"},{\"attributes\":{\"ticker\":{\"id\":\"4039\",\"type\":\"BasicTicker\"}},\"id\":\"4042\",\"type\":\"Grid\"},{\"attributes\":{},\"id\":\"4048\",\"type\":\"PanTool\"},{\"attributes\":{\"callback\":null,\"data\":{\"x\":[0,1,2,3,4,5,6,7,8,9,10,11,12,13,14,15,16,17,18,19],\"y\":[0.44432511973381045,0.38435309836864473,0.36968736259937285,0.3763523879051208,0.34230643427371976,0.3516320904254913,0.3571196648597717,0.33101171700954435,0.33573848028182984,0.3402485897541046,0.33334846868515017,0.30945800595283507,0.32026122164726256,0.34924165632724763,0.3380345846414566,0.3283033591032028,0.33141489489078524,0.34249413788318633,0.3306539714336395,0.34319481721520423]},\"selected\":{\"id\":\"4085\",\"type\":\"Selection\"},\"selection_policy\":{\"id\":\"4084\",\"type\":\"UnionRenderers\"}},\"id\":\"4063\",\"type\":\"ColumnDataSource\"},{\"attributes\":{\"callback\":null,\"data\":{\"x\":[0,1,2,3,4,5,6,7,8,9,10,11,12,13,14,15,16,17,18,19],\"y\":[0.8166499733924866,0.8623833060264587,0.8752833604812622,0.8830666542053223,0.8895833492279053,0.8943666815757751,0.8991333246231079,0.9040166735649109,0.9064333438873291,0.9106333255767822,0.9139333367347717,0.9174500107765198,0.9181333184242249,0.9217666387557983,0.923550009727478,0.9264833331108093,0.929099977016449,0.929099977016449,0.933983325958252,0.9339333176612854]},\"selected\":{\"id\":\"4336\",\"type\":\"Selection\"},\"selection_policy\":{\"id\":\"4335\",\"type\":\"UnionRenderers\"}},\"id\":\"4103\",\"type\":\"ColumnDataSource\"},{\"attributes\":{},\"id\":\"4085\",\"type\":\"Selection\"},{\"attributes\":{\"line_alpha\":0.8,\"line_color\":\"#2b83ba\",\"line_dash\":[4,4],\"line_width\":3,\"x\":{\"field\":\"x\"},\"y\":{\"field\":\"y\"}},\"id\":\"4064\",\"type\":\"Line\"},{\"attributes\":{\"line_alpha\":0.8,\"line_color\":\"#fdae61\",\"line_dash\":[4,4],\"line_width\":3,\"x\":{\"field\":\"x\"},\"y\":{\"field\":\"y\"}},\"id\":\"4089\",\"type\":\"Line\"},{\"attributes\":{\"source\":{\"id\":\"4063\",\"type\":\"ColumnDataSource\"}},\"id\":\"4067\",\"type\":\"CDSView\"},{\"attributes\":{\"source\":{\"id\":\"4103\",\"type\":\"ColumnDataSource\"}},\"id\":\"4107\",\"type\":\"CDSView\"},{\"attributes\":{\"label\":{\"value\":\"val_loss\"},\"renderers\":[{\"id\":\"4066\",\"type\":\"GlyphRenderer\"}]},\"id\":\"4074\",\"type\":\"LegendItem\"},{\"attributes\":{},\"id\":\"4116\",\"type\":\"UnionRenderers\"},{\"attributes\":{\"bottom_units\":\"screen\",\"fill_alpha\":{\"value\":0.5},\"fill_color\":{\"value\":\"lightgrey\"},\"left_units\":\"screen\",\"level\":\"overlay\",\"line_alpha\":{\"value\":1.0},\"line_color\":{\"value\":\"black\"},\"line_dash\":[4,4],\"line_width\":{\"value\":2},\"render_mode\":\"css\",\"right_units\":\"screen\",\"top_units\":\"screen\"},\"id\":\"4072\",\"type\":\"BoxAnnotation\"},{\"attributes\":{\"data_source\":{\"id\":\"4088\",\"type\":\"ColumnDataSource\"},\"glyph\":{\"id\":\"4089\",\"type\":\"Line\"},\"hover_glyph\":null,\"muted_glyph\":null,\"nonselection_glyph\":{\"id\":\"4090\",\"type\":\"Line\"},\"selection_glyph\":null,\"view\":{\"id\":\"4092\",\"type\":\"CDSView\"}},\"id\":\"4091\",\"type\":\"GlyphRenderer\"},{\"attributes\":{\"line_alpha\":0.1,\"line_color\":\"#1f77b4\",\"line_dash\":[4,4],\"line_width\":3,\"x\":{\"field\":\"x\"},\"y\":{\"field\":\"y\"}},\"id\":\"4105\",\"type\":\"Line\"},{\"attributes\":{},\"id\":\"4039\",\"type\":\"BasicTicker\"},{\"attributes\":{\"data_source\":{\"id\":\"4103\",\"type\":\"ColumnDataSource\"},\"glyph\":{\"id\":\"4104\",\"type\":\"Line\"},\"hover_glyph\":null,\"muted_glyph\":null,\"nonselection_glyph\":{\"id\":\"4105\",\"type\":\"Line\"},\"selection_glyph\":null,\"view\":{\"id\":\"4107\",\"type\":\"CDSView\"}},\"id\":\"4106\",\"type\":\"GlyphRenderer\"},{\"attributes\":{\"source\":{\"id\":\"4088\",\"type\":\"ColumnDataSource\"}},\"id\":\"4092\",\"type\":\"CDSView\"},{\"attributes\":{\"label\":{\"value\":\"val_accuracy\"},\"renderers\":[{\"id\":\"4078\",\"type\":\"GlyphRenderer\"}]},\"id\":\"4087\",\"type\":\"LegendItem\"},{\"attributes\":{\"line_alpha\":0.1,\"line_color\":\"#1f77b4\",\"line_dash\":[4,4],\"line_width\":3,\"x\":{\"field\":\"x\"},\"y\":{\"field\":\"y\"}},\"id\":\"4090\",\"type\":\"Line\"},{\"attributes\":{\"active_drag\":\"auto\",\"active_inspect\":\"auto\",\"active_multi\":null,\"active_scroll\":\"auto\",\"active_tap\":\"auto\",\"tools\":[{\"id\":\"4048\",\"type\":\"PanTool\"},{\"id\":\"4049\",\"type\":\"WheelZoomTool\"},{\"id\":\"4050\",\"type\":\"BoxZoomTool\"},{\"id\":\"4051\",\"type\":\"SaveTool\"},{\"id\":\"4052\",\"type\":\"ResetTool\"},{\"id\":\"4053\",\"type\":\"HelpTool\"}]},\"id\":\"4054\",\"type\":\"Toolbar\"},{\"attributes\":{},\"id\":\"4099\",\"type\":\"UnionRenderers\"},{\"attributes\":{},\"id\":\"4034\",\"type\":\"LinearScale\"},{\"attributes\":{\"line_alpha\":0.1,\"line_color\":\"#1f77b4\",\"line_dash\":[4,4],\"line_width\":3,\"x\":{\"field\":\"x\"},\"y\":{\"field\":\"y\"}},\"id\":\"4065\",\"type\":\"Line\"},{\"attributes\":{},\"id\":\"4084\",\"type\":\"UnionRenderers\"},{\"attributes\":{\"callback\":null,\"data\":{\"x\":[0,1,2,3,4,5,6,7,8,9,10,11,12,13,14,15,16,17,18,19],\"y\":[0.5288377476851145,0.38289446495374047,0.3415929174423218,0.31756762731870014,0.2984220932563146,0.28680515281359353,0.2720382640838623,0.2598818384885788,0.2484848342259725,0.2388186514457067,0.23073867869377135,0.22425240942637126,0.2165732942422231,0.2089374750773112,0.20213435339132946,0.19631637249787648,0.18818333346843719,0.18788049005667368,0.1771754334449768,0.17444409898519517]},\"selected\":{\"id\":\"4117\",\"type\":\"Selection\"},\"selection_policy\":{\"id\":\"4116\",\"type\":\"UnionRenderers\"}},\"id\":\"4088\",\"type\":\"ColumnDataSource\"},{\"attributes\":{\"dimension\":1,\"ticker\":{\"id\":\"4044\",\"type\":\"BasicTicker\"}},\"id\":\"4047\",\"type\":\"Grid\"},{\"attributes\":{\"overlay\":{\"id\":\"4072\",\"type\":\"BoxAnnotation\"}},\"id\":\"4050\",\"type\":\"BoxZoomTool\"},{\"attributes\":{\"items\":[{\"id\":\"4074\",\"type\":\"LegendItem\"},{\"id\":\"4087\",\"type\":\"LegendItem\"},{\"id\":\"4102\",\"type\":\"LegendItem\"},{\"id\":\"4119\",\"type\":\"LegendItem\"}]},\"id\":\"4073\",\"type\":\"Legend\"},{\"attributes\":{\"text\":\"Training performance of Feed-forward h=(200,50)\"},\"id\":\"4028\",\"type\":\"Title\"},{\"attributes\":{\"callback\":null,\"data\":{\"x\":[0,1,2,3,4,5,6,7,8,9,10,11,12,13,14,15,16,17,18,19],\"y\":[0.8431000113487244,0.863099992275238,0.8665000200271606,0.8632000088691711,0.8792999982833862,0.8759999871253967,0.8690000176429749,0.8787999749183655,0.8841000199317932,0.882099986076355,0.8845000267028809,0.8884000182151794,0.8870000243186951,0.8805000185966492,0.8840000033378601,0.8866999745368958,0.8877000212669373,0.8899000287055969,0.8924999833106995,0.8855000138282776]},\"selected\":{\"id\":\"4100\",\"type\":\"Selection\"},\"selection_policy\":{\"id\":\"4099\",\"type\":\"UnionRenderers\"}},\"id\":\"4075\",\"type\":\"ColumnDataSource\"},{\"attributes\":{\"formatter\":{\"id\":\"4069\",\"type\":\"BasicTickFormatter\"},\"ticker\":{\"id\":\"4044\",\"type\":\"BasicTicker\"}},\"id\":\"4043\",\"type\":\"LinearAxis\"},{\"attributes\":{\"line_alpha\":0.1,\"line_color\":\"#1f77b4\",\"line_dash\":[4,4],\"line_width\":3,\"x\":{\"field\":\"x\"},\"y\":{\"field\":\"y\"}},\"id\":\"4077\",\"type\":\"Line\"},{\"attributes\":{\"source\":{\"id\":\"4075\",\"type\":\"ColumnDataSource\"}},\"id\":\"4079\",\"type\":\"CDSView\"},{\"attributes\":{\"line_alpha\":0.8,\"line_color\":\"#d7191c\",\"line_dash\":[4,4],\"line_width\":3,\"x\":{\"field\":\"x\"},\"y\":{\"field\":\"y\"}},\"id\":\"4104\",\"type\":\"Line\"}],\"root_ids\":[\"4027\"]},\"title\":\"Bokeh Application\",\"version\":\"1.4.0\"}};\n",
       "  var render_items = [{\"docid\":\"f5d4b720-7310-4c6f-8014-61bbd1eda7b8\",\"roots\":{\"4027\":\"b666895e-d6e1-42ec-893f-a59042a90768\"}}];\n",
       "  root.Bokeh.embed.embed_items_notebook(docs_json, render_items);\n",
       "\n",
       "  }\n",
       "  if (root.Bokeh !== undefined) {\n",
       "    embed_document(root);\n",
       "  } else {\n",
       "    var attempts = 0;\n",
       "    var timer = setInterval(function(root) {\n",
       "      if (root.Bokeh !== undefined) {\n",
       "        clearInterval(timer);\n",
       "        embed_document(root);\n",
       "      } else {\n",
       "        attempts++;\n",
       "        if (attempts > 100) {\n",
       "          clearInterval(timer);\n",
       "          console.log(\"Bokeh: ERROR: Unable to run BokehJS code because BokehJS library is missing\");\n",
       "        }\n",
       "      }\n",
       "    }, 10, root)\n",
       "  }\n",
       "})(window);"
      ],
      "application/vnd.bokehjs_exec.v0+json": ""
     },
     "metadata": {
      "application/vnd.bokehjs_exec.v0+json": {
       "id": "4027"
      }
     },
     "output_type": "display_data"
    }
   ],
   "source": [
    "x = np.arange(len(history.history['loss']))\n",
    "p = None\n",
    "title = 'Training performance of Feed-forward h=(200,50)'\n",
    "for color, (legend, y) in zip(Spectral4, history.history.items()):\n",
    "    p = linechart(x, y, line_color=color, legend_label=legend, p=p, title=title)\n",
    "show(p)"
   ]
  },
  {
   "cell_type": "code",
   "execution_count": 40,
   "metadata": {},
   "outputs": [
    {
     "name": "stdout",
     "output_type": "stream",
     "text": [
      "Model: \"sequential_2\"\n",
      "_________________________________________________________________\n",
      "Layer (type)                 Output Shape              Param #   \n",
      "=================================================================\n",
      "hidden_1 (Dense)             (None, 200)               157000    \n",
      "_________________________________________________________________\n",
      "hidden_2 (Dense)             (None, 50)                10050     \n",
      "_________________________________________________________________\n",
      "output (Dense)               (None, 10)                510       \n",
      "=================================================================\n",
      "Total params: 167,560\n",
      "Trainable params: 167,560\n",
      "Non-trainable params: 0\n",
      "_________________________________________________________________\n"
     ]
    }
   ],
   "source": [
    "ff.summary()"
   ]
  },
  {
   "cell_type": "code",
   "execution_count": 41,
   "metadata": {},
   "outputs": [
    {
     "name": "stdout",
     "output_type": "stream",
     "text": [
      "[hidden_1 ] weights: (784, 200), bias: (200,)\n",
      "[hidden_2 ] weights: (200, 50), bias: (50,)\n",
      "[output   ] weights: (50, 10), bias: (10,)\n"
     ]
    }
   ],
   "source": [
    "for layer in ff.layers:\n",
    "    name = layer.name\n",
    "    weights = layer.weights[0].numpy()\n",
    "    bias = layer.bias.numpy()\n",
    "    print(f'[{name:9}] weights: {weights.shape}, bias: {bias.shape}')"
   ]
  },
  {
   "cell_type": "code",
   "execution_count": 46,
   "metadata": {},
   "outputs": [],
   "source": [
    "ff.save('keras_ff.h5')"
   ]
  },
  {
   "cell_type": "code",
   "execution_count": 47,
   "metadata": {},
   "outputs": [
    {
     "data": {
      "text/plain": [
       "[0.34319481167793275, 0.8855000138282776]"
      ]
     },
     "execution_count": 47,
     "metadata": {},
     "output_type": "execute_result"
    }
   ],
   "source": [
    "from keras.models import load_model\n",
    "\n",
    "ff_loaded = load_model('keras_ff.h5')\n",
    "ff_loaded.evaluate(\n",
    "    test_X.reshape(test_X.shape[0],-1), test_y,\n",
    "    verbose = 0\n",
    ")"
   ]
  },
  {
   "cell_type": "code",
   "execution_count": null,
   "metadata": {},
   "outputs": [],
   "source": []
  }
 ],
 "metadata": {
  "kernelspec": {
   "display_name": "Python 3",
   "language": "python",
   "name": "python3"
  },
  "language_info": {
   "codemirror_mode": {
    "name": "ipython",
    "version": 3
   },
   "file_extension": ".py",
   "mimetype": "text/x-python",
   "name": "python",
   "nbconvert_exporter": "python",
   "pygments_lexer": "ipython3",
   "version": "3.7.6"
  }
 },
 "nbformat": 4,
 "nbformat_minor": 2
}
