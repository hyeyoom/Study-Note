{
 "cells": [
  {
   "cell_type": "code",
   "execution_count": 1,
   "metadata": {},
   "outputs": [
    {
     "name": "stdout",
     "output_type": "stream",
     "text": [
      "seaborn==0.9.0\n",
      "scikit-learn==0.22\n",
      "soydata==0.1.0\n"
     ]
    }
   ],
   "source": [
    "import numpy as np\n",
    "import pandas as pd\n",
    "import seaborn as sns\n",
    "import sklearn\n",
    "import soydata\n",
    "from soydata.data.regression import make_linear_regression_data\n",
    "\n",
    "print(f'seaborn=={sns.__version__}')\n",
    "print(f'scikit-learn=={sklearn.__version__}')\n",
    "print(f'soydata=={soydata.__version__}')"
   ]
  },
  {
   "cell_type": "code",
   "execution_count": 2,
   "metadata": {},
   "outputs": [],
   "source": [
    "X_raw, y, y_true = make_linear_regression_data(n_samples=100,\n",
    "    a=1.0, b=-0.5, noise=1, x_range=(-1, 1), seed=0)\n",
    "\n"
   ]
  },
  {
   "cell_type": "code",
   "execution_count": 3,
   "metadata": {},
   "outputs": [
    {
     "name": "stdout",
     "output_type": "stream",
     "text": [
      "(100,)\n",
      "(100,)\n",
      "(100,)\n"
     ]
    }
   ],
   "source": [
    "print(X_raw.shape)\n",
    "print(y.shape)\n",
    "print(y_true.shape)"
   ]
  },
  {
   "cell_type": "markdown",
   "metadata": {},
   "source": [
    "# Drawing Scatter Plot"
   ]
  },
  {
   "cell_type": "code",
   "execution_count": 4,
   "metadata": {},
   "outputs": [
    {
     "data": {
      "image/png": "[encoded data removed]",
      "text/plain": [
       "<Figure size 432x288 with 1 Axes>"
      ]
     },
     "metadata": {
      "needs_background": "light"
     },
     "output_type": "display_data"
    }
   ],
   "source": [
    "fig = sns.scatterplot(x=X_raw, y=y)"
   ]
  },
  {
   "cell_type": "code",
   "execution_count": 5,
   "metadata": {},
   "outputs": [
    {
     "name": "stdout",
     "output_type": "stream",
     "text": [
      "<class 'matplotlib.axes._subplots.AxesSubplot'>\n"
     ]
    },
    {
     "data": {
      "image/png": "[encoded data removed]",
      "text/plain": [
       "<Figure size 432x288 with 1 Axes>"
      ]
     },
     "metadata": {
      "needs_background": "light"
     },
     "output_type": "display_data"
    }
   ],
   "source": [
    "fig2 = sns.scatterplot(x=X_raw, y=y_true)\n",
    "print(type(fig2))"
   ]
  },
  {
   "cell_type": "markdown",
   "metadata": {},
   "source": [
    "# Numpy Tips\n",
    "\n",
    "[0, 1, 2] + [3, 4]를 [0, 1, 2, 3, 4] 형태로 병합할 수 있다"
   ]
  },
  {
   "cell_type": "code",
   "execution_count": 6,
   "metadata": {},
   "outputs": [
    {
     "name": "stdout",
     "output_type": "stream",
     "text": [
      "(200,) (200,)\n"
     ]
    }
   ],
   "source": [
    "n_data = X_raw.shape[0]\n",
    "dataset_x = np.concatenate([X_raw, X_raw])\n",
    "dataset_y = np.concatenate([y, y_true])\n",
    "dataset_category = ['sample'] * n_data + ['true'] * n_data\n",
    "\n",
    "print(dataset_x.shape, dataset_y.shape)"
   ]
  },
  {
   "cell_type": "markdown",
   "metadata": {},
   "source": [
    "## python dict를 Pandas Dataframe으로 변환"
   ]
  },
  {
   "cell_type": "code",
   "execution_count": 7,
   "metadata": {},
   "outputs": [
    {
     "data": {
      "text/html": [
       "<div>\n",
       "<style scoped>\n",
       "    .dataframe tbody tr th:only-of-type {\n",
       "        vertical-align: middle;\n",
       "    }\n",
       "\n",
       "    .dataframe tbody tr th {\n",
       "        vertical-align: top;\n",
       "    }\n",
       "\n",
       "    .dataframe thead th {\n",
       "        text-align: right;\n",
       "    }\n",
       "</style>\n",
       "<table border=\"1\" class=\"dataframe\">\n",
       "  <thead>\n",
       "    <tr style=\"text-align: right;\">\n",
       "      <th></th>\n",
       "      <th>x</th>\n",
       "      <th>y</th>\n",
       "      <th>category</th>\n",
       "    </tr>\n",
       "  </thead>\n",
       "  <tbody>\n",
       "    <tr>\n",
       "      <th>0</th>\n",
       "      <td>0.097627</td>\n",
       "      <td>-0.224556</td>\n",
       "      <td>sample</td>\n",
       "    </tr>\n",
       "    <tr>\n",
       "      <th>1</th>\n",
       "      <td>0.430379</td>\n",
       "      <td>-0.299613</td>\n",
       "      <td>sample</td>\n",
       "    </tr>\n",
       "    <tr>\n",
       "      <th>2</th>\n",
       "      <td>0.205527</td>\n",
       "      <td>-0.059279</td>\n",
       "      <td>sample</td>\n",
       "    </tr>\n",
       "  </tbody>\n",
       "</table>\n",
       "</div>"
      ],
      "text/plain": [
       "          x         y category\n",
       "0  0.097627 -0.224556   sample\n",
       "1  0.430379 -0.299613   sample\n",
       "2  0.205527 -0.059279   sample"
      ]
     },
     "execution_count": 7,
     "metadata": {},
     "output_type": "execute_result"
    }
   ],
   "source": [
    "dataset = {\n",
    "    'x': dataset_x,\n",
    "    'y': dataset_y,\n",
    "    'category': dataset_category\n",
    "}\n",
    "\n",
    "source = pd.DataFrame(dataset)\n",
    "source.head(3)"
   ]
  },
  {
   "cell_type": "markdown",
   "metadata": {},
   "source": [
    "# Differences between scatterplot and replot in seaborn"
   ]
  },
  {
   "cell_type": "code",
   "execution_count": 8,
   "metadata": {},
   "outputs": [
    {
     "name": "stdout",
     "output_type": "stream",
     "text": [
      "<class 'seaborn.axisgrid.FacetGrid'>\n"
     ]
    },
    {
     "data": {
      "image/png": "[encoded data removed]",
      "text/plain": [
       "<Figure size 440x360 with 1 Axes>"
      ]
     },
     "metadata": {
      "needs_background": "light"
     },
     "output_type": "display_data"
    }
   ],
   "source": [
    "fig3 = sns.relplot(x='x', y='y', hue='category', kind='scatter', data=source)\n",
    "print(type(fig3))"
   ]
  },
  {
   "cell_type": "code",
   "execution_count": 11,
   "metadata": {},
   "outputs": [],
   "source": [
    "from sklearn.linear_model import LinearRegression\n",
    "\n",
    "linear_regression = LinearRegression(fit_intercept=True)"
   ]
  },
  {
   "cell_type": "markdown",
   "metadata": {},
   "source": [
    "**LinearRegression**에는 2차원 이상의 벡터들이 학습에 사용될 수 있다.  \n",
    "따라서 입력 데이터는 칼럼 벡터가 아닌 행렬 형태로 받는다.  \n",
    "칼럼 벡터는 shape = (n, 1) 형식으로 `reshape` 가능  "
   ]
  },
  {
   "cell_type": "code",
   "execution_count": 12,
   "metadata": {},
   "outputs": [
    {
     "data": {
      "text/plain": [
       "LinearRegression(copy_X=True, fit_intercept=True, n_jobs=None, normalize=False)"
      ]
     },
     "execution_count": 12,
     "metadata": {},
     "output_type": "execute_result"
    }
   ],
   "source": [
    "X = X_raw.reshape(-1, 1) # column vector to matrix\n",
    "linear_regression.fit(X, y)"
   ]
  },
  {
   "cell_type": "markdown",
   "metadata": {},
   "source": [
    "predict() 함수는 학습된 모델로 예측을 수행한다.  \n",
    "LogisticRegression 등의 대부분의 sckit-learn 구현 모델에는 `fit_predict()` 함수가 제공된다.  "
   ]
  },
  {
   "cell_type": "code",
   "execution_count": 13,
   "metadata": {},
   "outputs": [],
   "source": [
    "y_pred = linear_regression.predict(X)"
   ]
  },
  {
   "cell_type": "code",
   "execution_count": 14,
   "metadata": {},
   "outputs": [
    {
     "data": {
      "text/html": [
       "<div>\n",
       "<style scoped>\n",
       "    .dataframe tbody tr th:only-of-type {\n",
       "        vertical-align: middle;\n",
       "    }\n",
       "\n",
       "    .dataframe tbody tr th {\n",
       "        vertical-align: top;\n",
       "    }\n",
       "\n",
       "    .dataframe thead th {\n",
       "        text-align: right;\n",
       "    }\n",
       "</style>\n",
       "<table border=\"1\" class=\"dataframe\">\n",
       "  <thead>\n",
       "    <tr style=\"text-align: right;\">\n",
       "      <th></th>\n",
       "      <th>x</th>\n",
       "      <th>y</th>\n",
       "      <th>category</th>\n",
       "    </tr>\n",
       "  </thead>\n",
       "  <tbody>\n",
       "    <tr>\n",
       "      <th>295</th>\n",
       "      <td>-0.633617</td>\n",
       "      <td>-1.087161</td>\n",
       "      <td>prediction</td>\n",
       "    </tr>\n",
       "    <tr>\n",
       "      <th>296</th>\n",
       "      <td>0.173026</td>\n",
       "      <td>-0.306108</td>\n",
       "      <td>prediction</td>\n",
       "    </tr>\n",
       "    <tr>\n",
       "      <th>297</th>\n",
       "      <td>-0.959785</td>\n",
       "      <td>-1.402981</td>\n",
       "      <td>prediction</td>\n",
       "    </tr>\n",
       "    <tr>\n",
       "      <th>298</th>\n",
       "      <td>0.657880</td>\n",
       "      <td>0.163365</td>\n",
       "      <td>prediction</td>\n",
       "    </tr>\n",
       "    <tr>\n",
       "      <th>299</th>\n",
       "      <td>-0.990609</td>\n",
       "      <td>-1.432827</td>\n",
       "      <td>prediction</td>\n",
       "    </tr>\n",
       "  </tbody>\n",
       "</table>\n",
       "</div>"
      ],
      "text/plain": [
       "            x         y    category\n",
       "295 -0.633617 -1.087161  prediction\n",
       "296  0.173026 -0.306108  prediction\n",
       "297 -0.959785 -1.402981  prediction\n",
       "298  0.657880  0.163365  prediction\n",
       "299 -0.990609 -1.432827  prediction"
      ]
     },
     "execution_count": 14,
     "metadata": {},
     "output_type": "execute_result"
    }
   ],
   "source": [
    "dataset = {\n",
    "    'x': np.concatenate([dataset_x, X_raw]),\n",
    "    'y': np.concatenate([dataset_y, y_pred]),\n",
    "    'category': dataset_category + ['prediction'] * n_data\n",
    "}\n",
    "\n",
    "source = pd.DataFrame(dataset)\n",
    "source.tail()"
   ]
  },
  {
   "cell_type": "code",
   "execution_count": 15,
   "metadata": {},
   "outputs": [
    {
     "data": {
      "text/plain": [
       "array(['sample', 'true', 'prediction'], dtype=object)"
      ]
     },
     "execution_count": 15,
     "metadata": {},
     "output_type": "execute_result"
    }
   ],
   "source": [
    "source['category'].unique()"
   ]
  },
  {
   "cell_type": "code",
   "execution_count": 16,
   "metadata": {},
   "outputs": [
    {
     "data": {
      "image/png": "[encoded data removed]",
      "text/plain": [
       "<Figure size 446.375x360 with 1 Axes>"
      ]
     },
     "metadata": {
      "needs_background": "light"
     },
     "output_type": "display_data"
    }
   ],
   "source": [
    "fig4 = sns.relplot(x='x', y='y', hue='category', kind='scatter', data=source)"
   ]
  },
  {
   "cell_type": "markdown",
   "metadata": {},
   "source": [
    "모델의 파라미터 a, b는 각각 `intercept_`와 `coef_`에 저장되어 있다."
   ]
  },
  {
   "cell_type": "code",
   "execution_count": 17,
   "metadata": {},
   "outputs": [
    {
     "name": "stdout",
     "output_type": "stream",
     "text": [
      "a_est = [0.96827553], type = <class 'numpy.ndarray'>, shape = (1,)\n",
      "b_est = -0.474, type = <class 'numpy.float64'>, shape = ()\n"
     ]
    }
   ],
   "source": [
    "a_est = linear_regression.coef_\n",
    "b_est = linear_regression.intercept_\n",
    "\n",
    "print(f'a_est = {a_est}, type = {type(a_est)}, shape = {a_est.shape}')\n",
    "print(f'b_est = {b_est:.3}, type = {type(b_est)}, shape = {b_est.shape}')"
   ]
  },
  {
   "cell_type": "code",
   "execution_count": 18,
   "metadata": {},
   "outputs": [
    {
     "name": "stdout",
     "output_type": "stream",
     "text": [
      "[-0.22455646 -0.29961329 -0.05927923  0.05195491 -0.90393726 -0.13205444\n",
      " -0.53278365  0.35579791  0.15040715 -0.28036795  0.03057545 -0.09580149\n",
      " -0.1644316   0.14863023 -1.04413006 -1.42923566 -1.07846001  0.24651256\n",
      "  0.43804886  0.43255589  0.68249096  0.09964151 -0.12095764  0.20504855\n",
      " -1.3395961  -0.11376474 -1.69410023  0.19091265 -0.29612982 -0.88059851\n",
      " -0.85287335 -0.02276392 -0.95222527 -0.56484978 -1.39245549 -0.17385624\n",
      " -0.20148331 -0.11293119  0.53959943 -0.20494097 -0.3844376  -0.75837422\n",
      " -0.16887268 -0.9876257   0.13972742  0.04516432 -1.47900799 -0.82266479\n",
      " -0.654902   -0.27373145 -0.71015815 -0.25467092  0.13924061 -1.18035081\n",
      " -1.4584265  -0.82937273  0.11353561 -0.92431606 -0.66019516 -1.44198182\n",
      " -0.98463206 -1.32570703  0.03471478 -0.85725177 -0.63131377 -0.40674632\n",
      " -0.34629946 -1.44581938  0.40588038 -1.63617351  0.47395554 -1.00835961\n",
      "  0.1535187  -0.77178717  0.27222486 -1.69769973 -1.08903439 -0.83152558\n",
      " -0.7033052  -1.73070563 -1.19933948 -0.54999561 -1.29447642 -0.37716294\n",
      "  0.06741691 -0.85525506 -0.41787109 -1.222209   -0.11798498  0.17053739\n",
      " -0.96464103 -0.45533549 -1.55021127  0.3770268  -0.68163702 -1.14315847\n",
      " -0.5995595  -1.70542843 -0.28409078 -1.55619242]\n"
     ]
    }
   ],
   "source": [
    "print(y)"
   ]
  },
  {
   "cell_type": "code",
   "execution_count": 19,
   "metadata": {},
   "outputs": [
    {
     "name": "stdout",
     "output_type": "stream",
     "text": [
      "[-0.3791146  -0.05691925 -0.27463792 -0.38672587 -0.62149083 -0.19111305\n",
      " -0.59451     0.28504397  0.42426216 -0.6993659   0.09129599 -0.41768796\n",
      " -0.34187268  0.35054518 -1.30435502 -1.27318964 -1.40276602  0.17049087\n",
      "  0.06502031  0.24290297  0.45322441  0.10569139 -0.54824163  0.06961463\n",
      " -1.21287551 -0.20268024 -1.16430902  0.38747962 -0.43133406 -0.63890596\n",
      " -0.92959452  0.0574231  -0.55856157 -0.34111861 -1.40553257 -0.2458373\n",
      " -0.25656536 -0.24719579  0.38569637 -0.12154015 -0.74571457 -0.59558528\n",
      " -0.09092154 -1.32529027 -0.15069219 -0.1431955  -1.0345034  -1.19224762\n",
      " -0.83107687 -0.7375755  -0.33770482 -0.59254575  0.47211643 -1.24430499\n",
      " -1.03741947 -1.12953586 -0.17714236 -0.95140785 -0.53888535 -0.96857734\n",
      " -1.13406726 -1.22817288 -0.17090421 -1.17432163 -1.06122819 -0.72786486\n",
      "  0.14797533 -1.2538784   0.18080312 -1.2558205   0.44904364 -0.53435299\n",
      "  0.44962775 -0.27060574 -0.01029831 -1.36603082 -0.89424985 -1.2091532\n",
      " -0.86842936 -1.21199769 -0.82612931 -0.63967853 -1.31769507 -0.10091236\n",
      " -0.34466733 -0.92797968 -0.4286234  -1.25999938 -0.32657018  0.35770956\n",
      " -0.82499493 -0.1494457  -1.18668669 -0.05471577 -0.8814703  -1.08716055\n",
      " -0.30610773 -1.40298069  0.16336472 -1.43282695]\n"
     ]
    }
   ],
   "source": [
    "print(y_pred)"
   ]
  },
  {
   "cell_type": "code",
   "execution_count": 20,
   "metadata": {},
   "outputs": [],
   "source": [
    "# 잔차를 정의해보자\n",
    "residual = y - y_pred"
   ]
  },
  {
   "cell_type": "code",
   "execution_count": 22,
   "metadata": {},
   "outputs": [
    {
     "name": "stdout",
     "output_type": "stream",
     "text": [
      "[ 0.15455815 -0.24269404  0.2153587   0.43868078 -0.28244643  0.05905861\n",
      "  0.06172635  0.07075393 -0.27385501  0.41899795 -0.06072053  0.32188647\n",
      "  0.17744108 -0.20191495  0.26022496 -0.15604602  0.32430601  0.07602169\n",
      "  0.37302856  0.18965291  0.22926655 -0.00604988  0.42728399  0.13543392\n",
      " -0.12672059  0.0889155  -0.52979121 -0.19656697  0.13520424 -0.24169256\n",
      "  0.07672118 -0.08018702 -0.3936637  -0.22373117  0.01307708  0.07198105\n",
      "  0.05508205  0.1342646   0.15390306 -0.08340081  0.36127697 -0.16278894\n",
      " -0.07795114  0.33766457  0.29041961  0.18835982 -0.44450459  0.36958283\n",
      "  0.17617487  0.46384405 -0.37245334  0.33787483 -0.33287582  0.06395418\n",
      " -0.42100703  0.30016312  0.29067797  0.0270918  -0.1213098  -0.47340448\n",
      "  0.1494352  -0.09753416  0.20561899  0.31706986  0.42991442  0.32111854\n",
      " -0.49427479 -0.19194099  0.22507725 -0.380353    0.0249119  -0.47400661\n",
      " -0.29610904 -0.50118142  0.28252317 -0.33166891 -0.19478454  0.37762761\n",
      "  0.16512416 -0.51870795 -0.37321017  0.08968293  0.02321866 -0.27625058\n",
      "  0.41208424  0.07272461  0.01075231  0.03779038  0.2085852  -0.18717217\n",
      " -0.1396461  -0.30588979 -0.36352458  0.43174257  0.19983328 -0.05599792\n",
      " -0.29345177 -0.30244774 -0.4474555  -0.12336548]\n"
     ]
    }
   ],
   "source": [
    "print(residual)"
   ]
  },
  {
   "cell_type": "code",
   "execution_count": 23,
   "metadata": {},
   "outputs": [
    {
     "data": {
      "text/plain": [
       "array([ 0.15455815, -0.24269404,  0.2153587 ,  0.43868078, -0.28244643])"
      ]
     },
     "execution_count": 23,
     "metadata": {},
     "output_type": "execute_result"
    }
   ],
   "source": [
    "residual[:5]"
   ]
  },
  {
   "cell_type": "code",
   "execution_count": 24,
   "metadata": {},
   "outputs": [
    {
     "name": "stdout",
     "output_type": "stream",
     "text": [
      "[0.33333333 0.5        0.6       ]\n",
      "[1 4 9]\n",
      "[0.5 1.5 2.5]\n"
     ]
    }
   ],
   "source": [
    "print(np.array([1, 2, 3]) / np.array([3, 4, 5]))\n",
    "# [0.33333333 0.5        0.6       ]\n",
    "\n",
    "print(np.array([1, 2, 3]) ** 2)\n",
    "# [1 4 9]\n",
    "\n",
    "print(np.array([1, 2, 3]) - 0.5)\n",
    "# [0.5 1.5 2.5]"
   ]
  },
  {
   "cell_type": "code",
   "execution_count": 26,
   "metadata": {},
   "outputs": [
    {
     "name": "stdout",
     "output_type": "stream",
     "text": [
      "0.23709498511190305\n"
     ]
    }
   ],
   "source": [
    "# MAE(Mean Absolute Error)\n",
    "print(np.abs(residual).mean()) # residual = y - y_pred"
   ]
  },
  {
   "cell_type": "code",
   "execution_count": 30,
   "metadata": {},
   "outputs": [
    {
     "name": "stdout",
     "output_type": "stream",
     "text": [
      "0.9255390530290607\n"
     ]
    }
   ],
   "source": [
    "# MAPE(Mean Absolute Percentage Error)\n",
    "print(np.abs(residual / np.abs(y)).mean())"
   ]
  },
  {
   "cell_type": "code",
   "execution_count": 31,
   "metadata": {},
   "outputs": [
    {
     "name": "stdout",
     "output_type": "stream",
     "text": [
      "0.07623324582875006\n"
     ]
    }
   ],
   "source": [
    "# MSE(Mean Squared Error)\n",
    "print((residual ** 2).mean())"
   ]
  },
  {
   "cell_type": "code",
   "execution_count": 32,
   "metadata": {},
   "outputs": [
    {
     "name": "stdout",
     "output_type": "stream",
     "text": [
      "0.2761036867351649\n"
     ]
    }
   ],
   "source": [
    "# RMSE(Root Mean Squared Error)\n",
    "print(np.sqrt((residual ** 2).mean()))"
   ]
  },
  {
   "cell_type": "code",
   "execution_count": 34,
   "metadata": {},
   "outputs": [
    {
     "ename": "SyntaxError",
     "evalue": "invalid syntax (<ipython-input-34-510fac709ee5>, line 2)",
     "output_type": "error",
     "traceback": [
      "\u001b[0;36m  File \u001b[0;32m\"<ipython-input-34-510fac709ee5>\"\u001b[0;36m, line \u001b[0;32m2\u001b[0m\n\u001b[0;31m    ```\u001b[0m\n\u001b[0m    ^\u001b[0m\n\u001b[0;31mSyntaxError\u001b[0m\u001b[0;31m:\u001b[0m invalid syntax\n"
     ]
    }
   ],
   "source": [
    "# R-square\n",
    "'''\n",
    "분산 대비 잔차 비율\n",
    "따라서\n",
    "1 - sigma((y - y_pred)^2)\n",
    "'''\n",
    "print(1 - (residual ** 2).sum() / ((y - y.mean()) **2).sum())"
   ]
  },
  {
   "cell_type": "code",
   "execution_count": null,
   "metadata": {},
   "outputs": [],
   "source": []
  }
 ],
 "metadata": {
  "kernelspec": {
   "display_name": "Python 3",
   "language": "python",
   "name": "python3"
  },
  "language_info": {
   "codemirror_mode": {
    "name": "ipython",
    "version": 3
   },
   "file_extension": ".py",
   "mimetype": "text/x-python",
   "name": "python",
   "nbconvert_exporter": "python",
   "pygments_lexer": "ipython3",
   "version": "3.7.5"
  }
 },
 "nbformat": 4,
 "nbformat_minor": 2
}
